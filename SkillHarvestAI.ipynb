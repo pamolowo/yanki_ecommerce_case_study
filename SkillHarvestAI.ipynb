{
 "cells": [
  {
   "cell_type": "code",
   "execution_count": null,
   "id": "dcac4a36-01bc-423d-b8eb-c0be63ce40c8",
   "metadata": {},
   "outputs": [],
   "source": []
  },
  {
   "cell_type": "code",
   "execution_count": 1,
   "id": "984d89b4-8b53-4835-a1d7-5bc1c9b47407",
   "metadata": {},
   "outputs": [],
   "source": [
    "#!pip install seaborn\n",
    "#!pip install scikit-learn"
   ]
  },
  {
   "cell_type": "code",
   "execution_count": 2,
   "id": "3c965192-cb28-4bb5-b707-2aa6352c8556",
   "metadata": {},
   "outputs": [],
   "source": [
    "import pandas as pd\n",
    "import numpy as np\n",
    "import matplotlib.pyplot as plt\n",
    "import seaborn as sns\n"
   ]
  },
  {
   "cell_type": "code",
   "execution_count": 3,
   "id": "9444a69e-e550-40e3-9215-e3200e300e0c",
   "metadata": {},
   "outputs": [
    {
     "data": {
      "text/html": [
       "<div>\n",
       "<style scoped>\n",
       "    .dataframe tbody tr th:only-of-type {\n",
       "        vertical-align: middle;\n",
       "    }\n",
       "\n",
       "    .dataframe tbody tr th {\n",
       "        vertical-align: top;\n",
       "    }\n",
       "\n",
       "    .dataframe thead th {\n",
       "        text-align: right;\n",
       "    }\n",
       "</style>\n",
       "<table border=\"1\" class=\"dataframe\">\n",
       "  <thead>\n",
       "    <tr style=\"text-align: right;\">\n",
       "      <th></th>\n",
       "      <th>Id</th>\n",
       "      <th>SepalLengthCm</th>\n",
       "      <th>SepalWidthCm</th>\n",
       "      <th>PetalLengthCm</th>\n",
       "      <th>PetalWidthCm</th>\n",
       "      <th>Species</th>\n",
       "    </tr>\n",
       "  </thead>\n",
       "  <tbody>\n",
       "    <tr>\n",
       "      <th>0</th>\n",
       "      <td>1</td>\n",
       "      <td>5.1</td>\n",
       "      <td>3.5</td>\n",
       "      <td>1.4</td>\n",
       "      <td>0.2</td>\n",
       "      <td>Iris-setosa</td>\n",
       "    </tr>\n",
       "    <tr>\n",
       "      <th>1</th>\n",
       "      <td>2</td>\n",
       "      <td>4.9</td>\n",
       "      <td>3.0</td>\n",
       "      <td>1.4</td>\n",
       "      <td>0.2</td>\n",
       "      <td>Iris-setosa</td>\n",
       "    </tr>\n",
       "    <tr>\n",
       "      <th>2</th>\n",
       "      <td>3</td>\n",
       "      <td>4.7</td>\n",
       "      <td>3.2</td>\n",
       "      <td>1.3</td>\n",
       "      <td>0.2</td>\n",
       "      <td>Iris-setosa</td>\n",
       "    </tr>\n",
       "    <tr>\n",
       "      <th>3</th>\n",
       "      <td>4</td>\n",
       "      <td>4.6</td>\n",
       "      <td>3.1</td>\n",
       "      <td>1.5</td>\n",
       "      <td>0.2</td>\n",
       "      <td>Iris-setosa</td>\n",
       "    </tr>\n",
       "    <tr>\n",
       "      <th>4</th>\n",
       "      <td>5</td>\n",
       "      <td>5.0</td>\n",
       "      <td>3.6</td>\n",
       "      <td>1.4</td>\n",
       "      <td>0.2</td>\n",
       "      <td>Iris-setosa</td>\n",
       "    </tr>\n",
       "    <tr>\n",
       "      <th>...</th>\n",
       "      <td>...</td>\n",
       "      <td>...</td>\n",
       "      <td>...</td>\n",
       "      <td>...</td>\n",
       "      <td>...</td>\n",
       "      <td>...</td>\n",
       "    </tr>\n",
       "    <tr>\n",
       "      <th>145</th>\n",
       "      <td>146</td>\n",
       "      <td>6.7</td>\n",
       "      <td>3.0</td>\n",
       "      <td>5.2</td>\n",
       "      <td>2.3</td>\n",
       "      <td>Iris-virginica</td>\n",
       "    </tr>\n",
       "    <tr>\n",
       "      <th>146</th>\n",
       "      <td>147</td>\n",
       "      <td>6.3</td>\n",
       "      <td>2.5</td>\n",
       "      <td>5.0</td>\n",
       "      <td>1.9</td>\n",
       "      <td>Iris-virginica</td>\n",
       "    </tr>\n",
       "    <tr>\n",
       "      <th>147</th>\n",
       "      <td>148</td>\n",
       "      <td>6.5</td>\n",
       "      <td>3.0</td>\n",
       "      <td>5.2</td>\n",
       "      <td>2.0</td>\n",
       "      <td>Iris-virginica</td>\n",
       "    </tr>\n",
       "    <tr>\n",
       "      <th>148</th>\n",
       "      <td>149</td>\n",
       "      <td>6.2</td>\n",
       "      <td>3.4</td>\n",
       "      <td>5.4</td>\n",
       "      <td>2.3</td>\n",
       "      <td>Iris-virginica</td>\n",
       "    </tr>\n",
       "    <tr>\n",
       "      <th>149</th>\n",
       "      <td>150</td>\n",
       "      <td>5.9</td>\n",
       "      <td>3.0</td>\n",
       "      <td>5.1</td>\n",
       "      <td>1.8</td>\n",
       "      <td>Iris-virginica</td>\n",
       "    </tr>\n",
       "  </tbody>\n",
       "</table>\n",
       "<p>150 rows × 6 columns</p>\n",
       "</div>"
      ],
      "text/plain": [
       "      Id  SepalLengthCm  SepalWidthCm  PetalLengthCm  PetalWidthCm  \\\n",
       "0      1            5.1           3.5            1.4           0.2   \n",
       "1      2            4.9           3.0            1.4           0.2   \n",
       "2      3            4.7           3.2            1.3           0.2   \n",
       "3      4            4.6           3.1            1.5           0.2   \n",
       "4      5            5.0           3.6            1.4           0.2   \n",
       "..   ...            ...           ...            ...           ...   \n",
       "145  146            6.7           3.0            5.2           2.3   \n",
       "146  147            6.3           2.5            5.0           1.9   \n",
       "147  148            6.5           3.0            5.2           2.0   \n",
       "148  149            6.2           3.4            5.4           2.3   \n",
       "149  150            5.9           3.0            5.1           1.8   \n",
       "\n",
       "            Species  \n",
       "0       Iris-setosa  \n",
       "1       Iris-setosa  \n",
       "2       Iris-setosa  \n",
       "3       Iris-setosa  \n",
       "4       Iris-setosa  \n",
       "..              ...  \n",
       "145  Iris-virginica  \n",
       "146  Iris-virginica  \n",
       "147  Iris-virginica  \n",
       "148  Iris-virginica  \n",
       "149  Iris-virginica  \n",
       "\n",
       "[150 rows x 6 columns]"
      ]
     },
     "execution_count": 3,
     "metadata": {},
     "output_type": "execute_result"
    }
   ],
   "source": [
    "d = pd.read_csv('./data/iris.csv')\n",
    "d"
   ]
  },
  {
   "cell_type": "code",
   "execution_count": 4,
   "id": "b6655e93-28d8-4a2e-93b3-39ccf2f071a1",
   "metadata": {},
   "outputs": [
    {
     "data": {
      "text/plain": [
       "array(['Iris-setosa', 'Iris-versicolor', 'Iris-virginica'], dtype=object)"
      ]
     },
     "execution_count": 4,
     "metadata": {},
     "output_type": "execute_result"
    }
   ],
   "source": [
    "d['Species'].unique()"
   ]
  },
  {
   "cell_type": "code",
   "execution_count": 5,
   "id": "3b46393d-db71-4ab0-b6c3-aec8920c585b",
   "metadata": {},
   "outputs": [
    {
     "data": {
      "text/html": [
       "<div>\n",
       "<style scoped>\n",
       "    .dataframe tbody tr th:only-of-type {\n",
       "        vertical-align: middle;\n",
       "    }\n",
       "\n",
       "    .dataframe tbody tr th {\n",
       "        vertical-align: top;\n",
       "    }\n",
       "\n",
       "    .dataframe thead th {\n",
       "        text-align: right;\n",
       "    }\n",
       "</style>\n",
       "<table border=\"1\" class=\"dataframe\">\n",
       "  <thead>\n",
       "    <tr style=\"text-align: right;\">\n",
       "      <th></th>\n",
       "      <th>Id</th>\n",
       "      <th>SepalLengthCm</th>\n",
       "      <th>SepalWidthCm</th>\n",
       "      <th>PetalLengthCm</th>\n",
       "      <th>PetalWidthCm</th>\n",
       "    </tr>\n",
       "  </thead>\n",
       "  <tbody>\n",
       "    <tr>\n",
       "      <th>count</th>\n",
       "      <td>150.000000</td>\n",
       "      <td>150.000000</td>\n",
       "      <td>150.000000</td>\n",
       "      <td>150.000000</td>\n",
       "      <td>150.000000</td>\n",
       "    </tr>\n",
       "    <tr>\n",
       "      <th>mean</th>\n",
       "      <td>75.500000</td>\n",
       "      <td>5.843333</td>\n",
       "      <td>3.054000</td>\n",
       "      <td>3.758667</td>\n",
       "      <td>1.198667</td>\n",
       "    </tr>\n",
       "    <tr>\n",
       "      <th>std</th>\n",
       "      <td>43.445368</td>\n",
       "      <td>0.828066</td>\n",
       "      <td>0.433594</td>\n",
       "      <td>1.764420</td>\n",
       "      <td>0.763161</td>\n",
       "    </tr>\n",
       "    <tr>\n",
       "      <th>min</th>\n",
       "      <td>1.000000</td>\n",
       "      <td>4.300000</td>\n",
       "      <td>2.000000</td>\n",
       "      <td>1.000000</td>\n",
       "      <td>0.100000</td>\n",
       "    </tr>\n",
       "    <tr>\n",
       "      <th>25%</th>\n",
       "      <td>38.250000</td>\n",
       "      <td>5.100000</td>\n",
       "      <td>2.800000</td>\n",
       "      <td>1.600000</td>\n",
       "      <td>0.300000</td>\n",
       "    </tr>\n",
       "    <tr>\n",
       "      <th>50%</th>\n",
       "      <td>75.500000</td>\n",
       "      <td>5.800000</td>\n",
       "      <td>3.000000</td>\n",
       "      <td>4.350000</td>\n",
       "      <td>1.300000</td>\n",
       "    </tr>\n",
       "    <tr>\n",
       "      <th>75%</th>\n",
       "      <td>112.750000</td>\n",
       "      <td>6.400000</td>\n",
       "      <td>3.300000</td>\n",
       "      <td>5.100000</td>\n",
       "      <td>1.800000</td>\n",
       "    </tr>\n",
       "    <tr>\n",
       "      <th>max</th>\n",
       "      <td>150.000000</td>\n",
       "      <td>7.900000</td>\n",
       "      <td>4.400000</td>\n",
       "      <td>6.900000</td>\n",
       "      <td>2.500000</td>\n",
       "    </tr>\n",
       "  </tbody>\n",
       "</table>\n",
       "</div>"
      ],
      "text/plain": [
       "               Id  SepalLengthCm  SepalWidthCm  PetalLengthCm  PetalWidthCm\n",
       "count  150.000000     150.000000    150.000000     150.000000    150.000000\n",
       "mean    75.500000       5.843333      3.054000       3.758667      1.198667\n",
       "std     43.445368       0.828066      0.433594       1.764420      0.763161\n",
       "min      1.000000       4.300000      2.000000       1.000000      0.100000\n",
       "25%     38.250000       5.100000      2.800000       1.600000      0.300000\n",
       "50%     75.500000       5.800000      3.000000       4.350000      1.300000\n",
       "75%    112.750000       6.400000      3.300000       5.100000      1.800000\n",
       "max    150.000000       7.900000      4.400000       6.900000      2.500000"
      ]
     },
     "execution_count": 5,
     "metadata": {},
     "output_type": "execute_result"
    }
   ],
   "source": [
    "d.describe()\n"
   ]
  },
  {
   "cell_type": "markdown",
   "id": "380db7e8-07a4-44d8-8fa6-7da85523b2f6",
   "metadata": {},
   "source": [
    "# Data visualisation"
   ]
  },
  {
   "cell_type": "code",
   "execution_count": 6,
   "id": "fae6d3a3-7fb1-4fa0-abad-05ad79ceb1ab",
   "metadata": {
    "scrolled": true
   },
   "outputs": [
    {
     "data": {
      "text/plain": [
       "<Axes: xlabel='SepalLengthCm', ylabel='SepalWidthCm'>"
      ]
     },
     "execution_count": 6,
     "metadata": {},
     "output_type": "execute_result"
    },
    {
     "data": {
      "image/png": "[encoded data removed]",
      "text/plain": [
       "<Figure size 640x480 with 1 Axes>"
      ]
     },
     "metadata": {},
     "output_type": "display_data"
    }
   ],
   "source": [
    "sns.scatterplot( data =d, x = 'SepalLengthCm',y ='SepalWidthCm', hue = 'Species')"
   ]
  },
  {
   "cell_type": "code",
   "execution_count": 7,
   "id": "d9e7c551-5f3e-4720-b736-e8be2edc1140",
   "metadata": {},
   "outputs": [
    {
     "data": {
      "text/plain": [
       "<Axes: xlabel='PetalLengthCm', ylabel='PetalWidthCm'>"
      ]
     },
     "execution_count": 7,
     "metadata": {},
     "output_type": "execute_result"
    },
    {
     "data": {
      "image/png": "[encoded data removed]",
      "text/plain": [
       "<Figure size 640x480 with 1 Axes>"
      ]
     },
     "metadata": {},
     "output_type": "display_data"
    }
   ],
   "source": [
    "sns.scatterplot( data =d, x = 'PetalLengthCm',y ='PetalWidthCm', hue = 'Species')"
   ]
  },
  {
   "cell_type": "code",
   "execution_count": 8,
   "id": "dbe98bf4-6f6a-4a87-afdf-2daceaee45a4",
   "metadata": {},
   "outputs": [
    {
     "data": {
      "text/plain": [
       "<Axes: >"
      ]
     },
     "execution_count": 8,
     "metadata": {},
     "output_type": "execute_result"
    },
    {
     "data": {
      "image/png": "[encoded data removed]",
      "text/plain": [
       "<Figure size 640x480 with 1 Axes>"
      ]
     },
     "metadata": {},
     "output_type": "display_data"
    }
   ],
   "source": [
    "d.SepalLengthCm.hist()"
   ]
  },
  {
   "cell_type": "code",
   "execution_count": 9,
   "id": "79bb96a7-fce8-4023-ac5e-24f49c45915a",
   "metadata": {},
   "outputs": [
    {
     "data": {
      "text/plain": [
       "<Axes: >"
      ]
     },
     "execution_count": 9,
     "metadata": {},
     "output_type": "execute_result"
    },
    {
     "data": {
      "image/png": "[encoded data removed]",
      "text/plain": [
       "<Figure size 640x480 with 1 Axes>"
      ]
     },
     "metadata": {},
     "output_type": "display_data"
    }
   ],
   "source": [
    "d.SepalWidthCm.hist()"
   ]
  },
  {
   "cell_type": "code",
   "execution_count": 10,
   "id": "edfc2db0-3969-4389-868d-ef506924b19f",
   "metadata": {},
   "outputs": [
    {
     "data": {
      "text/plain": [
       "<Axes: >"
      ]
     },
     "execution_count": 10,
     "metadata": {},
     "output_type": "execute_result"
    },
    {
     "data": {
      "image/png": "[encoded data removed]",
      "text/plain": [
       "<Figure size 640x480 with 1 Axes>"
      ]
     },
     "metadata": {},
     "output_type": "display_data"
    }
   ],
   "source": [
    "d.PetalWidthCm.hist()"
   ]
  },
  {
   "cell_type": "code",
   "execution_count": 11,
   "id": "10683de2-dad7-45a2-b47d-30a7e4cf865f",
   "metadata": {},
   "outputs": [
    {
     "data": {
      "text/plain": [
       "<Axes: >"
      ]
     },
     "execution_count": 11,
     "metadata": {},
     "output_type": "execute_result"
    },
    {
     "data": {
      "image/png": "[encoded data removed]",
      "text/plain": [
       "<Figure size 640x480 with 1 Axes>"
      ]
     },
     "metadata": {},
     "output_type": "display_data"
    }
   ],
   "source": [
    "d.PetalLengthCm.hist()"
   ]
  },
  {
   "cell_type": "code",
   "execution_count": 12,
   "id": "4090acfb-376f-4e91-98f6-92c1e04912c6",
   "metadata": {},
   "outputs": [
    {
     "data": {
      "text/plain": [
       "Index(['Id', 'SepalLengthCm', 'SepalWidthCm', 'PetalLengthCm', 'PetalWidthCm',\n",
       "       'Species'],\n",
       "      dtype='object')"
      ]
     },
     "execution_count": 12,
     "metadata": {},
     "output_type": "execute_result"
    }
   ],
   "source": [
    "d.columns"
   ]
  },
  {
   "cell_type": "code",
   "execution_count": 13,
   "id": "f5834f16-8d95-438f-ab29-6e85502dd920",
   "metadata": {},
   "outputs": [
    {
     "data": {
      "text/html": [
       "<div>\n",
       "<style scoped>\n",
       "    .dataframe tbody tr th:only-of-type {\n",
       "        vertical-align: middle;\n",
       "    }\n",
       "\n",
       "    .dataframe tbody tr th {\n",
       "        vertical-align: top;\n",
       "    }\n",
       "\n",
       "    .dataframe thead th {\n",
       "        text-align: right;\n",
       "    }\n",
       "</style>\n",
       "<table border=\"1\" class=\"dataframe\">\n",
       "  <thead>\n",
       "    <tr style=\"text-align: right;\">\n",
       "      <th></th>\n",
       "      <th>SepalLengthCm</th>\n",
       "      <th>SepalWidthCm</th>\n",
       "      <th>PetalLengthCm</th>\n",
       "      <th>PetalWidthCm</th>\n",
       "    </tr>\n",
       "  </thead>\n",
       "  <tbody>\n",
       "    <tr>\n",
       "      <th>SepalLengthCm</th>\n",
       "      <td>1.00</td>\n",
       "      <td>-0.11</td>\n",
       "      <td>0.87</td>\n",
       "      <td>0.82</td>\n",
       "    </tr>\n",
       "    <tr>\n",
       "      <th>SepalWidthCm</th>\n",
       "      <td>-0.11</td>\n",
       "      <td>1.00</td>\n",
       "      <td>-0.42</td>\n",
       "      <td>-0.36</td>\n",
       "    </tr>\n",
       "    <tr>\n",
       "      <th>PetalLengthCm</th>\n",
       "      <td>0.87</td>\n",
       "      <td>-0.42</td>\n",
       "      <td>1.00</td>\n",
       "      <td>0.96</td>\n",
       "    </tr>\n",
       "    <tr>\n",
       "      <th>PetalWidthCm</th>\n",
       "      <td>0.82</td>\n",
       "      <td>-0.36</td>\n",
       "      <td>0.96</td>\n",
       "      <td>1.00</td>\n",
       "    </tr>\n",
       "  </tbody>\n",
       "</table>\n",
       "</div>"
      ],
      "text/plain": [
       "               SepalLengthCm  SepalWidthCm  PetalLengthCm  PetalWidthCm\n",
       "SepalLengthCm           1.00         -0.11           0.87          0.82\n",
       "SepalWidthCm           -0.11          1.00          -0.42         -0.36\n",
       "PetalLengthCm           0.87         -0.42           1.00          0.96\n",
       "PetalWidthCm            0.82         -0.36           0.96          1.00"
      ]
     },
     "execution_count": 13,
     "metadata": {},
     "output_type": "execute_result"
    }
   ],
   "source": [
    "numeric_columns = ['SepalLengthCm', 'SepalWidthCm', 'PetalLengthCm', 'PetalWidthCm']\n",
    "correlation_matrix = d[numeric_columns].corr().round(2)\n",
    "correlation_matrix\n"
   ]
  },
  {
   "cell_type": "code",
   "execution_count": 14,
   "id": "e2fc7d37-d483-41d8-bb2c-e49a1fd29d4a",
   "metadata": {},
   "outputs": [
    {
     "data": {
      "text/plain": [
       "<Axes: >"
      ]
     },
     "execution_count": 14,
     "metadata": {},
     "output_type": "execute_result"
    },
    {
     "data": {
      "image/png": "[encoded data removed]",
      "text/plain": [
       "<Figure size 640x480 with 2 Axes>"
      ]
     },
     "metadata": {},
     "output_type": "display_data"
    }
   ],
   "source": [
    "sns.heatmap(correlation_matrix , annot=True)"
   ]
  },
  {
   "cell_type": "code",
   "execution_count": 15,
   "id": "c19d6dd1-5d82-4084-b853-8ffad029aece",
   "metadata": {},
   "outputs": [
    {
     "data": {
      "text/html": [
       "<div>\n",
       "<style scoped>\n",
       "    .dataframe tbody tr th:only-of-type {\n",
       "        vertical-align: middle;\n",
       "    }\n",
       "\n",
       "    .dataframe tbody tr th {\n",
       "        vertical-align: top;\n",
       "    }\n",
       "\n",
       "    .dataframe thead th {\n",
       "        text-align: right;\n",
       "    }\n",
       "</style>\n",
       "<table border=\"1\" class=\"dataframe\">\n",
       "  <thead>\n",
       "    <tr style=\"text-align: right;\">\n",
       "      <th></th>\n",
       "      <th>SepalLengthCm</th>\n",
       "      <th>SepalWidthCm</th>\n",
       "      <th>PetalLengthCm</th>\n",
       "      <th>PetalWidthCm</th>\n",
       "    </tr>\n",
       "  </thead>\n",
       "  <tbody>\n",
       "    <tr>\n",
       "      <th>SepalLengthCm</th>\n",
       "      <td>True</td>\n",
       "      <td>False</td>\n",
       "      <td>True</td>\n",
       "      <td>True</td>\n",
       "    </tr>\n",
       "    <tr>\n",
       "      <th>SepalWidthCm</th>\n",
       "      <td>False</td>\n",
       "      <td>True</td>\n",
       "      <td>False</td>\n",
       "      <td>False</td>\n",
       "    </tr>\n",
       "    <tr>\n",
       "      <th>PetalLengthCm</th>\n",
       "      <td>True</td>\n",
       "      <td>False</td>\n",
       "      <td>True</td>\n",
       "      <td>True</td>\n",
       "    </tr>\n",
       "    <tr>\n",
       "      <th>PetalWidthCm</th>\n",
       "      <td>True</td>\n",
       "      <td>False</td>\n",
       "      <td>True</td>\n",
       "      <td>True</td>\n",
       "    </tr>\n",
       "  </tbody>\n",
       "</table>\n",
       "</div>"
      ],
      "text/plain": [
       "               SepalLengthCm  SepalWidthCm  PetalLengthCm  PetalWidthCm\n",
       "SepalLengthCm           True         False           True          True\n",
       "SepalWidthCm           False          True          False         False\n",
       "PetalLengthCm           True         False           True          True\n",
       "PetalWidthCm            True         False           True          True"
      ]
     },
     "execution_count": 15,
     "metadata": {},
     "output_type": "execute_result"
    }
   ],
   "source": [
    "#if we have too many values we can eliminate by doing this\n",
    "corr_matrix = d[numeric_columns].corr().round(2) > 0.02\n",
    "corr_matrix"
   ]
  },
  {
   "cell_type": "code",
   "execution_count": 16,
   "id": "795ebb66-b4b1-4bbb-82dd-74abed8f6fc2",
   "metadata": {},
   "outputs": [
    {
     "data": {
      "text/plain": [
       "<Axes: >"
      ]
     },
     "execution_count": 16,
     "metadata": {},
     "output_type": "execute_result"
    },
    {
     "data": {
      "image/png": "[encoded data removed]",
      "text/plain": [
       "<Figure size 640x480 with 2 Axes>"
      ]
     },
     "metadata": {},
     "output_type": "display_data"
    }
   ],
   "source": [
    "sns.heatmap(correlation_matrix , annot=True)"
   ]
  },
  {
   "cell_type": "code",
   "execution_count": 17,
   "id": "c02bc787-433e-4a6d-98a3-a1a11abba80e",
   "metadata": {},
   "outputs": [
    {
     "data": {
      "text/plain": [
       "SepalLengthCm    1.000000\n",
       "PetalLengthCm    0.871754\n",
       "PetalWidthCm     0.817954\n",
       "Name: SepalLengthCm, dtype: float64"
      ]
     },
     "execution_count": 17,
     "metadata": {},
     "output_type": "execute_result"
    }
   ],
   "source": [
    "d[numeric_columns].corr()['SepalLengthCm'][ d[numeric_columns].corr()['SepalLengthCm'] >0.7]"
   ]
  },
  {
   "cell_type": "code",
   "execution_count": 18,
   "id": "ddd3dbc9-ac59-4fb7-bccf-7268f89450ad",
   "metadata": {},
   "outputs": [
    {
     "data": {
      "text/html": [
       "<div>\n",
       "<style scoped>\n",
       "    .dataframe tbody tr th:only-of-type {\n",
       "        vertical-align: middle;\n",
       "    }\n",
       "\n",
       "    .dataframe tbody tr th {\n",
       "        vertical-align: top;\n",
       "    }\n",
       "\n",
       "    .dataframe thead th {\n",
       "        text-align: right;\n",
       "    }\n",
       "</style>\n",
       "<table border=\"1\" class=\"dataframe\">\n",
       "  <thead>\n",
       "    <tr style=\"text-align: right;\">\n",
       "      <th></th>\n",
       "      <th>SepalLengthCm</th>\n",
       "      <th>SepalWidthCm</th>\n",
       "      <th>PetalLengthCm</th>\n",
       "      <th>PetalWidthCm</th>\n",
       "    </tr>\n",
       "  </thead>\n",
       "  <tbody>\n",
       "    <tr>\n",
       "      <th>SepalLengthCm</th>\n",
       "      <td>NaN</td>\n",
       "      <td>-0.11</td>\n",
       "      <td>NaN</td>\n",
       "      <td>NaN</td>\n",
       "    </tr>\n",
       "    <tr>\n",
       "      <th>SepalWidthCm</th>\n",
       "      <td>-0.11</td>\n",
       "      <td>NaN</td>\n",
       "      <td>-0.42</td>\n",
       "      <td>-0.36</td>\n",
       "    </tr>\n",
       "    <tr>\n",
       "      <th>PetalLengthCm</th>\n",
       "      <td>NaN</td>\n",
       "      <td>-0.42</td>\n",
       "      <td>NaN</td>\n",
       "      <td>NaN</td>\n",
       "    </tr>\n",
       "    <tr>\n",
       "      <th>PetalWidthCm</th>\n",
       "      <td>NaN</td>\n",
       "      <td>-0.36</td>\n",
       "      <td>NaN</td>\n",
       "      <td>NaN</td>\n",
       "    </tr>\n",
       "  </tbody>\n",
       "</table>\n",
       "</div>"
      ],
      "text/plain": [
       "               SepalLengthCm  SepalWidthCm  PetalLengthCm  PetalWidthCm\n",
       "SepalLengthCm            NaN         -0.11            NaN           NaN\n",
       "SepalWidthCm           -0.11           NaN          -0.42         -0.36\n",
       "PetalLengthCm            NaN         -0.42            NaN           NaN\n",
       "PetalWidthCm             NaN         -0.36            NaN           NaN"
      ]
     },
     "execution_count": 18,
     "metadata": {},
     "output_type": "execute_result"
    }
   ],
   "source": [
    "d[numeric_columns].corr().round(2)[d[numeric_columns].corr().round(2)<0.02]"
   ]
  },
  {
   "cell_type": "code",
   "execution_count": 19,
   "id": "55ee12dd-90d8-49ee-a4b3-102e4ef6d1e5",
   "metadata": {},
   "outputs": [],
   "source": [
    "from sklearn.preprocessing import LabelEncoder"
   ]
  },
  {
   "cell_type": "code",
   "execution_count": 20,
   "id": "943173b7-65a2-494e-9968-e0e2da06b684",
   "metadata": {},
   "outputs": [],
   "source": [
    "le= LabelEncoder()"
   ]
  },
  {
   "cell_type": "code",
   "execution_count": 21,
   "id": "199fa90b-0cc2-49c3-bf6d-e831ee11cf28",
   "metadata": {},
   "outputs": [
    {
     "data": {
      "text/html": [
       "<div>\n",
       "<style scoped>\n",
       "    .dataframe tbody tr th:only-of-type {\n",
       "        vertical-align: middle;\n",
       "    }\n",
       "\n",
       "    .dataframe tbody tr th {\n",
       "        vertical-align: top;\n",
       "    }\n",
       "\n",
       "    .dataframe thead th {\n",
       "        text-align: right;\n",
       "    }\n",
       "</style>\n",
       "<table border=\"1\" class=\"dataframe\">\n",
       "  <thead>\n",
       "    <tr style=\"text-align: right;\">\n",
       "      <th></th>\n",
       "      <th>Id</th>\n",
       "      <th>SepalLengthCm</th>\n",
       "      <th>SepalWidthCm</th>\n",
       "      <th>PetalLengthCm</th>\n",
       "      <th>PetalWidthCm</th>\n",
       "      <th>Species</th>\n",
       "    </tr>\n",
       "  </thead>\n",
       "  <tbody>\n",
       "    <tr>\n",
       "      <th>0</th>\n",
       "      <td>1</td>\n",
       "      <td>5.1</td>\n",
       "      <td>3.5</td>\n",
       "      <td>1.4</td>\n",
       "      <td>0.2</td>\n",
       "      <td>0</td>\n",
       "    </tr>\n",
       "    <tr>\n",
       "      <th>1</th>\n",
       "      <td>2</td>\n",
       "      <td>4.9</td>\n",
       "      <td>3.0</td>\n",
       "      <td>1.4</td>\n",
       "      <td>0.2</td>\n",
       "      <td>0</td>\n",
       "    </tr>\n",
       "    <tr>\n",
       "      <th>2</th>\n",
       "      <td>3</td>\n",
       "      <td>4.7</td>\n",
       "      <td>3.2</td>\n",
       "      <td>1.3</td>\n",
       "      <td>0.2</td>\n",
       "      <td>0</td>\n",
       "    </tr>\n",
       "    <tr>\n",
       "      <th>3</th>\n",
       "      <td>4</td>\n",
       "      <td>4.6</td>\n",
       "      <td>3.1</td>\n",
       "      <td>1.5</td>\n",
       "      <td>0.2</td>\n",
       "      <td>0</td>\n",
       "    </tr>\n",
       "    <tr>\n",
       "      <th>4</th>\n",
       "      <td>5</td>\n",
       "      <td>5.0</td>\n",
       "      <td>3.6</td>\n",
       "      <td>1.4</td>\n",
       "      <td>0.2</td>\n",
       "      <td>0</td>\n",
       "    </tr>\n",
       "  </tbody>\n",
       "</table>\n",
       "</div>"
      ],
      "text/plain": [
       "   Id  SepalLengthCm  SepalWidthCm  PetalLengthCm  PetalWidthCm  Species\n",
       "0   1            5.1           3.5            1.4           0.2        0\n",
       "1   2            4.9           3.0            1.4           0.2        0\n",
       "2   3            4.7           3.2            1.3           0.2        0\n",
       "3   4            4.6           3.1            1.5           0.2        0\n",
       "4   5            5.0           3.6            1.4           0.2        0"
      ]
     },
     "execution_count": 21,
     "metadata": {},
     "output_type": "execute_result"
    }
   ],
   "source": [
    "d.Species=le.fit_transform(d.Species)\n",
    "d.head()"
   ]
  },
  {
   "cell_type": "code",
   "execution_count": 22,
   "id": "21df931a-25ac-4991-8364-9ae83f79ff6d",
   "metadata": {},
   "outputs": [
    {
     "data": {
      "text/html": [
       "<div>\n",
       "<style scoped>\n",
       "    .dataframe tbody tr th:only-of-type {\n",
       "        vertical-align: middle;\n",
       "    }\n",
       "\n",
       "    .dataframe tbody tr th {\n",
       "        vertical-align: top;\n",
       "    }\n",
       "\n",
       "    .dataframe thead th {\n",
       "        text-align: right;\n",
       "    }\n",
       "</style>\n",
       "<table border=\"1\" class=\"dataframe\">\n",
       "  <thead>\n",
       "    <tr style=\"text-align: right;\">\n",
       "      <th></th>\n",
       "      <th>Id</th>\n",
       "      <th>SepalLengthCm</th>\n",
       "      <th>SepalWidthCm</th>\n",
       "      <th>PetalLengthCm</th>\n",
       "    </tr>\n",
       "  </thead>\n",
       "  <tbody>\n",
       "    <tr>\n",
       "      <th>0</th>\n",
       "      <td>1</td>\n",
       "      <td>5.1</td>\n",
       "      <td>3.5</td>\n",
       "      <td>1.4</td>\n",
       "    </tr>\n",
       "    <tr>\n",
       "      <th>1</th>\n",
       "      <td>2</td>\n",
       "      <td>4.9</td>\n",
       "      <td>3.0</td>\n",
       "      <td>1.4</td>\n",
       "    </tr>\n",
       "    <tr>\n",
       "      <th>2</th>\n",
       "      <td>3</td>\n",
       "      <td>4.7</td>\n",
       "      <td>3.2</td>\n",
       "      <td>1.3</td>\n",
       "    </tr>\n",
       "    <tr>\n",
       "      <th>3</th>\n",
       "      <td>4</td>\n",
       "      <td>4.6</td>\n",
       "      <td>3.1</td>\n",
       "      <td>1.5</td>\n",
       "    </tr>\n",
       "    <tr>\n",
       "      <th>4</th>\n",
       "      <td>5</td>\n",
       "      <td>5.0</td>\n",
       "      <td>3.6</td>\n",
       "      <td>1.4</td>\n",
       "    </tr>\n",
       "    <tr>\n",
       "      <th>...</th>\n",
       "      <td>...</td>\n",
       "      <td>...</td>\n",
       "      <td>...</td>\n",
       "      <td>...</td>\n",
       "    </tr>\n",
       "    <tr>\n",
       "      <th>145</th>\n",
       "      <td>146</td>\n",
       "      <td>6.7</td>\n",
       "      <td>3.0</td>\n",
       "      <td>5.2</td>\n",
       "    </tr>\n",
       "    <tr>\n",
       "      <th>146</th>\n",
       "      <td>147</td>\n",
       "      <td>6.3</td>\n",
       "      <td>2.5</td>\n",
       "      <td>5.0</td>\n",
       "    </tr>\n",
       "    <tr>\n",
       "      <th>147</th>\n",
       "      <td>148</td>\n",
       "      <td>6.5</td>\n",
       "      <td>3.0</td>\n",
       "      <td>5.2</td>\n",
       "    </tr>\n",
       "    <tr>\n",
       "      <th>148</th>\n",
       "      <td>149</td>\n",
       "      <td>6.2</td>\n",
       "      <td>3.4</td>\n",
       "      <td>5.4</td>\n",
       "    </tr>\n",
       "    <tr>\n",
       "      <th>149</th>\n",
       "      <td>150</td>\n",
       "      <td>5.9</td>\n",
       "      <td>3.0</td>\n",
       "      <td>5.1</td>\n",
       "    </tr>\n",
       "  </tbody>\n",
       "</table>\n",
       "<p>150 rows × 4 columns</p>\n",
       "</div>"
      ],
      "text/plain": [
       "      Id  SepalLengthCm  SepalWidthCm  PetalLengthCm\n",
       "0      1            5.1           3.5            1.4\n",
       "1      2            4.9           3.0            1.4\n",
       "2      3            4.7           3.2            1.3\n",
       "3      4            4.6           3.1            1.5\n",
       "4      5            5.0           3.6            1.4\n",
       "..   ...            ...           ...            ...\n",
       "145  146            6.7           3.0            5.2\n",
       "146  147            6.3           2.5            5.0\n",
       "147  148            6.5           3.0            5.2\n",
       "148  149            6.2           3.4            5.4\n",
       "149  150            5.9           3.0            5.1\n",
       "\n",
       "[150 rows x 4 columns]"
      ]
     },
     "execution_count": 22,
     "metadata": {},
     "output_type": "execute_result"
    }
   ],
   "source": [
    "x = d.iloc[:, :4] #dependant var\n",
    "y = d.Species #target\n",
    "x"
   ]
  },
  {
   "cell_type": "code",
   "execution_count": 23,
   "id": "afef3d27-d23f-4ba8-b109-558493366dc0",
   "metadata": {},
   "outputs": [
    {
     "data": {
      "text/plain": [
       "0      0\n",
       "1      0\n",
       "2      0\n",
       "3      0\n",
       "4      0\n",
       "      ..\n",
       "145    2\n",
       "146    2\n",
       "147    2\n",
       "148    2\n",
       "149    2\n",
       "Name: Species, Length: 150, dtype: int32"
      ]
     },
     "execution_count": 23,
     "metadata": {},
     "output_type": "execute_result"
    }
   ],
   "source": [
    "y"
   ]
  },
  {
   "cell_type": "code",
   "execution_count": 24,
   "id": "ca9db5ab-82a1-4af3-9c8f-1623825a1bfc",
   "metadata": {},
   "outputs": [],
   "source": [
    "from sklearn.model_selection import train_test_split"
   ]
  },
  {
   "cell_type": "code",
   "execution_count": 25,
   "id": "39478a94-594f-4c07-8a93-324009eefe1f",
   "metadata": {},
   "outputs": [],
   "source": [
    "x_train, x_test, y_train,y_test = train_test_split(x,y, test_size = 0.3, shuffle = True, random_state =45)"
   ]
  },
  {
   "cell_type": "code",
   "execution_count": 26,
   "id": "cdcdc74b-9190-45b2-a806-ffcda5af00f3",
   "metadata": {},
   "outputs": [
    {
     "data": {
      "text/plain": [
       "((105, 4), (45, 4))"
      ]
     },
     "execution_count": 26,
     "metadata": {},
     "output_type": "execute_result"
    }
   ],
   "source": [
    "x_train.shape, x_test.shape"
   ]
  },
  {
   "cell_type": "code",
   "execution_count": 27,
   "id": "28b8c4c9-65ff-4f46-956a-6e963c41763a",
   "metadata": {},
   "outputs": [
    {
     "data": {
      "text/plain": [
       "((105,), (45,))"
      ]
     },
     "execution_count": 27,
     "metadata": {},
     "output_type": "execute_result"
    }
   ],
   "source": [
    "y_train.shape, y_test.shape"
   ]
  },
  {
   "cell_type": "code",
   "execution_count": 28,
   "id": "29577a8d-05c3-4833-818e-bb83b779fa1c",
   "metadata": {},
   "outputs": [],
   "source": [
    "from sklearn.naive_bayes import GaussianNB\n",
    "nb =  GaussianNB()"
   ]
  },
  {
   "cell_type": "code",
   "execution_count": 29,
   "id": "815e6355-8bbb-4382-99d7-654415e9577c",
   "metadata": {},
   "outputs": [
    {
     "data": {
      "text/plain": [
       "0.9904761904761905"
      ]
     },
     "execution_count": 29,
     "metadata": {},
     "output_type": "execute_result"
    }
   ],
   "source": [
    "nb.fit(x_train, y_train)\n",
    "nb.score(x_train, y_train)"
   ]
  },
  {
   "cell_type": "code",
   "execution_count": 30,
   "id": "69483c8c-914e-4552-a123-94096ee0329f",
   "metadata": {},
   "outputs": [
    {
     "data": {
      "text/plain": [
       "array([0, 0, 2, 0, 0, 0, 0, 2, 2, 2, 0, 2, 2, 2, 2, 0, 2, 2, 0, 1, 1, 1,\n",
       "       2, 1, 0, 2, 1, 1, 0, 1, 1, 1, 2, 1, 0, 2, 0, 0, 1, 0, 0, 1, 0, 1,\n",
       "       1])"
      ]
     },
     "execution_count": 30,
     "metadata": {},
     "output_type": "execute_result"
    }
   ],
   "source": [
    "nb.predict(x_test)"
   ]
  },
  {
   "cell_type": "code",
   "execution_count": 31,
   "id": "9822445b-b861-4f2c-9ca5-9cc0bd61bdd8",
   "metadata": {},
   "outputs": [
    {
     "data": {
      "text/plain": [
       "array([[0, 0, 2, 0, 0, 0, 0, 2, 2, 2, 0, 2, 2, 2, 2, 0, 2, 2, 0, 1, 1, 1,\n",
       "        2, 1, 0, 2, 1, 1, 0, 1, 1, 1, 2, 2, 0, 2, 0, 0, 1, 0, 0, 1, 0, 1,\n",
       "        1]])"
      ]
     },
     "execution_count": 31,
     "metadata": {},
     "output_type": "execute_result"
    }
   ],
   "source": [
    "#y_test\n",
    "np.array([y_test])"
   ]
  },
  {
   "cell_type": "code",
   "execution_count": 32,
   "id": "49144711-c82f-4baf-8476-392c7d277064",
   "metadata": {},
   "outputs": [],
   "source": [
    "from sklearn.metrics import accuracy_score, f1_score, confusion_matrix,classification_report,ConfusionMatrixDisplay, recall_score"
   ]
  },
  {
   "cell_type": "code",
   "execution_count": 33,
   "id": "7598e677-bf5e-4e30-bc61-30b8b53e72b6",
   "metadata": {},
   "outputs": [
    {
     "data": {
      "text/plain": [
       "0.98"
      ]
     },
     "execution_count": 33,
     "metadata": {},
     "output_type": "execute_result"
    }
   ],
   "source": [
    "round(accuracy_score(y_test,nb.predict(x_test)),2)"
   ]
  },
  {
   "cell_type": "code",
   "execution_count": 34,
   "id": "0f51b244-9b5d-4aec-9624-3a6ac9fef547",
   "metadata": {},
   "outputs": [
    {
     "data": {
      "text/plain": [
       "array([[17,  0,  0],\n",
       "       [ 0, 13,  0],\n",
       "       [ 0,  1, 14]], dtype=int64)"
      ]
     },
     "execution_count": 34,
     "metadata": {},
     "output_type": "execute_result"
    }
   ],
   "source": [
    "confusion_matrix(y_test,nb.predict(x_test)).round(2)"
   ]
  },
  {
   "cell_type": "code",
   "execution_count": 35,
   "id": "112ed8ed-7c75-4316-b292-a0cae105c539",
   "metadata": {},
   "outputs": [
    {
     "data": {
      "text/plain": [
       "array([0, 1, 2])"
      ]
     },
     "execution_count": 35,
     "metadata": {},
     "output_type": "execute_result"
    }
   ],
   "source": [
    "d.Species.unique()"
   ]
  },
  {
   "cell_type": "code",
   "execution_count": 36,
   "id": "d116c898-48a0-463e-90ba-3cc61864e011",
   "metadata": {},
   "outputs": [],
   "source": [
    "le = ['Iris-setosa', 'Iris-versicolor', 'Iris-virginica']"
   ]
  },
  {
   "cell_type": "code",
   "execution_count": 37,
   "id": "baa2042f-b473-480f-8da8-3931f3eabeca",
   "metadata": {},
   "outputs": [
    {
     "data": {
      "text/plain": [
       "['Iris-setosa', 'Iris-versicolor', 'Iris-virginica']"
      ]
     },
     "execution_count": 37,
     "metadata": {},
     "output_type": "execute_result"
    }
   ],
   "source": [
    "le"
   ]
  },
  {
   "cell_type": "code",
   "execution_count": 38,
   "id": "36bb5079-7538-4f5a-8d11-8fee7c98444f",
   "metadata": {},
   "outputs": [
    {
     "data": {
      "text/plain": [
       "<sklearn.metrics._plot.confusion_matrix.ConfusionMatrixDisplay at 0x25f26d9f7d0>"
      ]
     },
     "execution_count": 38,
     "metadata": {},
     "output_type": "execute_result"
    },
    {
     "data": {
      "image/png": "[encoded data removed]",
      "text/plain": [
       "<Figure size 640x480 with 2 Axes>"
      ]
     },
     "metadata": {},
     "output_type": "display_data"
    }
   ],
   "source": [
    "ConfusionMatrixDisplay(confusion_matrix(y_test,nb.predict(x_test)).round(2), display_labels =le).plot()"
   ]
  },
  {
   "cell_type": "code",
   "execution_count": 39,
   "id": "8b4f52f0-366c-4b59-849a-cedc4917855e",
   "metadata": {},
   "outputs": [],
   "source": [
    "from sklearn.neighbors import KNeighborsClassifier\n",
    "knn = KNeighborsClassifier()"
   ]
  },
  {
   "cell_type": "code",
   "execution_count": 40,
   "id": "d1970c75-0130-4ee7-9f62-61e4a17d77bd",
   "metadata": {},
   "outputs": [
    {
     "data": {
      "text/plain": [
       "0.9904761904761905"
      ]
     },
     "execution_count": 40,
     "metadata": {},
     "output_type": "execute_result"
    }
   ],
   "source": [
    "knn.fit(x_train, y_train)\n",
    "knn.score(x_train, y_train)\n"
   ]
  },
  {
   "cell_type": "code",
   "execution_count": 41,
   "id": "c9dc6778-de6e-45fd-8993-8773f98c3796",
   "metadata": {},
   "outputs": [
    {
     "data": {
      "text/plain": [
       "array([0, 0, 2, 0, 0, 0, 0, 2, 2, 2, 0, 2, 2, 2, 2, 0, 2, 2, 0, 1, 1, 1,\n",
       "       2, 1, 0, 2, 1, 1, 0, 1, 1, 1, 2, 2, 0, 2, 0, 0, 1, 0, 0, 1, 0, 1,\n",
       "       1])"
      ]
     },
     "execution_count": 41,
     "metadata": {},
     "output_type": "execute_result"
    }
   ],
   "source": [
    "knn.predict(x_test)"
   ]
  },
  {
   "cell_type": "code",
   "execution_count": 42,
   "id": "e9fe1f97-a7f5-4aed-9cb6-f6551fb5e0b1",
   "metadata": {},
   "outputs": [
    {
     "data": {
      "text/plain": [
       "1.0"
      ]
     },
     "execution_count": 42,
     "metadata": {},
     "output_type": "execute_result"
    }
   ],
   "source": [
    "accuracy_score(y_test,knn.predict(x_test))"
   ]
  },
  {
   "cell_type": "code",
   "execution_count": 43,
   "id": "b0443858-36b1-4e93-b3ca-c9900792092f",
   "metadata": {},
   "outputs": [
    {
     "data": {
      "text/plain": [
       "<sklearn.metrics._plot.confusion_matrix.ConfusionMatrixDisplay at 0x25f2513c890>"
      ]
     },
     "execution_count": 43,
     "metadata": {},
     "output_type": "execute_result"
    },
    {
     "data": {
      "image/png": "[encoded data removed]",
      "text/plain": [
       "<Figure size 640x480 with 2 Axes>"
      ]
     },
     "metadata": {},
     "output_type": "display_data"
    }
   ],
   "source": [
    "ConfusionMatrixDisplay(confusion_matrix(y_test,knn.predict(x_test)).round(2), display_labels =le).plot()"
   ]
  },
  {
   "cell_type": "code",
   "execution_count": null,
   "id": "a49c580b-7cd6-4ca6-bdfb-fcbd7f00bba5",
   "metadata": {},
   "outputs": [],
   "source": [
    "rmse = np.sqrt(mse)\n",
    "rmse"
   ]
  },
  {
   "cell_type": "code",
   "execution_count": 45,
   "id": "e54135fc-c054-423b-9502-291b1e18e9ca",
   "metadata": {},
   "outputs": [
    {
     "data": {
      "text/html": [
       "<div>\n",
       "<style scoped>\n",
       "    .dataframe tbody tr th:only-of-type {\n",
       "        vertical-align: middle;\n",
       "    }\n",
       "\n",
       "    .dataframe tbody tr th {\n",
       "        vertical-align: top;\n",
       "    }\n",
       "\n",
       "    .dataframe thead th {\n",
       "        text-align: right;\n",
       "    }\n",
       "</style>\n",
       "<table border=\"1\" class=\"dataframe\">\n",
       "  <thead>\n",
       "    <tr style=\"text-align: right;\">\n",
       "      <th></th>\n",
       "      <th>Town</th>\n",
       "      <th>Country</th>\n",
       "      <th>Store ID</th>\n",
       "      <th>Manager name</th>\n",
       "      <th>Staff</th>\n",
       "      <th>Floor Space</th>\n",
       "      <th>Window</th>\n",
       "      <th>Car park</th>\n",
       "      <th>Demographic score</th>\n",
       "      <th>Location</th>\n",
       "      <th>40min population</th>\n",
       "      <th>30 min population</th>\n",
       "      <th>20 min population</th>\n",
       "      <th>10 min population</th>\n",
       "      <th>Store age</th>\n",
       "      <th>Clearance space</th>\n",
       "      <th>Competition number</th>\n",
       "      <th>Competition score</th>\n",
       "      <th>Performance</th>\n",
       "    </tr>\n",
       "  </thead>\n",
       "  <tbody>\n",
       "    <tr>\n",
       "      <th>0</th>\n",
       "      <td>Swinton (Greater Manchester)</td>\n",
       "      <td>UK</td>\n",
       "      <td>1437</td>\n",
       "      <td>Roger</td>\n",
       "      <td>9</td>\n",
       "      <td>18526</td>\n",
       "      <td>121</td>\n",
       "      <td>Yes</td>\n",
       "      <td>10</td>\n",
       "      <td>Retail Park</td>\n",
       "      <td>1288374</td>\n",
       "      <td>1138224</td>\n",
       "      <td>1006986</td>\n",
       "      <td>1002340</td>\n",
       "      <td>3</td>\n",
       "      <td>238</td>\n",
       "      <td>16</td>\n",
       "      <td>16</td>\n",
       "      <td>Good</td>\n",
       "    </tr>\n",
       "    <tr>\n",
       "      <th>1</th>\n",
       "      <td>Stamford</td>\n",
       "      <td>UK</td>\n",
       "      <td>1544</td>\n",
       "      <td>Ella</td>\n",
       "      <td>8</td>\n",
       "      <td>18569</td>\n",
       "      <td>121</td>\n",
       "      <td>Yes</td>\n",
       "      <td>11</td>\n",
       "      <td>Shopping Centre</td>\n",
       "      <td>1086225</td>\n",
       "      <td>1015321</td>\n",
       "      <td>1012182</td>\n",
       "      <td>1008436</td>\n",
       "      <td>4</td>\n",
       "      <td>384</td>\n",
       "      <td>15</td>\n",
       "      <td>19</td>\n",
       "      <td>Good</td>\n",
       "    </tr>\n",
       "    <tr>\n",
       "      <th>2</th>\n",
       "      <td>Skipton</td>\n",
       "      <td>UK</td>\n",
       "      <td>2039</td>\n",
       "      <td>Valentina</td>\n",
       "      <td>-2</td>\n",
       "      <td>12288</td>\n",
       "      <td>105</td>\n",
       "      <td>No</td>\n",
       "      <td>12</td>\n",
       "      <td>Retail Park</td>\n",
       "      <td>1595638</td>\n",
       "      <td>1281661</td>\n",
       "      <td>1104490</td>\n",
       "      <td>1011395</td>\n",
       "      <td>11</td>\n",
       "      <td>219</td>\n",
       "      <td>13</td>\n",
       "      <td>18</td>\n",
       "      <td>Bad</td>\n",
       "    </tr>\n",
       "    <tr>\n",
       "      <th>3</th>\n",
       "      <td>Stratton</td>\n",
       "      <td>UK</td>\n",
       "      <td>2055</td>\n",
       "      <td>Antonia</td>\n",
       "      <td>7</td>\n",
       "      <td>17092</td>\n",
       "      <td>117</td>\n",
       "      <td>No</td>\n",
       "      <td>14</td>\n",
       "      <td>High Street</td>\n",
       "      <td>1179395</td>\n",
       "      <td>1022959</td>\n",
       "      <td>1009496</td>\n",
       "      <td>1002169</td>\n",
       "      <td>5</td>\n",
       "      <td>261</td>\n",
       "      <td>15</td>\n",
       "      <td>12</td>\n",
       "      <td>Bad</td>\n",
       "    </tr>\n",
       "    <tr>\n",
       "      <th>4</th>\n",
       "      <td>Shepperton</td>\n",
       "      <td>UK</td>\n",
       "      <td>2141</td>\n",
       "      <td>Gabriel</td>\n",
       "      <td>7</td>\n",
       "      <td>11307</td>\n",
       "      <td>103</td>\n",
       "      <td>No</td>\n",
       "      <td>18</td>\n",
       "      <td>Retail Park</td>\n",
       "      <td>1398558</td>\n",
       "      <td>1085170</td>\n",
       "      <td>1003137</td>\n",
       "      <td>1002513</td>\n",
       "      <td>7</td>\n",
       "      <td>200</td>\n",
       "      <td>19</td>\n",
       "      <td>13</td>\n",
       "      <td>Bad</td>\n",
       "    </tr>\n",
       "  </tbody>\n",
       "</table>\n",
       "</div>"
      ],
      "text/plain": [
       "                            Town Country  Store ID Manager name  Staff  \\\n",
       "0   Swinton (Greater Manchester)      UK      1437        Roger      9   \n",
       "1                       Stamford      UK      1544         Ella      8   \n",
       "2                        Skipton      UK      2039    Valentina     -2   \n",
       "3                       Stratton      UK      2055      Antonia      7   \n",
       "4                     Shepperton      UK      2141      Gabriel      7   \n",
       "\n",
       "   Floor Space  Window Car park  Demographic score         Location  \\\n",
       "0        18526     121      Yes                 10      Retail Park   \n",
       "1        18569     121      Yes                 11  Shopping Centre   \n",
       "2        12288     105       No                 12      Retail Park   \n",
       "3        17092     117       No                 14      High Street   \n",
       "4        11307     103       No                 18      Retail Park   \n",
       "\n",
       "   40min population  30 min population  20 min population  10 min population  \\\n",
       "0           1288374            1138224            1006986            1002340   \n",
       "1           1086225            1015321            1012182            1008436   \n",
       "2           1595638            1281661            1104490            1011395   \n",
       "3           1179395            1022959            1009496            1002169   \n",
       "4           1398558            1085170            1003137            1002513   \n",
       "\n",
       "   Store age  Clearance space  Competition number  Competition score  \\\n",
       "0          3              238                  16                 16   \n",
       "1          4              384                  15                 19   \n",
       "2         11              219                  13                 18   \n",
       "3          5              261                  15                 12   \n",
       "4          7              200                  19                 13   \n",
       "\n",
       "  Performance  \n",
       "0        Good  \n",
       "1        Good  \n",
       "2         Bad  \n",
       "3         Bad  \n",
       "4         Bad  "
      ]
     },
     "execution_count": 45,
     "metadata": {},
     "output_type": "execute_result"
    }
   ],
   "source": [
    "df = pd.read_csv('./data/storedata.csv')\n",
    "df.head()"
   ]
  },
  {
   "cell_type": "code",
   "execution_count": 46,
   "id": "8bd2f9e4-3afe-41c9-adbc-67e35870f838",
   "metadata": {
    "scrolled": true
   },
   "outputs": [
    {
     "data": {
      "text/plain": [
       "(2584,\n",
       " (136, 19),\n",
       " Index(['Town', 'Country', 'Store ID', 'Manager name', 'Staff', 'Floor Space',\n",
       "        'Window', 'Car park', 'Demographic score', 'Location',\n",
       "        '40min population', '30 min population', '20 min population',\n",
       "        '10 min population', 'Store age', 'Clearance space',\n",
       "        'Competition number', 'Competition score', 'Performance'],\n",
       "       dtype='object'))"
      ]
     },
     "execution_count": 46,
     "metadata": {},
     "output_type": "execute_result"
    }
   ],
   "source": [
    "df.size, df.shape,df.columns"
   ]
  },
  {
   "cell_type": "code",
   "execution_count": 47,
   "id": "748617d2-db39-4bb8-827b-3c216438c828",
   "metadata": {},
   "outputs": [
    {
     "name": "stdout",
     "output_type": "stream",
     "text": [
      "<class 'pandas.core.frame.DataFrame'>\n",
      "RangeIndex: 136 entries, 0 to 135\n",
      "Data columns (total 19 columns):\n",
      " #   Column              Non-Null Count  Dtype \n",
      "---  ------              --------------  ----- \n",
      " 0   Town                136 non-null    object\n",
      " 1   Country             136 non-null    object\n",
      " 2   Store ID            136 non-null    int64 \n",
      " 3   Manager name        136 non-null    object\n",
      " 4   Staff               136 non-null    int64 \n",
      " 5   Floor Space         136 non-null    int64 \n",
      " 6   Window              136 non-null    int64 \n",
      " 7   Car park            136 non-null    object\n",
      " 8   Demographic score   136 non-null    int64 \n",
      " 9   Location            136 non-null    object\n",
      " 10  40min population    136 non-null    int64 \n",
      " 11  30 min population   136 non-null    int64 \n",
      " 12  20 min population   136 non-null    int64 \n",
      " 13  10 min population   136 non-null    int64 \n",
      " 14  Store age           136 non-null    int64 \n",
      " 15  Clearance space     136 non-null    int64 \n",
      " 16  Competition number  136 non-null    int64 \n",
      " 17  Competition score   136 non-null    int64 \n",
      " 18  Performance         136 non-null    object\n",
      "dtypes: int64(13), object(6)\n",
      "memory usage: 20.3+ KB\n"
     ]
    }
   ],
   "source": [
    "df.info()"
   ]
  },
  {
   "cell_type": "code",
   "execution_count": 48,
   "id": "8b426e35-dcc8-4470-bdc1-2a968d1a90d8",
   "metadata": {},
   "outputs": [
    {
     "data": {
      "text/html": [
       "<div>\n",
       "<style scoped>\n",
       "    .dataframe tbody tr th:only-of-type {\n",
       "        vertical-align: middle;\n",
       "    }\n",
       "\n",
       "    .dataframe tbody tr th {\n",
       "        vertical-align: top;\n",
       "    }\n",
       "\n",
       "    .dataframe thead th {\n",
       "        text-align: right;\n",
       "    }\n",
       "</style>\n",
       "<table border=\"1\" class=\"dataframe\">\n",
       "  <thead>\n",
       "    <tr style=\"text-align: right;\">\n",
       "      <th></th>\n",
       "      <th>Store ID</th>\n",
       "      <th>Staff</th>\n",
       "      <th>Floor Space</th>\n",
       "      <th>Window</th>\n",
       "      <th>Demographic score</th>\n",
       "      <th>40min population</th>\n",
       "      <th>30 min population</th>\n",
       "      <th>20 min population</th>\n",
       "      <th>10 min population</th>\n",
       "      <th>Store age</th>\n",
       "      <th>Clearance space</th>\n",
       "      <th>Competition number</th>\n",
       "      <th>Competition score</th>\n",
       "    </tr>\n",
       "  </thead>\n",
       "  <tbody>\n",
       "    <tr>\n",
       "      <th>count</th>\n",
       "      <td>136.000</td>\n",
       "      <td>136.000</td>\n",
       "      <td>136.000</td>\n",
       "      <td>136.000</td>\n",
       "      <td>136.000</td>\n",
       "      <td>136.000</td>\n",
       "      <td>136.000</td>\n",
       "      <td>136.000</td>\n",
       "      <td>136.000</td>\n",
       "      <td>136.000</td>\n",
       "      <td>136.000</td>\n",
       "      <td>136.000</td>\n",
       "      <td>136.000</td>\n",
       "    </tr>\n",
       "    <tr>\n",
       "      <th>mean</th>\n",
       "      <td>52172.581</td>\n",
       "      <td>13.353</td>\n",
       "      <td>15024.096</td>\n",
       "      <td>112.044</td>\n",
       "      <td>14.463</td>\n",
       "      <td>1487374.478</td>\n",
       "      <td>1249869.941</td>\n",
       "      <td>1134532.765</td>\n",
       "      <td>1066117.735</td>\n",
       "      <td>6.529</td>\n",
       "      <td>262.426</td>\n",
       "      <td>14.463</td>\n",
       "      <td>14.809</td>\n",
       "    </tr>\n",
       "    <tr>\n",
       "      <th>std</th>\n",
       "      <td>28725.990</td>\n",
       "      <td>56.592</td>\n",
       "      <td>2761.802</td>\n",
       "      <td>6.884</td>\n",
       "      <td>2.875</td>\n",
       "      <td>280498.938</td>\n",
       "      <td>216087.517</td>\n",
       "      <td>149027.970</td>\n",
       "      <td>88845.854</td>\n",
       "      <td>2.815</td>\n",
       "      <td>51.724</td>\n",
       "      <td>2.895</td>\n",
       "      <td>2.955</td>\n",
       "    </tr>\n",
       "    <tr>\n",
       "      <th>min</th>\n",
       "      <td>1437.000</td>\n",
       "      <td>-2.000</td>\n",
       "      <td>10072.000</td>\n",
       "      <td>100.000</td>\n",
       "      <td>10.000</td>\n",
       "      <td>1030405.000</td>\n",
       "      <td>1000653.000</td>\n",
       "      <td>1000214.000</td>\n",
       "      <td>1000002.000</td>\n",
       "      <td>2.000</td>\n",
       "      <td>200.000</td>\n",
       "      <td>10.000</td>\n",
       "      <td>10.000</td>\n",
       "    </tr>\n",
       "    <tr>\n",
       "      <th>25%</th>\n",
       "      <td>24707.250</td>\n",
       "      <td>6.000</td>\n",
       "      <td>12793.000</td>\n",
       "      <td>106.750</td>\n",
       "      <td>12.000</td>\n",
       "      <td>1254949.250</td>\n",
       "      <td>1057284.000</td>\n",
       "      <td>1012572.750</td>\n",
       "      <td>1005593.000</td>\n",
       "      <td>4.000</td>\n",
       "      <td>220.750</td>\n",
       "      <td>12.000</td>\n",
       "      <td>13.000</td>\n",
       "    </tr>\n",
       "    <tr>\n",
       "      <th>50%</th>\n",
       "      <td>56011.500</td>\n",
       "      <td>7.000</td>\n",
       "      <td>14596.500</td>\n",
       "      <td>111.000</td>\n",
       "      <td>14.500</td>\n",
       "      <td>1516337.500</td>\n",
       "      <td>1214459.000</td>\n",
       "      <td>1077542.000</td>\n",
       "      <td>1033228.500</td>\n",
       "      <td>6.000</td>\n",
       "      <td>249.000</td>\n",
       "      <td>15.000</td>\n",
       "      <td>15.000</td>\n",
       "    </tr>\n",
       "    <tr>\n",
       "      <th>75%</th>\n",
       "      <td>76870.500</td>\n",
       "      <td>8.000</td>\n",
       "      <td>17543.750</td>\n",
       "      <td>118.000</td>\n",
       "      <td>17.000</td>\n",
       "      <td>1696352.500</td>\n",
       "      <td>1396966.750</td>\n",
       "      <td>1203076.750</td>\n",
       "      <td>1090349.000</td>\n",
       "      <td>9.000</td>\n",
       "      <td>292.250</td>\n",
       "      <td>17.000</td>\n",
       "      <td>18.000</td>\n",
       "    </tr>\n",
       "    <tr>\n",
       "      <th>max</th>\n",
       "      <td>99854.000</td>\n",
       "      <td>600.000</td>\n",
       "      <td>19869.000</td>\n",
       "      <td>124.000</td>\n",
       "      <td>19.000</td>\n",
       "      <td>1997044.000</td>\n",
       "      <td>1929089.000</td>\n",
       "      <td>1723395.000</td>\n",
       "      <td>1426533.000</td>\n",
       "      <td>11.000</td>\n",
       "      <td>408.000</td>\n",
       "      <td>19.000</td>\n",
       "      <td>19.000</td>\n",
       "    </tr>\n",
       "  </tbody>\n",
       "</table>\n",
       "</div>"
      ],
      "text/plain": [
       "        Store ID    Staff  Floor Space   Window  Demographic score  \\\n",
       "count    136.000  136.000      136.000  136.000            136.000   \n",
       "mean   52172.581   13.353    15024.096  112.044             14.463   \n",
       "std    28725.990   56.592     2761.802    6.884              2.875   \n",
       "min     1437.000   -2.000    10072.000  100.000             10.000   \n",
       "25%    24707.250    6.000    12793.000  106.750             12.000   \n",
       "50%    56011.500    7.000    14596.500  111.000             14.500   \n",
       "75%    76870.500    8.000    17543.750  118.000             17.000   \n",
       "max    99854.000  600.000    19869.000  124.000             19.000   \n",
       "\n",
       "       40min population  30 min population  20 min population  \\\n",
       "count           136.000            136.000            136.000   \n",
       "mean        1487374.478        1249869.941        1134532.765   \n",
       "std          280498.938         216087.517         149027.970   \n",
       "min         1030405.000        1000653.000        1000214.000   \n",
       "25%         1254949.250        1057284.000        1012572.750   \n",
       "50%         1516337.500        1214459.000        1077542.000   \n",
       "75%         1696352.500        1396966.750        1203076.750   \n",
       "max         1997044.000        1929089.000        1723395.000   \n",
       "\n",
       "       10 min population  Store age  Clearance space  Competition number  \\\n",
       "count            136.000    136.000          136.000             136.000   \n",
       "mean         1066117.735      6.529          262.426              14.463   \n",
       "std            88845.854      2.815           51.724               2.895   \n",
       "min          1000002.000      2.000          200.000              10.000   \n",
       "25%          1005593.000      4.000          220.750              12.000   \n",
       "50%          1033228.500      6.000          249.000              15.000   \n",
       "75%          1090349.000      9.000          292.250              17.000   \n",
       "max          1426533.000     11.000          408.000              19.000   \n",
       "\n",
       "       Competition score  \n",
       "count            136.000  \n",
       "mean              14.809  \n",
       "std                2.955  \n",
       "min               10.000  \n",
       "25%               13.000  \n",
       "50%               15.000  \n",
       "75%               18.000  \n",
       "max               19.000  "
      ]
     },
     "execution_count": 48,
     "metadata": {},
     "output_type": "execute_result"
    }
   ],
   "source": [
    "df.describe().round(3)"
   ]
  },
  {
   "cell_type": "code",
   "execution_count": 49,
   "id": "81369021-efd6-453c-8fb4-3be45b4a6669",
   "metadata": {},
   "outputs": [
    {
     "data": {
      "text/plain": [
       "Town                  0\n",
       "Country               0\n",
       "Store ID              0\n",
       "Manager name          0\n",
       "Staff                 0\n",
       "Floor Space           0\n",
       "Window                0\n",
       "Car park              0\n",
       "Demographic score     0\n",
       "Location              0\n",
       "40min population      0\n",
       "30 min population     0\n",
       "20 min population     0\n",
       "10 min population     0\n",
       "Store age             0\n",
       "Clearance space       0\n",
       "Competition number    0\n",
       "Competition score     0\n",
       "Performance           0\n",
       "dtype: int64"
      ]
     },
     "execution_count": 49,
     "metadata": {},
     "output_type": "execute_result"
    }
   ],
   "source": [
    "df.isna().sum()"
   ]
  },
  {
   "cell_type": "code",
   "execution_count": 50,
   "id": "13ab905f-fb57-422d-8816-6cddf36152dc",
   "metadata": {},
   "outputs": [
    {
     "data": {
      "text/plain": [
       "0      False\n",
       "1      False\n",
       "2      False\n",
       "3      False\n",
       "4      False\n",
       "       ...  \n",
       "131    False\n",
       "132    False\n",
       "133    False\n",
       "134    False\n",
       "135    False\n",
       "Length: 136, dtype: bool"
      ]
     },
     "execution_count": 50,
     "metadata": {},
     "output_type": "execute_result"
    }
   ],
   "source": [
    "df.duplicated()"
   ]
  },
  {
   "cell_type": "code",
   "execution_count": 51,
   "id": "674c214b-9b99-4073-835e-d15089c0e6c0",
   "metadata": {},
   "outputs": [
    {
     "data": {
      "text/plain": [
       "0"
      ]
     },
     "execution_count": 51,
     "metadata": {},
     "output_type": "execute_result"
    }
   ],
   "source": [
    "sum(df.duplicated())"
   ]
  },
  {
   "cell_type": "code",
   "execution_count": 52,
   "id": "c73eeb79-b354-4df6-b5f7-580390345d1e",
   "metadata": {},
   "outputs": [
    {
     "name": "stdout",
     "output_type": "stream",
     "text": [
      "Town:136\n",
      "Country:2\n",
      "Store ID:136\n",
      "Manager name:118\n",
      "Staff:8\n",
      "Floor Space:135\n",
      "Window:25\n",
      "Car park:4\n",
      "Demographic score:10\n",
      "Location:4\n",
      "40min population:136\n",
      "30 min population:136\n",
      "20 min population:136\n",
      "10 min population:136\n",
      "Store age:10\n",
      "Clearance space:90\n",
      "Competition number:10\n",
      "Competition score:10\n",
      "Performance:2\n"
     ]
    }
   ],
   "source": [
    "for i in df.columns:\n",
    "    print(f'{i}:{df[i].nunique()}')"
   ]
  },
  {
   "cell_type": "code",
   "execution_count": 53,
   "id": "665acf9c-9ba9-493d-a497-f02173cb6270",
   "metadata": {},
   "outputs": [
    {
     "name": "stdout",
     "output_type": "stream",
     "text": [
      "Town:[' Swinton (Greater Manchester)' ' Stamford' ' Skipton' ' Stratton'\n",
      " ' Shepperton' ' Southwell' ' Swinton (South Yorkshire)' ' Sowerby Bridge'\n",
      " ' Sheffield' ' Stanley' ' Shepshed' ' Staines' ' Sutton' ' Stafford'\n",
      " ' Sawbridgeworth' ' Stocksbridge' ' Salcombe' ' Southminster' ' Slough'\n",
      " ' Sedgley' ' St Mawes' ' Sudbury' ' Steyning' ' Southampton' ' Snaith'\n",
      " ' Sampford Courtenay' ' Skelmersdale' ' Scunthorpe' ' Sunderland'\n",
      " ' Streatham' ' Saxmundham' ' Sandiacre' ' Stretford' ' St Austell'\n",
      " ' Stalbridge' ' Southwick' ' Shefford' ' Stanford-le-Hope' ' Swindon'\n",
      " ' Stainforth' ' St Helens' ' Stourbridge' ' Swadlincote' ' Sale'\n",
      " ' Seaham' ' Southwold' ' Shanklin' ' South Shields' ' Southport'\n",
      " ' Stalham' ' Shaw & Crompton' ' South Elmsall' ' St Blazey' ' Sherborne'\n",
      " ' Smethwick' ' Stow-on-the-Wold' ' Sandwich' ' Shaftesbury' ' Spalding'\n",
      " ' Stockton-on-Tees' ' Stroud' ' Scarborough' ' South Molton' ' Saltash'\n",
      " ' Shoeburyness' ' Sutton-in-Ashfield' ' Shifnal' ' Strood' ' Southam'\n",
      " ' Shirebrook' ' Swanage' ' Seaton' ' Swaffham' ' Sturminster Newton'\n",
      " ' Soham' ' Shipley' ' Skelton-in-Cleveland' ' Seaford' ' Shildon'\n",
      " ' South Woodham Ferrers' ' Stowmarket' ' Stevenage' ' Staveley'\n",
      " ' Sheringham' ' Silloth' ' Stotfold' ' Silsden' ' South Cave' ' Settle'\n",
      " ' Sleaford' ' Shepton Mallet' ' Stoke-on-Trent' ' Sandhurst'\n",
      " ' Shoreham-by-Sea' ' Spilsby' ' Shipston-on-Stour' ' Saltburn-by-the-Sea'\n",
      " ' Selsey' ' Somerton' ' Swanley' ' Sandown' ' St Just in Penwith'\n",
      " ' Sittingbourne' ' Stone' ' Sunbury-on-Thames' ' Sandbach' ' Sedbergh'\n",
      " ' Stokesley' ' Shrewsbury' ' South Petherton' 'St Albans' ' Syston'\n",
      " ' St Neots' ' Southend-on-Sea' ' Stourport-on-Severn' ' Snodland'\n",
      " ' Stockport' ' Skegness' ' Sidmouth' ' St Columb Major' ' Stalybridge'\n",
      " ' Selby' ' St Ives' ' Spennymoor' ' Stratford-upon-Avon'\n",
      " ' Stony Stratford' ' Sevenoaks' ' Salisbury' ' Solihull' ' Southborough'\n",
      " ' Sutton Coldfield' ' South Benfleet' ' Sandy' ' Sheerness' ' Salford'\n",
      " ' Stapleford']\n",
      "Country:['UK' 'France']\n",
      "Store ID:[ 1437  1544  2039  2055  2141  2309  3800  4214  4857  4860  7491  7566\n",
      "  8207  9171 11440 13132 13984 14359 14421 14984 15125 16727 16741 18554\n",
      " 19296 20304 20971 21359 23025 23231 23249 23705 24174 24618 24737 26307\n",
      " 29319 32610 34686 35207 35944 36979 37708 37916 40352 40676 41475 42172\n",
      " 42797 42943 43044 43066 44476 44722 45223 45547 45577 46116 47290 48341\n",
      " 50703 51992 52414 54193 55138 55717 55895 55967 56056 56595 56930 57418\n",
      " 58249 58882 59280 59431 59517 59653 59794 60116 61950 62022 62586 63017\n",
      " 64781 65437 65659 66482 66844 67041 67403 67717 67825 67831 68816 69540\n",
      " 73474 74421 74620 74958 76653 76773 77163 77644 78305 78368 78904 79413\n",
      " 81258 82709 82754 83250 83312 83479 83480 84225 85185 85476 87212 87510\n",
      " 88442 88942 90621 90995 91085 92341 92768 93212 93991 95915 96852 96853\n",
      " 96858 98062 98923 99854]\n",
      "Manager name:['Roger' 'Ella' 'Valentina' 'Antonia' 'Gabriel' 'Sarah' 'James' 'Ashley'\n",
      " 'Guilherme' 'Grace' 'Franco' 'Olivia' 'Emily' 'Matheus' 'Megane' 'Samuel'\n",
      " 'Emma' 'Agustina' 'Justin' 'Sebasti�n' 'Isabella' 'Laurence' 'J�lia'\n",
      " 'Luc�a' 'Nicol�s' 'Sof�a' 'Luiz' 'Abigail' 'Fernanda' 'Mart�n' 'Nathan'\n",
      " 'Francisca' 'Vin�cius' 'Madison' 'Hannah' 'Antony' 'Tom�s' 'Samantha'\n",
      " 'Ryan' 'Logan' 'Sydney' 'Jeremy' 'Larissa' 'Ava' 'Jacob' 'Yasmin'\n",
      " 'Vicente' 'Ethan' 'Micaela' 'Matthew' 'Jo�o' 'Taylor' 'Xavier' 'Beatriz'\n",
      " 'Olivier' 'Christopher' 'Sophia' 'Dylan' 'Jessica' 'Ana' 'Connor' 'Julie'\n",
      " 'Liam' 'Jo' 'Victoria' 'Daniel' 'Camila' 'Lucas' 'Diego' 'Megan'\n",
      " 'Martina' 'Noemie' 'Rosalie' 'Andrew' 'Catalina' 'Alexis' 'Giovanna'\n",
      " 'Jos�' 'Felix' 'Audrey' 'Nicholas' 'Benjam�n' 'Crist�bal' 'Noah' 'Joshua'\n",
      " 'Maria' 'Kate' 'Michael' 'Thiago' 'Alexander' 'Coralie' 'Lautaro'\n",
      " 'Camille' 'Antoine' 'Mariana' 'William' 'Amy' 'Santiago' 'Javiera'\n",
      " 'Milagros' 'Jade' 'Agust�n' 'Anthony' 'Tyler' 'Juan' 'Thomas' 'Paige'\n",
      " 'Mar�a' 'Constanza' 'Joaqu�n' 'Pedro' 'Julieta' 'Let�cia' 'Vit�ria'\n",
      " 'Mat�as' 'Gustavo' 'Rafael' 'Lea']\n",
      "Staff:[  9   8  -2   7   5   6 300 600]\n",
      "Floor Space:[18526 18569 12288 17092 11307 17888 13814 15643 13869 12071 13487 11071\n",
      " 18923 13827 14588 11824 14291 10911 15219 12128 18686 19025 18535 16219\n",
      " 19337 12234 13810 19000 16736 12959 16607 18284 18399 18077 19093 16915\n",
      " 14605 11834 15041 13127 17586 12075 11441 17006 12913 14948 11572 11038\n",
      " 18143 14359 13289 10774 13637 15053 10944 11538 11898 13532 11967 16270\n",
      " 12604 19087 16055 14362 12363 15292 19295 14833 13709 16848 13899 15876\n",
      " 13008 13989 15220 12545 10072 18752 14246 12092 15409 10486 12856 16652\n",
      " 13283 14497 10804 19784 17912 17303 12987 19174 13635 19110 18503 13766\n",
      " 17531 16344 17982 19579 11992 10899 19223 17242 13009 15738 11198 16091\n",
      " 15785 17744 14466 19375 19587 18928 14304 19869 15763 19037 11901 14087\n",
      " 11889 18496 17582 17521 16280 14962 11820 13908 10080 11884 14120 11205\n",
      " 16190 15516 14468]\n",
      "Window:[121 105 117 103 119 109 114 108 102 122 111 104 110 113 115 123 116 107\n",
      " 120 112 118 101 106 100 124]\n",
      "Car park:['Yes' 'No' 'Y' 'N']\n",
      "Demographic score:[10 11 12 14 18 19 17 15 13 16]\n",
      "Location:['Retail Park' 'Shopping Centre' 'High Street' 'Village']\n",
      "40min population:[1288374 1086225 1595638 1179395 1398558 1614716 1323396 1052606 1537032\n",
      " 1141000 1066359 1514670 1270676 1132725 1242546 1043277 1395395 1392302\n",
      " 1973493 1634545 1721811 1817320 1182360 1759951 1137206 1765398 1392247\n",
      " 1546802 1474310 1575328 1956875 1879248 1101114 1518005 1609510 1697206\n",
      " 1486821 1555172 1408324 1171849 1661094 1987353 1772431 1722997 1845352\n",
      " 1892976 1518361 1337148 1337555 1318997 1239852 1438538 1775854 1067570\n",
      " 1451335 1806266 1682013 1911293 1678349 1819666 1359135 1080858 1578396\n",
      " 1990908 1090251 1099956 1933714 1345628 1061935 1910238 1888945 1423209\n",
      " 1568216 1087241 1103583 1350345 1258330 1897155 1476016 1244807 1087574\n",
      " 1237483 1481703 1931932 1605018 1537976 1617525 1070741 1085917 1812944\n",
      " 1665487 1795548 1549510 1460032 1815111 1951800 1451869 1179344 1774382\n",
      " 1716162 1269669 1549687 1261985 1584169 1143772 1885907 1045772 1033883\n",
      " 1135871 1343476 1301020 1532781 1620284 1428417 1558604 1259975 1831776\n",
      " 1647297 1369195 1145543 1997044 1983592 1672936 1207172 1656951 1696068\n",
      " 1034523 1557600 1586575 1541541 1030405 1665074 1657769 1407456 1451087\n",
      " 1706344]\n",
      "30 min population:[1138224 1015321 1281661 1022959 1085170 1325848 1047485 1025407 1301956\n",
      " 1029186 1032143 1400857 1175257 1102537 1053056 1004546 1010441 1113062\n",
      " 1929089 1482561 1279394 1735622 1077124 1635794 1066238 1555157 1077683\n",
      " 1447179 1366274 1245626 1461685 1692035 1087742 1057762 1549228 1222492\n",
      " 1053920 1489253 1372550 1084983 1388562 1812472 1331168 1138993 1142379\n",
      " 1100161 1004958 1306856 1094390 1210225 1055619 1264765 1347098 1025791\n",
      " 1339685 1296257 1560162 1415771 1113468 1105522 1218693 1045879 1462181\n",
      " 1395670 1085936 1008500 1360183 1088954 1006165 1656150 1523248 1408262\n",
      " 1509273 1026797 1024337 1108492 1256349 1000653 1380127 1228531 1017665\n",
      " 1158975 1448279 1547591 1517910 1447127 1015435 1009942 1079883 1054693\n",
      " 1527666 1001508 1174611 1395215 1663549 1750297 1246513 1037715 1297711\n",
      " 1530071 1048134 1528672 1095548 1238617 1106672 1018295 1002236 1001550\n",
      " 1132465 1296509 1167302 1444610 1174833 1099245 1313681 1118359 1011411\n",
      " 1055850 1331407 1117032 1804663 1234498 1292715 1205457 1594037 1109630\n",
      " 1028457 1413964 1021914 1474539 1016260 1240813 1424404 1359511 1245725\n",
      " 1307752]\n",
      "20 min population:[1006986 1012182 1104490 1009496 1003137 1220059 1000888 1004490 1220364\n",
      " 1005096 1012703 1319646 1032335 1058262 1047783 1001718 1005783 1097869\n",
      " 1429238 1353056 1212956 1723395 1049837 1232915 1049975 1053211 1068892\n",
      " 1074217 1003031 1210849 1405893 1006608 1063778 1010136 1427320 1162941\n",
      " 1002953 1120444 1249482 1006564 1179306 1105847 1140500 1118970 1135291\n",
      " 1053955 1002835 1078736 1092683 1005431 1000653 1226241 1232542 1001489\n",
      " 1162571 1022238 1447033 1322834 1027034 1010812 1145770 1040302 1346727\n",
      " 1320752 1056470 1003118 1300810 1035579 1002529 1363895 1508361 1185937\n",
      " 1447590 1010491 1003393 1094175 1184882 1000214 1014046 1076416 1003951\n",
      " 1105342 1076634 1547000 1090982 1244066 1013871 1000635 1060991 1016635\n",
      " 1467470 1000580 1063668 1164795 1498248 1195799 1125463 1033245 1158954\n",
      " 1183061 1023493 1406356 1017140 1066152 1059392 1010434 1000642 1001462\n",
      " 1072298 1093566 1158329 1228299 1018911 1078450 1146846 1047303 1004012\n",
      " 1025509 1237201 1011454 1461181 1127999 1214843 1177404 1185742 1037165\n",
      " 1002231 1249072 1017342 1462733 1004442 1141898 1378708 1200486 1127276\n",
      " 1159859]\n",
      "10 min population:[1002340 1008436 1011395 1002169 1002513 1193318 1000844 1000319 1057921\n",
      " 1000687 1001537 1010879 1020164 1012348 1007899 1000627 1004909 1030824\n",
      " 1426533 1296149 1036456 1272149 1014968 1158507 1041967 1015616 1045144\n",
      " 1006703 1002039 1099580 1184961 1005623 1018675 1008599 1027983 1018063\n",
      " 1000801 1093443 1102259 1003013 1083011 1090676 1051557 1087986 1123134\n",
      " 1005729 1001393 1056905 1069579 1001776 1000359 1162342 1103495 1000793\n",
      " 1103072 1001346 1397710 1084790 1018319 1005503 1067001 1033760 1318099\n",
      " 1095986 1028772 1000509 1152990 1025745 1001991 1159545 1233530 1046917\n",
      " 1253376 1001526 1000743 1044860 1072598 1000040 1000933 1037950 1002760\n",
      " 1032697 1036922 1298080 1064902 1046174 1011486 1000593 1037616 1013033\n",
      " 1107087 1000052 1009045 1136346 1010955 1054550 1026729 1031126 1076046\n",
      " 1165604 1011228 1208919 1000639 1054016 1051305 1006442 1000002 1001300\n",
      " 1034275 1090240 1045449 1102398 1014177 1027636 1099067 1038885 1001402\n",
      " 1009779 1101164 1005261 1290194 1086379 1191116 1061837 1087131 1008244\n",
      " 1002201 1191086 1013646 1384705 1003598 1041041 1160929 1063718 1045154\n",
      " 1020940]\n",
      "Store age:[ 3  4 11  5  7  2  9  6 10  8]\n",
      "Clearance space:[238 384 219 261 200 394 228 258 217 222 246 202 237 242 225 272 203 324\n",
      " 249 346 223 266 273 293 234 270 206 241 233 207 408 281 232 368 305 267\n",
      " 235 264 227 323 263 209 355 285 208 310 204 350 343 214 336 291 315 251\n",
      " 247 220 221 236 277 211 240 280 243 311 381 278 337 255 262 338 300 312\n",
      " 226 388 345 210 376 334 254 309 320 245 292 363 252 290 274 268 341 276]\n",
      "Competition number:[16 15 13 19 17 11 12 10 18 14]\n",
      "Competition score:[16 19 18 12 13 11 14 10 17 15]\n",
      "Performance:['Good' 'Bad']\n"
     ]
    }
   ],
   "source": [
    "for i in df.columns:\n",
    "    print(f'{i}:{df[i].unique()}')"
   ]
  },
  {
   "cell_type": "code",
   "execution_count": 54,
   "id": "b426d6bb-422b-4acb-8d42-27d53574d5f8",
   "metadata": {},
   "outputs": [
    {
     "data": {
      "text/plain": [
       "array(['Yes', 'No', 'Y', 'N'], dtype=object)"
      ]
     },
     "execution_count": 54,
     "metadata": {},
     "output_type": "execute_result"
    }
   ],
   "source": [
    "df['Car park'].unique()"
   ]
  },
  {
   "cell_type": "code",
   "execution_count": 55,
   "id": "b88448c9-3190-46e4-aecf-234069001e80",
   "metadata": {},
   "outputs": [],
   "source": [
    "df['Car park']= df['Car park'].replace('Y','Yes')\n",
    "df['Car park']= df['Car park'].replace('N','No')"
   ]
  },
  {
   "cell_type": "code",
   "execution_count": 56,
   "id": "c6575eca-a12b-4bef-843a-5bfe7b441035",
   "metadata": {},
   "outputs": [
    {
     "data": {
      "text/plain": [
       "array(['Yes', 'No'], dtype=object)"
      ]
     },
     "execution_count": 56,
     "metadata": {},
     "output_type": "execute_result"
    }
   ],
   "source": [
    "df['Car park'].unique()"
   ]
  },
  {
   "cell_type": "markdown",
   "id": "8261be45-a6da-4292-85e4-135445e0b92f",
   "metadata": {},
   "source": [
    "# checking for outliers with histogram"
   ]
  },
  {
   "cell_type": "code",
   "execution_count": 57,
   "id": "547b10c4-c346-45a3-a3c2-65bbbbd983b7",
   "metadata": {},
   "outputs": [
    {
     "data": {
      "text/plain": [
       "<Axes: >"
      ]
     },
     "execution_count": 57,
     "metadata": {},
     "output_type": "execute_result"
    },
    {
     "data": {
      "image/png": "[encoded data removed]",
      "text/plain": [
       "<Figure size 640x480 with 1 Axes>"
      ]
     },
     "metadata": {},
     "output_type": "display_data"
    }
   ],
   "source": [
    "df.Staff.hist()"
   ]
  },
  {
   "cell_type": "code",
   "execution_count": 58,
   "id": "3095027f-e028-4809-97e7-ef9bf0eb590b",
   "metadata": {},
   "outputs": [
    {
     "data": {
      "text/plain": [
       "<Axes: >"
      ]
     },
     "execution_count": 58,
     "metadata": {},
     "output_type": "execute_result"
    },
    {
     "data": {
      "image/png": "[encoded data removed]",
      "text/plain": [
       "<Figure size 640x480 with 1 Axes>"
      ]
     },
     "metadata": {},
     "output_type": "display_data"
    }
   ],
   "source": [
    "df['Floor Space'].hist()"
   ]
  },
  {
   "cell_type": "code",
   "execution_count": 59,
   "id": "90e1b1b5-aea5-4ead-9c45-a09113eae932",
   "metadata": {},
   "outputs": [
    {
     "data": {
      "text/plain": [
       "<Axes: >"
      ]
     },
     "execution_count": 59,
     "metadata": {},
     "output_type": "execute_result"
    },
    {
     "data": {
      "image/png": "[encoded data removed]",
      "text/plain": [
       "<Figure size 640x480 with 1 Axes>"
      ]
     },
     "metadata": {},
     "output_type": "display_data"
    }
   ],
   "source": [
    "df['30 min population'].hist()"
   ]
  },
  {
   "cell_type": "code",
   "execution_count": 60,
   "id": "8f129867-9440-44f4-9563-a73d245d4969",
   "metadata": {},
   "outputs": [
    {
     "name": "stderr",
     "output_type": "stream",
     "text": [
      "C:\\Users\\PAMELA\\anaconda3\\Lib\\site-packages\\seaborn\\_oldcore.py:1119: FutureWarning: use_inf_as_na option is deprecated and will be removed in a future version. Convert inf values to NaN before operating instead.\n",
      "  with pd.option_context('mode.use_inf_as_na', True):\n"
     ]
    },
    {
     "data": {
      "text/plain": [
       "<Axes: xlabel='30 min population', ylabel='Count'>"
      ]
     },
     "execution_count": 60,
     "metadata": {},
     "output_type": "execute_result"
    },
    {
     "data": {
      "image/png": "[encoded data removed]",
      "text/plain": [
       "<Figure size 640x480 with 1 Axes>"
      ]
     },
     "metadata": {},
     "output_type": "display_data"
    }
   ],
   "source": [
    "sns.histplot(df,x = '30 min population')"
   ]
  },
  {
   "cell_type": "code",
   "execution_count": 61,
   "id": "a71ba1ec-4b85-4722-88d8-d77a09ba0fa4",
   "metadata": {},
   "outputs": [
    {
     "name": "stderr",
     "output_type": "stream",
     "text": [
      "C:\\Users\\PAMELA\\anaconda3\\Lib\\site-packages\\seaborn\\_oldcore.py:1119: FutureWarning: use_inf_as_na option is deprecated and will be removed in a future version. Convert inf values to NaN before operating instead.\n",
      "  with pd.option_context('mode.use_inf_as_na', True):\n"
     ]
    },
    {
     "data": {
      "text/plain": [
       "<seaborn.axisgrid.FacetGrid at 0x25f28c2a710>"
      ]
     },
     "execution_count": 61,
     "metadata": {},
     "output_type": "execute_result"
    },
    {
     "data": {
      "image/png": "[encoded data removed]",
      "text/plain": [
       "<Figure size 500x500 with 1 Axes>"
      ]
     },
     "metadata": {},
     "output_type": "display_data"
    }
   ],
   "source": [
    "sns.displot(df['30 min population'],color = 'black')# skewed to the right"
   ]
  },
  {
   "cell_type": "code",
   "execution_count": 62,
   "id": "53f56da3-c88d-4a4c-afad-8d3f32522bc4",
   "metadata": {},
   "outputs": [],
   "source": [
    "scaling =(x - x.min())/(x.max() - x.min())\n",
    "standardization=(x - x.mean())/x.std()"
   ]
  },
  {
   "cell_type": "code",
   "execution_count": 63,
   "id": "71bdcaba-8188-4056-b90a-f391fdc23755",
   "metadata": {},
   "outputs": [
    {
     "data": {
      "text/html": [
       "<div>\n",
       "<style scoped>\n",
       "    .dataframe tbody tr th:only-of-type {\n",
       "        vertical-align: middle;\n",
       "    }\n",
       "\n",
       "    .dataframe tbody tr th {\n",
       "        vertical-align: top;\n",
       "    }\n",
       "\n",
       "    .dataframe thead th {\n",
       "        text-align: right;\n",
       "    }\n",
       "</style>\n",
       "<table border=\"1\" class=\"dataframe\">\n",
       "  <thead>\n",
       "    <tr style=\"text-align: right;\">\n",
       "      <th></th>\n",
       "      <th>Town</th>\n",
       "      <th>Country</th>\n",
       "      <th>Store ID</th>\n",
       "      <th>Manager name</th>\n",
       "      <th>Staff</th>\n",
       "      <th>Floor Space</th>\n",
       "      <th>Window</th>\n",
       "      <th>Car park</th>\n",
       "      <th>Demographic score</th>\n",
       "      <th>Location</th>\n",
       "      <th>40min population</th>\n",
       "      <th>30 min population</th>\n",
       "      <th>20 min population</th>\n",
       "      <th>10 min population</th>\n",
       "      <th>Store age</th>\n",
       "      <th>Clearance space</th>\n",
       "      <th>Competition number</th>\n",
       "      <th>Competition score</th>\n",
       "      <th>Performance</th>\n",
       "    </tr>\n",
       "  </thead>\n",
       "  <tbody>\n",
       "    <tr>\n",
       "      <th>26</th>\n",
       "      <td>Skelmersdale</td>\n",
       "      <td>UK</td>\n",
       "      <td>20971</td>\n",
       "      <td>Sof�a</td>\n",
       "      <td>7</td>\n",
       "      <td>13810</td>\n",
       "      <td>109</td>\n",
       "      <td>Yes</td>\n",
       "      <td>14</td>\n",
       "      <td>High Street</td>\n",
       "      <td>1392247</td>\n",
       "      <td>1077683</td>\n",
       "      <td>1068892</td>\n",
       "      <td>1045144</td>\n",
       "      <td>5</td>\n",
       "      <td>270</td>\n",
       "      <td>13</td>\n",
       "      <td>17</td>\n",
       "      <td>Good</td>\n",
       "    </tr>\n",
       "    <tr>\n",
       "      <th>32</th>\n",
       "      <td>Stretford</td>\n",
       "      <td>UK</td>\n",
       "      <td>24174</td>\n",
       "      <td>Francisca</td>\n",
       "      <td>6</td>\n",
       "      <td>18399</td>\n",
       "      <td>120</td>\n",
       "      <td>Yes</td>\n",
       "      <td>15</td>\n",
       "      <td>High Street</td>\n",
       "      <td>1101114</td>\n",
       "      <td>1087742</td>\n",
       "      <td>1063778</td>\n",
       "      <td>1018675</td>\n",
       "      <td>10</td>\n",
       "      <td>408</td>\n",
       "      <td>12</td>\n",
       "      <td>15</td>\n",
       "      <td>Bad</td>\n",
       "    </tr>\n",
       "    <tr>\n",
       "      <th>13</th>\n",
       "      <td>Stafford</td>\n",
       "      <td>UK</td>\n",
       "      <td>9171</td>\n",
       "      <td>Emily</td>\n",
       "      <td>8</td>\n",
       "      <td>13827</td>\n",
       "      <td>109</td>\n",
       "      <td>Yes</td>\n",
       "      <td>12</td>\n",
       "      <td>Retail Park</td>\n",
       "      <td>1132725</td>\n",
       "      <td>1102537</td>\n",
       "      <td>1058262</td>\n",
       "      <td>1012348</td>\n",
       "      <td>7</td>\n",
       "      <td>242</td>\n",
       "      <td>19</td>\n",
       "      <td>13</td>\n",
       "      <td>Good</td>\n",
       "    </tr>\n",
       "    <tr>\n",
       "      <th>58</th>\n",
       "      <td>Spalding</td>\n",
       "      <td>UK</td>\n",
       "      <td>47290</td>\n",
       "      <td>Taylor</td>\n",
       "      <td>6</td>\n",
       "      <td>11967</td>\n",
       "      <td>104</td>\n",
       "      <td>Yes</td>\n",
       "      <td>16</td>\n",
       "      <td>Shopping Centre</td>\n",
       "      <td>1678349</td>\n",
       "      <td>1113468</td>\n",
       "      <td>1027034</td>\n",
       "      <td>1018319</td>\n",
       "      <td>4</td>\n",
       "      <td>219</td>\n",
       "      <td>10</td>\n",
       "      <td>12</td>\n",
       "      <td>Bad</td>\n",
       "    </tr>\n",
       "    <tr>\n",
       "      <th>25</th>\n",
       "      <td>Sampford Courtenay</td>\n",
       "      <td>UK</td>\n",
       "      <td>20304</td>\n",
       "      <td>Nicol�s</td>\n",
       "      <td>5</td>\n",
       "      <td>12234</td>\n",
       "      <td>105</td>\n",
       "      <td>No</td>\n",
       "      <td>14</td>\n",
       "      <td>Retail Park</td>\n",
       "      <td>1765398</td>\n",
       "      <td>1555157</td>\n",
       "      <td>1053211</td>\n",
       "      <td>1015616</td>\n",
       "      <td>7</td>\n",
       "      <td>234</td>\n",
       "      <td>11</td>\n",
       "      <td>16</td>\n",
       "      <td>Bad</td>\n",
       "    </tr>\n",
       "  </tbody>\n",
       "</table>\n",
       "</div>"
      ],
      "text/plain": [
       "                   Town Country  Store ID Manager name  Staff  Floor Space  \\\n",
       "26         Skelmersdale      UK     20971        Sof�a      7        13810   \n",
       "32            Stretford      UK     24174    Francisca      6        18399   \n",
       "13             Stafford      UK      9171        Emily      8        13827   \n",
       "58             Spalding      UK     47290       Taylor      6        11967   \n",
       "25   Sampford Courtenay      UK     20304      Nicol�s      5        12234   \n",
       "\n",
       "    Window Car park  Demographic score         Location  40min population  \\\n",
       "26     109      Yes                 14      High Street           1392247   \n",
       "32     120      Yes                 15      High Street           1101114   \n",
       "13     109      Yes                 12      Retail Park           1132725   \n",
       "58     104      Yes                 16  Shopping Centre           1678349   \n",
       "25     105       No                 14      Retail Park           1765398   \n",
       "\n",
       "    30 min population  20 min population  10 min population  Store age  \\\n",
       "26            1077683            1068892            1045144          5   \n",
       "32            1087742            1063778            1018675         10   \n",
       "13            1102537            1058262            1012348          7   \n",
       "58            1113468            1027034            1018319          4   \n",
       "25            1555157            1053211            1015616          7   \n",
       "\n",
       "    Clearance space  Competition number  Competition score Performance  \n",
       "26              270                  13                 17        Good  \n",
       "32              408                  12                 15         Bad  \n",
       "13              242                  19                 13        Good  \n",
       "58              219                  10                 12         Bad  \n",
       "25              234                  11                 16         Bad  "
      ]
     },
     "execution_count": 63,
     "metadata": {},
     "output_type": "execute_result"
    }
   ],
   "source": [
    "df.sample(n = 5)"
   ]
  },
  {
   "cell_type": "code",
   "execution_count": 64,
   "id": "2db040ea-b1da-48c9-9e7a-c47c15852a59",
   "metadata": {},
   "outputs": [],
   "source": [
    "one_hot = pd.get_dummies(df['Car park'], dtype = int)\n",
    "df = pd.concat([df,one_hot],axis =1)"
   ]
  },
  {
   "cell_type": "code",
   "execution_count": 65,
   "id": "499e8b54-781d-4344-b118-66ae51b1b62c",
   "metadata": {},
   "outputs": [
    {
     "data": {
      "text/html": [
       "<div>\n",
       "<style scoped>\n",
       "    .dataframe tbody tr th:only-of-type {\n",
       "        vertical-align: middle;\n",
       "    }\n",
       "\n",
       "    .dataframe tbody tr th {\n",
       "        vertical-align: top;\n",
       "    }\n",
       "\n",
       "    .dataframe thead th {\n",
       "        text-align: right;\n",
       "    }\n",
       "</style>\n",
       "<table border=\"1\" class=\"dataframe\">\n",
       "  <thead>\n",
       "    <tr style=\"text-align: right;\">\n",
       "      <th></th>\n",
       "      <th>Town</th>\n",
       "      <th>Country</th>\n",
       "      <th>Store ID</th>\n",
       "      <th>Manager name</th>\n",
       "      <th>Staff</th>\n",
       "      <th>Floor Space</th>\n",
       "      <th>Window</th>\n",
       "      <th>Demographic score</th>\n",
       "      <th>Location</th>\n",
       "      <th>40min population</th>\n",
       "      <th>30 min population</th>\n",
       "      <th>20 min population</th>\n",
       "      <th>10 min population</th>\n",
       "      <th>Store age</th>\n",
       "      <th>Clearance space</th>\n",
       "      <th>Competition number</th>\n",
       "      <th>Competition score</th>\n",
       "      <th>Performance</th>\n",
       "      <th>No</th>\n",
       "      <th>Yes</th>\n",
       "    </tr>\n",
       "  </thead>\n",
       "  <tbody>\n",
       "    <tr>\n",
       "      <th>0</th>\n",
       "      <td>Swinton (Greater Manchester)</td>\n",
       "      <td>UK</td>\n",
       "      <td>1437</td>\n",
       "      <td>Roger</td>\n",
       "      <td>9</td>\n",
       "      <td>18526</td>\n",
       "      <td>121</td>\n",
       "      <td>10</td>\n",
       "      <td>Retail Park</td>\n",
       "      <td>1288374</td>\n",
       "      <td>1138224</td>\n",
       "      <td>1006986</td>\n",
       "      <td>1002340</td>\n",
       "      <td>3</td>\n",
       "      <td>238</td>\n",
       "      <td>16</td>\n",
       "      <td>16</td>\n",
       "      <td>Good</td>\n",
       "      <td>0</td>\n",
       "      <td>1</td>\n",
       "    </tr>\n",
       "    <tr>\n",
       "      <th>1</th>\n",
       "      <td>Stamford</td>\n",
       "      <td>UK</td>\n",
       "      <td>1544</td>\n",
       "      <td>Ella</td>\n",
       "      <td>8</td>\n",
       "      <td>18569</td>\n",
       "      <td>121</td>\n",
       "      <td>11</td>\n",
       "      <td>Shopping Centre</td>\n",
       "      <td>1086225</td>\n",
       "      <td>1015321</td>\n",
       "      <td>1012182</td>\n",
       "      <td>1008436</td>\n",
       "      <td>4</td>\n",
       "      <td>384</td>\n",
       "      <td>15</td>\n",
       "      <td>19</td>\n",
       "      <td>Good</td>\n",
       "      <td>0</td>\n",
       "      <td>1</td>\n",
       "    </tr>\n",
       "    <tr>\n",
       "      <th>2</th>\n",
       "      <td>Skipton</td>\n",
       "      <td>UK</td>\n",
       "      <td>2039</td>\n",
       "      <td>Valentina</td>\n",
       "      <td>-2</td>\n",
       "      <td>12288</td>\n",
       "      <td>105</td>\n",
       "      <td>12</td>\n",
       "      <td>Retail Park</td>\n",
       "      <td>1595638</td>\n",
       "      <td>1281661</td>\n",
       "      <td>1104490</td>\n",
       "      <td>1011395</td>\n",
       "      <td>11</td>\n",
       "      <td>219</td>\n",
       "      <td>13</td>\n",
       "      <td>18</td>\n",
       "      <td>Bad</td>\n",
       "      <td>1</td>\n",
       "      <td>0</td>\n",
       "    </tr>\n",
       "    <tr>\n",
       "      <th>3</th>\n",
       "      <td>Stratton</td>\n",
       "      <td>UK</td>\n",
       "      <td>2055</td>\n",
       "      <td>Antonia</td>\n",
       "      <td>7</td>\n",
       "      <td>17092</td>\n",
       "      <td>117</td>\n",
       "      <td>14</td>\n",
       "      <td>High Street</td>\n",
       "      <td>1179395</td>\n",
       "      <td>1022959</td>\n",
       "      <td>1009496</td>\n",
       "      <td>1002169</td>\n",
       "      <td>5</td>\n",
       "      <td>261</td>\n",
       "      <td>15</td>\n",
       "      <td>12</td>\n",
       "      <td>Bad</td>\n",
       "      <td>1</td>\n",
       "      <td>0</td>\n",
       "    </tr>\n",
       "    <tr>\n",
       "      <th>4</th>\n",
       "      <td>Shepperton</td>\n",
       "      <td>UK</td>\n",
       "      <td>2141</td>\n",
       "      <td>Gabriel</td>\n",
       "      <td>7</td>\n",
       "      <td>11307</td>\n",
       "      <td>103</td>\n",
       "      <td>18</td>\n",
       "      <td>Retail Park</td>\n",
       "      <td>1398558</td>\n",
       "      <td>1085170</td>\n",
       "      <td>1003137</td>\n",
       "      <td>1002513</td>\n",
       "      <td>7</td>\n",
       "      <td>200</td>\n",
       "      <td>19</td>\n",
       "      <td>13</td>\n",
       "      <td>Bad</td>\n",
       "      <td>1</td>\n",
       "      <td>0</td>\n",
       "    </tr>\n",
       "  </tbody>\n",
       "</table>\n",
       "</div>"
      ],
      "text/plain": [
       "                            Town Country  Store ID Manager name  Staff  \\\n",
       "0   Swinton (Greater Manchester)      UK      1437        Roger      9   \n",
       "1                       Stamford      UK      1544         Ella      8   \n",
       "2                        Skipton      UK      2039    Valentina     -2   \n",
       "3                       Stratton      UK      2055      Antonia      7   \n",
       "4                     Shepperton      UK      2141      Gabriel      7   \n",
       "\n",
       "   Floor Space  Window  Demographic score         Location  40min population  \\\n",
       "0        18526     121                 10      Retail Park           1288374   \n",
       "1        18569     121                 11  Shopping Centre           1086225   \n",
       "2        12288     105                 12      Retail Park           1595638   \n",
       "3        17092     117                 14      High Street           1179395   \n",
       "4        11307     103                 18      Retail Park           1398558   \n",
       "\n",
       "   30 min population  20 min population  10 min population  Store age  \\\n",
       "0            1138224            1006986            1002340          3   \n",
       "1            1015321            1012182            1008436          4   \n",
       "2            1281661            1104490            1011395         11   \n",
       "3            1022959            1009496            1002169          5   \n",
       "4            1085170            1003137            1002513          7   \n",
       "\n",
       "   Clearance space  Competition number  Competition score Performance  No  Yes  \n",
       "0              238                  16                 16        Good   0    1  \n",
       "1              384                  15                 19        Good   0    1  \n",
       "2              219                  13                 18         Bad   1    0  \n",
       "3              261                  15                 12         Bad   1    0  \n",
       "4              200                  19                 13         Bad   1    0  "
      ]
     },
     "execution_count": 65,
     "metadata": {},
     "output_type": "execute_result"
    }
   ],
   "source": [
    "df.drop('Car park',axis = 1,inplace =True)\n",
    "df.head()"
   ]
  },
  {
   "cell_type": "code",
   "execution_count": 66,
   "id": "04f429e8-eb55-4824-87de-3ad49832c407",
   "metadata": {},
   "outputs": [
    {
     "data": {
      "text/plain": [
       "array(['Retail Park', 'Shopping Centre', 'High Street', 'Village'],\n",
       "      dtype=object)"
      ]
     },
     "execution_count": 66,
     "metadata": {},
     "output_type": "execute_result"
    }
   ],
   "source": [
    "df.Location.unique()"
   ]
  },
  {
   "cell_type": "code",
   "execution_count": 67,
   "id": "07b5e086-63a5-4ff1-ad67-ebf959815cc5",
   "metadata": {},
   "outputs": [
    {
     "data": {
      "text/plain": [
       "Location\n",
       "High Street        10299\n",
       "Retail Park        11189\n",
       "Shopping Centre    13834\n",
       "Village              368\n",
       "Name: Clearance space, dtype: int64"
      ]
     },
     "execution_count": 67,
     "metadata": {},
     "output_type": "execute_result"
    }
   ],
   "source": [
    "#lets check if we can rank the location by clearance space\n",
    "df.groupby('Location')['Clearance space'].sum()"
   ]
  },
  {
   "cell_type": "code",
   "execution_count": 68,
   "id": "b03e58ab-9cb8-41b0-b1b5-1c8adc0fab9f",
   "metadata": {},
   "outputs": [
    {
     "data": {
      "text/plain": [
       "<Axes: ylabel='Location'>"
      ]
     },
     "execution_count": 68,
     "metadata": {},
     "output_type": "execute_result"
    },
    {
     "data": {
      "image/png": "[encoded data removed]",
      "text/plain": [
       "<Figure size 640x480 with 1 Axes>"
      ]
     },
     "metadata": {},
     "output_type": "display_data"
    }
   ],
   "source": [
    "df.groupby('Location')['Clearance space'].sum().plot(kind = \"barh\")"
   ]
  },
  {
   "cell_type": "code",
   "execution_count": 69,
   "id": "ac472cbb-8758-426e-bbd4-ada6625e5b24",
   "metadata": {},
   "outputs": [],
   "source": [
    "from sklearn.preprocessing import LabelEncoder\n",
    "lb = LabelEncoder()"
   ]
  },
  {
   "cell_type": "code",
   "execution_count": 70,
   "id": "894ddeed-362b-40ae-90e3-95e45570c611",
   "metadata": {},
   "outputs": [
    {
     "data": {
      "text/plain": [
       "array([1, 2, 1, 0, 1, 1, 0, 1, 2, 0, 1, 1, 2, 1, 0, 0, 0, 1, 2, 2, 2, 0,\n",
       "       0, 2, 0, 1, 0, 2, 0, 0, 1, 2, 0, 0, 1, 3, 1, 1, 2, 0, 2, 0, 2, 1,\n",
       "       1, 0, 0, 2, 2, 1, 1, 2, 1, 2, 2, 1, 0, 1, 2, 1, 2, 1, 1, 2, 2, 1,\n",
       "       2, 0, 0, 2, 0, 0, 0, 1, 2, 0, 1, 0, 1, 2, 0, 1, 2, 0, 0, 0, 2, 1,\n",
       "       2, 2, 2, 2, 1, 1, 2, 1, 1, 2, 2, 2, 2, 2, 2, 2, 0, 1, 1, 2, 0, 2,\n",
       "       2, 0, 1, 0, 1, 1, 1, 0, 2, 2, 0, 2, 2, 0, 2, 2, 0, 2, 2, 1, 1, 1,\n",
       "       2, 2, 0, 0])"
      ]
     },
     "execution_count": 70,
     "metadata": {},
     "output_type": "execute_result"
    }
   ],
   "source": [
    " lb.fit_transform(df.Location)"
   ]
  },
  {
   "cell_type": "code",
   "execution_count": 71,
   "id": "401cda6d-fbe9-4073-9aef-c0fb19551a8e",
   "metadata": {},
   "outputs": [
    {
     "data": {
      "text/html": [
       "<div>\n",
       "<style scoped>\n",
       "    .dataframe tbody tr th:only-of-type {\n",
       "        vertical-align: middle;\n",
       "    }\n",
       "\n",
       "    .dataframe tbody tr th {\n",
       "        vertical-align: top;\n",
       "    }\n",
       "\n",
       "    .dataframe thead th {\n",
       "        text-align: right;\n",
       "    }\n",
       "</style>\n",
       "<table border=\"1\" class=\"dataframe\">\n",
       "  <thead>\n",
       "    <tr style=\"text-align: right;\">\n",
       "      <th></th>\n",
       "      <th>Town</th>\n",
       "      <th>Country</th>\n",
       "      <th>Store ID</th>\n",
       "      <th>Manager name</th>\n",
       "      <th>Staff</th>\n",
       "      <th>Floor Space</th>\n",
       "      <th>Window</th>\n",
       "      <th>Demographic score</th>\n",
       "      <th>Location</th>\n",
       "      <th>40min population</th>\n",
       "      <th>30 min population</th>\n",
       "      <th>20 min population</th>\n",
       "      <th>10 min population</th>\n",
       "      <th>Store age</th>\n",
       "      <th>Clearance space</th>\n",
       "      <th>Competition number</th>\n",
       "      <th>Competition score</th>\n",
       "      <th>Performance</th>\n",
       "      <th>No</th>\n",
       "      <th>Yes</th>\n",
       "    </tr>\n",
       "  </thead>\n",
       "  <tbody>\n",
       "    <tr>\n",
       "      <th>0</th>\n",
       "      <td>Swinton (Greater Manchester)</td>\n",
       "      <td>UK</td>\n",
       "      <td>1437</td>\n",
       "      <td>Roger</td>\n",
       "      <td>9</td>\n",
       "      <td>18526</td>\n",
       "      <td>121</td>\n",
       "      <td>10</td>\n",
       "      <td>1</td>\n",
       "      <td>1288374</td>\n",
       "      <td>1138224</td>\n",
       "      <td>1006986</td>\n",
       "      <td>1002340</td>\n",
       "      <td>3</td>\n",
       "      <td>238</td>\n",
       "      <td>16</td>\n",
       "      <td>16</td>\n",
       "      <td>Good</td>\n",
       "      <td>0</td>\n",
       "      <td>1</td>\n",
       "    </tr>\n",
       "    <tr>\n",
       "      <th>1</th>\n",
       "      <td>Stamford</td>\n",
       "      <td>UK</td>\n",
       "      <td>1544</td>\n",
       "      <td>Ella</td>\n",
       "      <td>8</td>\n",
       "      <td>18569</td>\n",
       "      <td>121</td>\n",
       "      <td>11</td>\n",
       "      <td>2</td>\n",
       "      <td>1086225</td>\n",
       "      <td>1015321</td>\n",
       "      <td>1012182</td>\n",
       "      <td>1008436</td>\n",
       "      <td>4</td>\n",
       "      <td>384</td>\n",
       "      <td>15</td>\n",
       "      <td>19</td>\n",
       "      <td>Good</td>\n",
       "      <td>0</td>\n",
       "      <td>1</td>\n",
       "    </tr>\n",
       "    <tr>\n",
       "      <th>2</th>\n",
       "      <td>Skipton</td>\n",
       "      <td>UK</td>\n",
       "      <td>2039</td>\n",
       "      <td>Valentina</td>\n",
       "      <td>-2</td>\n",
       "      <td>12288</td>\n",
       "      <td>105</td>\n",
       "      <td>12</td>\n",
       "      <td>1</td>\n",
       "      <td>1595638</td>\n",
       "      <td>1281661</td>\n",
       "      <td>1104490</td>\n",
       "      <td>1011395</td>\n",
       "      <td>11</td>\n",
       "      <td>219</td>\n",
       "      <td>13</td>\n",
       "      <td>18</td>\n",
       "      <td>Bad</td>\n",
       "      <td>1</td>\n",
       "      <td>0</td>\n",
       "    </tr>\n",
       "    <tr>\n",
       "      <th>3</th>\n",
       "      <td>Stratton</td>\n",
       "      <td>UK</td>\n",
       "      <td>2055</td>\n",
       "      <td>Antonia</td>\n",
       "      <td>7</td>\n",
       "      <td>17092</td>\n",
       "      <td>117</td>\n",
       "      <td>14</td>\n",
       "      <td>0</td>\n",
       "      <td>1179395</td>\n",
       "      <td>1022959</td>\n",
       "      <td>1009496</td>\n",
       "      <td>1002169</td>\n",
       "      <td>5</td>\n",
       "      <td>261</td>\n",
       "      <td>15</td>\n",
       "      <td>12</td>\n",
       "      <td>Bad</td>\n",
       "      <td>1</td>\n",
       "      <td>0</td>\n",
       "    </tr>\n",
       "    <tr>\n",
       "      <th>4</th>\n",
       "      <td>Shepperton</td>\n",
       "      <td>UK</td>\n",
       "      <td>2141</td>\n",
       "      <td>Gabriel</td>\n",
       "      <td>7</td>\n",
       "      <td>11307</td>\n",
       "      <td>103</td>\n",
       "      <td>18</td>\n",
       "      <td>1</td>\n",
       "      <td>1398558</td>\n",
       "      <td>1085170</td>\n",
       "      <td>1003137</td>\n",
       "      <td>1002513</td>\n",
       "      <td>7</td>\n",
       "      <td>200</td>\n",
       "      <td>19</td>\n",
       "      <td>13</td>\n",
       "      <td>Bad</td>\n",
       "      <td>1</td>\n",
       "      <td>0</td>\n",
       "    </tr>\n",
       "    <tr>\n",
       "      <th>5</th>\n",
       "      <td>Southwell</td>\n",
       "      <td>UK</td>\n",
       "      <td>2309</td>\n",
       "      <td>Sarah</td>\n",
       "      <td>7</td>\n",
       "      <td>17888</td>\n",
       "      <td>119</td>\n",
       "      <td>19</td>\n",
       "      <td>1</td>\n",
       "      <td>1614716</td>\n",
       "      <td>1325848</td>\n",
       "      <td>1220059</td>\n",
       "      <td>1193318</td>\n",
       "      <td>2</td>\n",
       "      <td>394</td>\n",
       "      <td>17</td>\n",
       "      <td>11</td>\n",
       "      <td>Good</td>\n",
       "      <td>0</td>\n",
       "      <td>1</td>\n",
       "    </tr>\n",
       "    <tr>\n",
       "      <th>6</th>\n",
       "      <td>Swinton (South Yorkshire)</td>\n",
       "      <td>UK</td>\n",
       "      <td>3800</td>\n",
       "      <td>James</td>\n",
       "      <td>8</td>\n",
       "      <td>13814</td>\n",
       "      <td>109</td>\n",
       "      <td>17</td>\n",
       "      <td>0</td>\n",
       "      <td>1323396</td>\n",
       "      <td>1047485</td>\n",
       "      <td>1000888</td>\n",
       "      <td>1000844</td>\n",
       "      <td>5</td>\n",
       "      <td>228</td>\n",
       "      <td>11</td>\n",
       "      <td>14</td>\n",
       "      <td>Bad</td>\n",
       "      <td>0</td>\n",
       "      <td>1</td>\n",
       "    </tr>\n",
       "    <tr>\n",
       "      <th>7</th>\n",
       "      <td>Sowerby Bridge</td>\n",
       "      <td>UK</td>\n",
       "      <td>4214</td>\n",
       "      <td>Ashley</td>\n",
       "      <td>9</td>\n",
       "      <td>15643</td>\n",
       "      <td>114</td>\n",
       "      <td>11</td>\n",
       "      <td>1</td>\n",
       "      <td>1052606</td>\n",
       "      <td>1025407</td>\n",
       "      <td>1004490</td>\n",
       "      <td>1000319</td>\n",
       "      <td>4</td>\n",
       "      <td>258</td>\n",
       "      <td>12</td>\n",
       "      <td>16</td>\n",
       "      <td>Good</td>\n",
       "      <td>0</td>\n",
       "      <td>1</td>\n",
       "    </tr>\n",
       "    <tr>\n",
       "      <th>8</th>\n",
       "      <td>Sheffield</td>\n",
       "      <td>UK</td>\n",
       "      <td>4857</td>\n",
       "      <td>Guilherme</td>\n",
       "      <td>9</td>\n",
       "      <td>13869</td>\n",
       "      <td>109</td>\n",
       "      <td>12</td>\n",
       "      <td>2</td>\n",
       "      <td>1537032</td>\n",
       "      <td>1301956</td>\n",
       "      <td>1220364</td>\n",
       "      <td>1057921</td>\n",
       "      <td>9</td>\n",
       "      <td>217</td>\n",
       "      <td>19</td>\n",
       "      <td>14</td>\n",
       "      <td>Good</td>\n",
       "      <td>0</td>\n",
       "      <td>1</td>\n",
       "    </tr>\n",
       "    <tr>\n",
       "      <th>9</th>\n",
       "      <td>Stanley</td>\n",
       "      <td>UK</td>\n",
       "      <td>4860</td>\n",
       "      <td>Grace</td>\n",
       "      <td>7</td>\n",
       "      <td>12071</td>\n",
       "      <td>105</td>\n",
       "      <td>19</td>\n",
       "      <td>0</td>\n",
       "      <td>1141000</td>\n",
       "      <td>1029186</td>\n",
       "      <td>1005096</td>\n",
       "      <td>1000687</td>\n",
       "      <td>6</td>\n",
       "      <td>222</td>\n",
       "      <td>16</td>\n",
       "      <td>18</td>\n",
       "      <td>Good</td>\n",
       "      <td>0</td>\n",
       "      <td>1</td>\n",
       "    </tr>\n",
       "  </tbody>\n",
       "</table>\n",
       "</div>"
      ],
      "text/plain": [
       "                            Town Country  Store ID Manager name  Staff  \\\n",
       "0   Swinton (Greater Manchester)      UK      1437        Roger      9   \n",
       "1                       Stamford      UK      1544         Ella      8   \n",
       "2                        Skipton      UK      2039    Valentina     -2   \n",
       "3                       Stratton      UK      2055      Antonia      7   \n",
       "4                     Shepperton      UK      2141      Gabriel      7   \n",
       "5                      Southwell      UK      2309        Sarah      7   \n",
       "6      Swinton (South Yorkshire)      UK      3800        James      8   \n",
       "7                 Sowerby Bridge      UK      4214       Ashley      9   \n",
       "8                      Sheffield      UK      4857    Guilherme      9   \n",
       "9                        Stanley      UK      4860        Grace      7   \n",
       "\n",
       "   Floor Space  Window  Demographic score  Location  40min population  \\\n",
       "0        18526     121                 10         1           1288374   \n",
       "1        18569     121                 11         2           1086225   \n",
       "2        12288     105                 12         1           1595638   \n",
       "3        17092     117                 14         0           1179395   \n",
       "4        11307     103                 18         1           1398558   \n",
       "5        17888     119                 19         1           1614716   \n",
       "6        13814     109                 17         0           1323396   \n",
       "7        15643     114                 11         1           1052606   \n",
       "8        13869     109                 12         2           1537032   \n",
       "9        12071     105                 19         0           1141000   \n",
       "\n",
       "   30 min population  20 min population  10 min population  Store age  \\\n",
       "0            1138224            1006986            1002340          3   \n",
       "1            1015321            1012182            1008436          4   \n",
       "2            1281661            1104490            1011395         11   \n",
       "3            1022959            1009496            1002169          5   \n",
       "4            1085170            1003137            1002513          7   \n",
       "5            1325848            1220059            1193318          2   \n",
       "6            1047485            1000888            1000844          5   \n",
       "7            1025407            1004490            1000319          4   \n",
       "8            1301956            1220364            1057921          9   \n",
       "9            1029186            1005096            1000687          6   \n",
       "\n",
       "   Clearance space  Competition number  Competition score Performance  No  Yes  \n",
       "0              238                  16                 16        Good   0    1  \n",
       "1              384                  15                 19        Good   0    1  \n",
       "2              219                  13                 18         Bad   1    0  \n",
       "3              261                  15                 12         Bad   1    0  \n",
       "4              200                  19                 13         Bad   1    0  \n",
       "5              394                  17                 11        Good   0    1  \n",
       "6              228                  11                 14         Bad   0    1  \n",
       "7              258                  12                 16        Good   0    1  \n",
       "8              217                  19                 14        Good   0    1  \n",
       "9              222                  16                 18        Good   0    1  "
      ]
     },
     "execution_count": 71,
     "metadata": {},
     "output_type": "execute_result"
    }
   ],
   "source": [
    "df.Location = lb.fit_transform(df.Location)\n",
    "df.head(10)"
   ]
  },
  {
   "cell_type": "code",
   "execution_count": 72,
   "id": "f009d593-a426-4f88-81f3-b0eff15ae898",
   "metadata": {},
   "outputs": [
    {
     "data": {
      "text/plain": [
       "array(['UK', 'France'], dtype=object)"
      ]
     },
     "execution_count": 72,
     "metadata": {},
     "output_type": "execute_result"
    }
   ],
   "source": [
    "df.Country.unique()"
   ]
  },
  {
   "cell_type": "code",
   "execution_count": 73,
   "id": "f9e0918d-6699-4adb-9ffc-e48b297d4784",
   "metadata": {},
   "outputs": [],
   "source": [
    "o = pd.get_dummies(df.Country, dtype = int)"
   ]
  },
  {
   "cell_type": "code",
   "execution_count": 74,
   "id": "058bc450-c71e-4239-af46-7ae527cc2c1c",
   "metadata": {},
   "outputs": [
    {
     "data": {
      "text/html": [
       "<div>\n",
       "<style scoped>\n",
       "    .dataframe tbody tr th:only-of-type {\n",
       "        vertical-align: middle;\n",
       "    }\n",
       "\n",
       "    .dataframe tbody tr th {\n",
       "        vertical-align: top;\n",
       "    }\n",
       "\n",
       "    .dataframe thead th {\n",
       "        text-align: right;\n",
       "    }\n",
       "</style>\n",
       "<table border=\"1\" class=\"dataframe\">\n",
       "  <thead>\n",
       "    <tr style=\"text-align: right;\">\n",
       "      <th></th>\n",
       "      <th>Town</th>\n",
       "      <th>Country</th>\n",
       "      <th>Store ID</th>\n",
       "      <th>Manager name</th>\n",
       "      <th>Staff</th>\n",
       "      <th>Floor Space</th>\n",
       "      <th>Window</th>\n",
       "      <th>Demographic score</th>\n",
       "      <th>Location</th>\n",
       "      <th>40min population</th>\n",
       "      <th>...</th>\n",
       "      <th>10 min population</th>\n",
       "      <th>Store age</th>\n",
       "      <th>Clearance space</th>\n",
       "      <th>Competition number</th>\n",
       "      <th>Competition score</th>\n",
       "      <th>Performance</th>\n",
       "      <th>No</th>\n",
       "      <th>Yes</th>\n",
       "      <th>France</th>\n",
       "      <th>UK</th>\n",
       "    </tr>\n",
       "  </thead>\n",
       "  <tbody>\n",
       "    <tr>\n",
       "      <th>0</th>\n",
       "      <td>Swinton (Greater Manchester)</td>\n",
       "      <td>UK</td>\n",
       "      <td>1437</td>\n",
       "      <td>Roger</td>\n",
       "      <td>9</td>\n",
       "      <td>18526</td>\n",
       "      <td>121</td>\n",
       "      <td>10</td>\n",
       "      <td>1</td>\n",
       "      <td>1288374</td>\n",
       "      <td>...</td>\n",
       "      <td>1002340</td>\n",
       "      <td>3</td>\n",
       "      <td>238</td>\n",
       "      <td>16</td>\n",
       "      <td>16</td>\n",
       "      <td>Good</td>\n",
       "      <td>0</td>\n",
       "      <td>1</td>\n",
       "      <td>0</td>\n",
       "      <td>1</td>\n",
       "    </tr>\n",
       "    <tr>\n",
       "      <th>1</th>\n",
       "      <td>Stamford</td>\n",
       "      <td>UK</td>\n",
       "      <td>1544</td>\n",
       "      <td>Ella</td>\n",
       "      <td>8</td>\n",
       "      <td>18569</td>\n",
       "      <td>121</td>\n",
       "      <td>11</td>\n",
       "      <td>2</td>\n",
       "      <td>1086225</td>\n",
       "      <td>...</td>\n",
       "      <td>1008436</td>\n",
       "      <td>4</td>\n",
       "      <td>384</td>\n",
       "      <td>15</td>\n",
       "      <td>19</td>\n",
       "      <td>Good</td>\n",
       "      <td>0</td>\n",
       "      <td>1</td>\n",
       "      <td>0</td>\n",
       "      <td>1</td>\n",
       "    </tr>\n",
       "    <tr>\n",
       "      <th>2</th>\n",
       "      <td>Skipton</td>\n",
       "      <td>UK</td>\n",
       "      <td>2039</td>\n",
       "      <td>Valentina</td>\n",
       "      <td>-2</td>\n",
       "      <td>12288</td>\n",
       "      <td>105</td>\n",
       "      <td>12</td>\n",
       "      <td>1</td>\n",
       "      <td>1595638</td>\n",
       "      <td>...</td>\n",
       "      <td>1011395</td>\n",
       "      <td>11</td>\n",
       "      <td>219</td>\n",
       "      <td>13</td>\n",
       "      <td>18</td>\n",
       "      <td>Bad</td>\n",
       "      <td>1</td>\n",
       "      <td>0</td>\n",
       "      <td>0</td>\n",
       "      <td>1</td>\n",
       "    </tr>\n",
       "    <tr>\n",
       "      <th>3</th>\n",
       "      <td>Stratton</td>\n",
       "      <td>UK</td>\n",
       "      <td>2055</td>\n",
       "      <td>Antonia</td>\n",
       "      <td>7</td>\n",
       "      <td>17092</td>\n",
       "      <td>117</td>\n",
       "      <td>14</td>\n",
       "      <td>0</td>\n",
       "      <td>1179395</td>\n",
       "      <td>...</td>\n",
       "      <td>1002169</td>\n",
       "      <td>5</td>\n",
       "      <td>261</td>\n",
       "      <td>15</td>\n",
       "      <td>12</td>\n",
       "      <td>Bad</td>\n",
       "      <td>1</td>\n",
       "      <td>0</td>\n",
       "      <td>0</td>\n",
       "      <td>1</td>\n",
       "    </tr>\n",
       "    <tr>\n",
       "      <th>4</th>\n",
       "      <td>Shepperton</td>\n",
       "      <td>UK</td>\n",
       "      <td>2141</td>\n",
       "      <td>Gabriel</td>\n",
       "      <td>7</td>\n",
       "      <td>11307</td>\n",
       "      <td>103</td>\n",
       "      <td>18</td>\n",
       "      <td>1</td>\n",
       "      <td>1398558</td>\n",
       "      <td>...</td>\n",
       "      <td>1002513</td>\n",
       "      <td>7</td>\n",
       "      <td>200</td>\n",
       "      <td>19</td>\n",
       "      <td>13</td>\n",
       "      <td>Bad</td>\n",
       "      <td>1</td>\n",
       "      <td>0</td>\n",
       "      <td>0</td>\n",
       "      <td>1</td>\n",
       "    </tr>\n",
       "  </tbody>\n",
       "</table>\n",
       "<p>5 rows × 22 columns</p>\n",
       "</div>"
      ],
      "text/plain": [
       "                            Town Country  Store ID Manager name  Staff  \\\n",
       "0   Swinton (Greater Manchester)      UK      1437        Roger      9   \n",
       "1                       Stamford      UK      1544         Ella      8   \n",
       "2                        Skipton      UK      2039    Valentina     -2   \n",
       "3                       Stratton      UK      2055      Antonia      7   \n",
       "4                     Shepperton      UK      2141      Gabriel      7   \n",
       "\n",
       "   Floor Space  Window  Demographic score  Location  40min population  ...  \\\n",
       "0        18526     121                 10         1           1288374  ...   \n",
       "1        18569     121                 11         2           1086225  ...   \n",
       "2        12288     105                 12         1           1595638  ...   \n",
       "3        17092     117                 14         0           1179395  ...   \n",
       "4        11307     103                 18         1           1398558  ...   \n",
       "\n",
       "   10 min population  Store age  Clearance space  Competition number  \\\n",
       "0            1002340          3              238                  16   \n",
       "1            1008436          4              384                  15   \n",
       "2            1011395         11              219                  13   \n",
       "3            1002169          5              261                  15   \n",
       "4            1002513          7              200                  19   \n",
       "\n",
       "   Competition score  Performance  No Yes  France  UK  \n",
       "0                 16         Good   0   1       0   1  \n",
       "1                 19         Good   0   1       0   1  \n",
       "2                 18          Bad   1   0       0   1  \n",
       "3                 12          Bad   1   0       0   1  \n",
       "4                 13          Bad   1   0       0   1  \n",
       "\n",
       "[5 rows x 22 columns]"
      ]
     },
     "execution_count": 74,
     "metadata": {},
     "output_type": "execute_result"
    }
   ],
   "source": [
    "df = pd.concat([df, o],axis = 1)\n",
    "df.head()"
   ]
  },
  {
   "cell_type": "code",
   "execution_count": 75,
   "id": "3fd43cdb-3574-461f-a2b1-da4d1a23127b",
   "metadata": {},
   "outputs": [],
   "source": [
    "df.drop('Country', axis = 1, inplace= True)"
   ]
  },
  {
   "cell_type": "code",
   "execution_count": 76,
   "id": "3a7fe775-6bde-4784-ac8a-c04e6e5f60fc",
   "metadata": {},
   "outputs": [
    {
     "data": {
      "text/html": [
       "<div>\n",
       "<style scoped>\n",
       "    .dataframe tbody tr th:only-of-type {\n",
       "        vertical-align: middle;\n",
       "    }\n",
       "\n",
       "    .dataframe tbody tr th {\n",
       "        vertical-align: top;\n",
       "    }\n",
       "\n",
       "    .dataframe thead th {\n",
       "        text-align: right;\n",
       "    }\n",
       "</style>\n",
       "<table border=\"1\" class=\"dataframe\">\n",
       "  <thead>\n",
       "    <tr style=\"text-align: right;\">\n",
       "      <th></th>\n",
       "      <th>Town</th>\n",
       "      <th>Store ID</th>\n",
       "      <th>Manager name</th>\n",
       "      <th>Staff</th>\n",
       "      <th>Floor Space</th>\n",
       "      <th>Window</th>\n",
       "      <th>Demographic score</th>\n",
       "      <th>Location</th>\n",
       "      <th>40min population</th>\n",
       "      <th>30 min population</th>\n",
       "      <th>...</th>\n",
       "      <th>10 min population</th>\n",
       "      <th>Store age</th>\n",
       "      <th>Clearance space</th>\n",
       "      <th>Competition number</th>\n",
       "      <th>Competition score</th>\n",
       "      <th>Performance</th>\n",
       "      <th>No</th>\n",
       "      <th>Yes</th>\n",
       "      <th>France</th>\n",
       "      <th>UK</th>\n",
       "    </tr>\n",
       "  </thead>\n",
       "  <tbody>\n",
       "    <tr>\n",
       "      <th>0</th>\n",
       "      <td>Swinton (Greater Manchester)</td>\n",
       "      <td>1437</td>\n",
       "      <td>Roger</td>\n",
       "      <td>9</td>\n",
       "      <td>18526</td>\n",
       "      <td>121</td>\n",
       "      <td>10</td>\n",
       "      <td>1</td>\n",
       "      <td>1288374</td>\n",
       "      <td>1138224</td>\n",
       "      <td>...</td>\n",
       "      <td>1002340</td>\n",
       "      <td>3</td>\n",
       "      <td>238</td>\n",
       "      <td>16</td>\n",
       "      <td>16</td>\n",
       "      <td>Good</td>\n",
       "      <td>0</td>\n",
       "      <td>1</td>\n",
       "      <td>0</td>\n",
       "      <td>1</td>\n",
       "    </tr>\n",
       "    <tr>\n",
       "      <th>1</th>\n",
       "      <td>Stamford</td>\n",
       "      <td>1544</td>\n",
       "      <td>Ella</td>\n",
       "      <td>8</td>\n",
       "      <td>18569</td>\n",
       "      <td>121</td>\n",
       "      <td>11</td>\n",
       "      <td>2</td>\n",
       "      <td>1086225</td>\n",
       "      <td>1015321</td>\n",
       "      <td>...</td>\n",
       "      <td>1008436</td>\n",
       "      <td>4</td>\n",
       "      <td>384</td>\n",
       "      <td>15</td>\n",
       "      <td>19</td>\n",
       "      <td>Good</td>\n",
       "      <td>0</td>\n",
       "      <td>1</td>\n",
       "      <td>0</td>\n",
       "      <td>1</td>\n",
       "    </tr>\n",
       "    <tr>\n",
       "      <th>2</th>\n",
       "      <td>Skipton</td>\n",
       "      <td>2039</td>\n",
       "      <td>Valentina</td>\n",
       "      <td>-2</td>\n",
       "      <td>12288</td>\n",
       "      <td>105</td>\n",
       "      <td>12</td>\n",
       "      <td>1</td>\n",
       "      <td>1595638</td>\n",
       "      <td>1281661</td>\n",
       "      <td>...</td>\n",
       "      <td>1011395</td>\n",
       "      <td>11</td>\n",
       "      <td>219</td>\n",
       "      <td>13</td>\n",
       "      <td>18</td>\n",
       "      <td>Bad</td>\n",
       "      <td>1</td>\n",
       "      <td>0</td>\n",
       "      <td>0</td>\n",
       "      <td>1</td>\n",
       "    </tr>\n",
       "    <tr>\n",
       "      <th>3</th>\n",
       "      <td>Stratton</td>\n",
       "      <td>2055</td>\n",
       "      <td>Antonia</td>\n",
       "      <td>7</td>\n",
       "      <td>17092</td>\n",
       "      <td>117</td>\n",
       "      <td>14</td>\n",
       "      <td>0</td>\n",
       "      <td>1179395</td>\n",
       "      <td>1022959</td>\n",
       "      <td>...</td>\n",
       "      <td>1002169</td>\n",
       "      <td>5</td>\n",
       "      <td>261</td>\n",
       "      <td>15</td>\n",
       "      <td>12</td>\n",
       "      <td>Bad</td>\n",
       "      <td>1</td>\n",
       "      <td>0</td>\n",
       "      <td>0</td>\n",
       "      <td>1</td>\n",
       "    </tr>\n",
       "    <tr>\n",
       "      <th>4</th>\n",
       "      <td>Shepperton</td>\n",
       "      <td>2141</td>\n",
       "      <td>Gabriel</td>\n",
       "      <td>7</td>\n",
       "      <td>11307</td>\n",
       "      <td>103</td>\n",
       "      <td>18</td>\n",
       "      <td>1</td>\n",
       "      <td>1398558</td>\n",
       "      <td>1085170</td>\n",
       "      <td>...</td>\n",
       "      <td>1002513</td>\n",
       "      <td>7</td>\n",
       "      <td>200</td>\n",
       "      <td>19</td>\n",
       "      <td>13</td>\n",
       "      <td>Bad</td>\n",
       "      <td>1</td>\n",
       "      <td>0</td>\n",
       "      <td>0</td>\n",
       "      <td>1</td>\n",
       "    </tr>\n",
       "  </tbody>\n",
       "</table>\n",
       "<p>5 rows × 21 columns</p>\n",
       "</div>"
      ],
      "text/plain": [
       "                            Town  Store ID Manager name  Staff  Floor Space  \\\n",
       "0   Swinton (Greater Manchester)      1437        Roger      9        18526   \n",
       "1                       Stamford      1544         Ella      8        18569   \n",
       "2                        Skipton      2039    Valentina     -2        12288   \n",
       "3                       Stratton      2055      Antonia      7        17092   \n",
       "4                     Shepperton      2141      Gabriel      7        11307   \n",
       "\n",
       "   Window  Demographic score  Location  40min population  30 min population  \\\n",
       "0     121                 10         1           1288374            1138224   \n",
       "1     121                 11         2           1086225            1015321   \n",
       "2     105                 12         1           1595638            1281661   \n",
       "3     117                 14         0           1179395            1022959   \n",
       "4     103                 18         1           1398558            1085170   \n",
       "\n",
       "   ...  10 min population  Store age  Clearance space  Competition number  \\\n",
       "0  ...            1002340          3              238                  16   \n",
       "1  ...            1008436          4              384                  15   \n",
       "2  ...            1011395         11              219                  13   \n",
       "3  ...            1002169          5              261                  15   \n",
       "4  ...            1002513          7              200                  19   \n",
       "\n",
       "   Competition score  Performance No  Yes  France  UK  \n",
       "0                 16         Good  0    1       0   1  \n",
       "1                 19         Good  0    1       0   1  \n",
       "2                 18          Bad  1    0       0   1  \n",
       "3                 12          Bad  1    0       0   1  \n",
       "4                 13          Bad  1    0       0   1  \n",
       "\n",
       "[5 rows x 21 columns]"
      ]
     },
     "execution_count": 76,
     "metadata": {},
     "output_type": "execute_result"
    }
   ],
   "source": [
    "df.head()"
   ]
  },
  {
   "cell_type": "code",
   "execution_count": 77,
   "id": "a6fc07d1-8c5b-42dd-80cf-bf35bdf4eeca",
   "metadata": {},
   "outputs": [
    {
     "data": {
      "text/plain": [
       "136"
      ]
     },
     "execution_count": 77,
     "metadata": {},
     "output_type": "execute_result"
    }
   ],
   "source": [
    "df.Town.nunique()"
   ]
  },
  {
   "cell_type": "code",
   "execution_count": 78,
   "id": "3b1e1cc5-eff9-4239-b692-1ce45d4cf4f3",
   "metadata": {},
   "outputs": [],
   "source": [
    "df.drop(['Town','Store ID','Manager name'], axis = 1,inplace = True)"
   ]
  },
  {
   "cell_type": "code",
   "execution_count": 79,
   "id": "d44f2767-ab0c-4c78-8669-b37b206879b8",
   "metadata": {},
   "outputs": [
    {
     "data": {
      "text/html": [
       "<div>\n",
       "<style scoped>\n",
       "    .dataframe tbody tr th:only-of-type {\n",
       "        vertical-align: middle;\n",
       "    }\n",
       "\n",
       "    .dataframe tbody tr th {\n",
       "        vertical-align: top;\n",
       "    }\n",
       "\n",
       "    .dataframe thead th {\n",
       "        text-align: right;\n",
       "    }\n",
       "</style>\n",
       "<table border=\"1\" class=\"dataframe\">\n",
       "  <thead>\n",
       "    <tr style=\"text-align: right;\">\n",
       "      <th></th>\n",
       "      <th>Staff</th>\n",
       "      <th>Floor Space</th>\n",
       "      <th>Window</th>\n",
       "      <th>Demographic score</th>\n",
       "      <th>Location</th>\n",
       "      <th>40min population</th>\n",
       "      <th>30 min population</th>\n",
       "      <th>20 min population</th>\n",
       "      <th>10 min population</th>\n",
       "      <th>Store age</th>\n",
       "      <th>Clearance space</th>\n",
       "      <th>Competition number</th>\n",
       "      <th>Competition score</th>\n",
       "      <th>Performance</th>\n",
       "      <th>No</th>\n",
       "      <th>Yes</th>\n",
       "      <th>France</th>\n",
       "      <th>UK</th>\n",
       "    </tr>\n",
       "  </thead>\n",
       "  <tbody>\n",
       "    <tr>\n",
       "      <th>70</th>\n",
       "      <td>6</td>\n",
       "      <td>13899</td>\n",
       "      <td>109</td>\n",
       "      <td>19</td>\n",
       "      <td>0</td>\n",
       "      <td>1888945</td>\n",
       "      <td>1523248</td>\n",
       "      <td>1508361</td>\n",
       "      <td>1233530</td>\n",
       "      <td>2</td>\n",
       "      <td>227</td>\n",
       "      <td>10</td>\n",
       "      <td>15</td>\n",
       "      <td>Bad</td>\n",
       "      <td>0</td>\n",
       "      <td>1</td>\n",
       "      <td>0</td>\n",
       "      <td>1</td>\n",
       "    </tr>\n",
       "    <tr>\n",
       "      <th>2</th>\n",
       "      <td>-2</td>\n",
       "      <td>12288</td>\n",
       "      <td>105</td>\n",
       "      <td>12</td>\n",
       "      <td>1</td>\n",
       "      <td>1595638</td>\n",
       "      <td>1281661</td>\n",
       "      <td>1104490</td>\n",
       "      <td>1011395</td>\n",
       "      <td>11</td>\n",
       "      <td>219</td>\n",
       "      <td>13</td>\n",
       "      <td>18</td>\n",
       "      <td>Bad</td>\n",
       "      <td>1</td>\n",
       "      <td>0</td>\n",
       "      <td>0</td>\n",
       "      <td>1</td>\n",
       "    </tr>\n",
       "    <tr>\n",
       "      <th>25</th>\n",
       "      <td>5</td>\n",
       "      <td>12234</td>\n",
       "      <td>105</td>\n",
       "      <td>14</td>\n",
       "      <td>1</td>\n",
       "      <td>1765398</td>\n",
       "      <td>1555157</td>\n",
       "      <td>1053211</td>\n",
       "      <td>1015616</td>\n",
       "      <td>7</td>\n",
       "      <td>234</td>\n",
       "      <td>11</td>\n",
       "      <td>16</td>\n",
       "      <td>Bad</td>\n",
       "      <td>1</td>\n",
       "      <td>0</td>\n",
       "      <td>0</td>\n",
       "      <td>1</td>\n",
       "    </tr>\n",
       "    <tr>\n",
       "      <th>104</th>\n",
       "      <td>6</td>\n",
       "      <td>13009</td>\n",
       "      <td>107</td>\n",
       "      <td>11</td>\n",
       "      <td>0</td>\n",
       "      <td>1143772</td>\n",
       "      <td>1106672</td>\n",
       "      <td>1059392</td>\n",
       "      <td>1051305</td>\n",
       "      <td>6</td>\n",
       "      <td>206</td>\n",
       "      <td>19</td>\n",
       "      <td>16</td>\n",
       "      <td>Bad</td>\n",
       "      <td>0</td>\n",
       "      <td>1</td>\n",
       "      <td>0</td>\n",
       "      <td>1</td>\n",
       "    </tr>\n",
       "    <tr>\n",
       "      <th>65</th>\n",
       "      <td>8</td>\n",
       "      <td>15292</td>\n",
       "      <td>113</td>\n",
       "      <td>16</td>\n",
       "      <td>1</td>\n",
       "      <td>1099956</td>\n",
       "      <td>1008500</td>\n",
       "      <td>1003118</td>\n",
       "      <td>1000509</td>\n",
       "      <td>11</td>\n",
       "      <td>323</td>\n",
       "      <td>16</td>\n",
       "      <td>16</td>\n",
       "      <td>Good</td>\n",
       "      <td>0</td>\n",
       "      <td>1</td>\n",
       "      <td>0</td>\n",
       "      <td>1</td>\n",
       "    </tr>\n",
       "  </tbody>\n",
       "</table>\n",
       "</div>"
      ],
      "text/plain": [
       "     Staff  Floor Space  Window  Demographic score  Location  \\\n",
       "70       6        13899     109                 19         0   \n",
       "2       -2        12288     105                 12         1   \n",
       "25       5        12234     105                 14         1   \n",
       "104      6        13009     107                 11         0   \n",
       "65       8        15292     113                 16         1   \n",
       "\n",
       "     40min population  30 min population  20 min population  \\\n",
       "70            1888945            1523248            1508361   \n",
       "2             1595638            1281661            1104490   \n",
       "25            1765398            1555157            1053211   \n",
       "104           1143772            1106672            1059392   \n",
       "65            1099956            1008500            1003118   \n",
       "\n",
       "     10 min population  Store age  Clearance space  Competition number  \\\n",
       "70             1233530          2              227                  10   \n",
       "2              1011395         11              219                  13   \n",
       "25             1015616          7              234                  11   \n",
       "104            1051305          6              206                  19   \n",
       "65             1000509         11              323                  16   \n",
       "\n",
       "     Competition score Performance  No  Yes  France  UK  \n",
       "70                  15         Bad   0    1       0   1  \n",
       "2                   18         Bad   1    0       0   1  \n",
       "25                  16         Bad   1    0       0   1  \n",
       "104                 16         Bad   0    1       0   1  \n",
       "65                  16        Good   0    1       0   1  "
      ]
     },
     "execution_count": 79,
     "metadata": {},
     "output_type": "execute_result"
    }
   ],
   "source": [
    "df.sample(n = 5)"
   ]
  },
  {
   "cell_type": "code",
   "execution_count": 80,
   "id": "aae3ab0d-4df9-45cd-903d-e32afebe2066",
   "metadata": {},
   "outputs": [],
   "source": [
    "from sklearn.preprocessing import LabelEncoder\n",
    "lb = LabelEncoder()\n",
    "df['Performance'] =lb.fit_transform(df.Performance)\n",
    "#df.drop('Performance', axis = 1, inplace = True)\n",
    "#df.head(10)"
   ]
  },
  {
   "cell_type": "code",
   "execution_count": 81,
   "id": "19e50aa9-b73f-49dc-85be-1647b5c6097c",
   "metadata": {},
   "outputs": [
    {
     "data": {
      "text/plain": [
       "Staff                 0.124331\n",
       "Floor Space           0.267429\n",
       "Window                0.274381\n",
       "Demographic score     0.117908\n",
       "Location              0.350950\n",
       "40min population      0.099861\n",
       "30 min population     0.072470\n",
       "20 min population     0.005909\n",
       "10 min population     0.001953\n",
       "Store age             0.034238\n",
       "Clearance space       0.257304\n",
       "Competition number    0.209215\n",
       "Competition score     0.345618\n",
       "Performance           1.000000\n",
       "No                    0.173044\n",
       "Yes                   0.173044\n",
       "France                0.123979\n",
       "UK                    0.123979\n",
       "Name: Performance, dtype: float64"
      ]
     },
     "execution_count": 81,
     "metadata": {},
     "output_type": "execute_result"
    }
   ],
   "source": [
    "df.corr()['Performance'].abs()"
   ]
  },
  {
   "cell_type": "code",
   "execution_count": 82,
   "id": "dcb0be57-0e26-40fa-a8ba-9ba183661d8c",
   "metadata": {},
   "outputs": [
    {
     "data": {
      "text/plain": [
       "Staff                 0.124331\n",
       "Floor Space           0.267429\n",
       "Window                0.274381\n",
       "Demographic score     0.117908\n",
       "Location              0.350950\n",
       "Clearance space       0.257304\n",
       "Competition number    0.209215\n",
       "Competition score     0.345618\n",
       "Performance           1.000000\n",
       "No                    0.173044\n",
       "Yes                   0.173044\n",
       "France                0.123979\n",
       "UK                    0.123979\n",
       "Name: Performance, dtype: float64"
      ]
     },
     "execution_count": 82,
     "metadata": {},
     "output_type": "execute_result"
    }
   ],
   "source": [
    "threshold = 0.1\n",
    "selected_data = df.corr()['Performance'].abs()[df.corr()['Performance'].abs() >= threshold]\n",
    "selected_data\n",
    "#columns_to_include = df.columns.difference(['Performance'])\n",
    "\n",
    "# Calculate correlation matrix\n",
    "#cor = df[columns_to_include].corr()\n",
    "\n",
    "#print(cor)"
   ]
  },
  {
   "cell_type": "code",
   "execution_count": 83,
   "id": "8097a3ee-a72f-4226-aa51-b12f9710adc6",
   "metadata": {},
   "outputs": [
    {
     "data": {
      "text/plain": [
       "Staff                0.124331\n",
       "Demographic score    0.117908\n",
       "40min population     0.099861\n",
       "30 min population    0.072470\n",
       "20 min population    0.005909\n",
       "10 min population    0.001953\n",
       "Store age            0.034238\n",
       "No                   0.173044\n",
       "Yes                  0.173044\n",
       "France               0.123979\n",
       "UK                   0.123979\n",
       "Name: Performance, dtype: float64"
      ]
     },
     "execution_count": 83,
     "metadata": {},
     "output_type": "execute_result"
    }
   ],
   "source": [
    "threshold = 0.2\n",
    "unselected_data = df.corr()['Performance'].abs()[df.corr()['Performance'].abs() <= threshold]\n",
    "unselected_data"
   ]
  },
  {
   "cell_type": "code",
   "execution_count": 84,
   "id": "b0ee9feb-cfbc-4c0a-8a44-7cdb8a737f23",
   "metadata": {},
   "outputs": [
    {
     "data": {
      "text/html": [
       "<div>\n",
       "<style scoped>\n",
       "    .dataframe tbody tr th:only-of-type {\n",
       "        vertical-align: middle;\n",
       "    }\n",
       "\n",
       "    .dataframe tbody tr th {\n",
       "        vertical-align: top;\n",
       "    }\n",
       "\n",
       "    .dataframe thead th {\n",
       "        text-align: right;\n",
       "    }\n",
       "</style>\n",
       "<table border=\"1\" class=\"dataframe\">\n",
       "  <thead>\n",
       "    <tr style=\"text-align: right;\">\n",
       "      <th></th>\n",
       "      <th>Staff</th>\n",
       "      <th>Floor Space</th>\n",
       "      <th>Window</th>\n",
       "      <th>Demographic score</th>\n",
       "      <th>Location</th>\n",
       "      <th>40min population</th>\n",
       "      <th>30 min population</th>\n",
       "      <th>20 min population</th>\n",
       "      <th>10 min population</th>\n",
       "      <th>Store age</th>\n",
       "      <th>Clearance space</th>\n",
       "      <th>Competition number</th>\n",
       "      <th>Competition score</th>\n",
       "      <th>Performance</th>\n",
       "      <th>No</th>\n",
       "      <th>Yes</th>\n",
       "      <th>France</th>\n",
       "      <th>UK</th>\n",
       "    </tr>\n",
       "  </thead>\n",
       "  <tbody>\n",
       "    <tr>\n",
       "      <th>Staff</th>\n",
       "      <td>1.000000</td>\n",
       "      <td>0.076039</td>\n",
       "      <td>0.077630</td>\n",
       "      <td>-0.057831</td>\n",
       "      <td>0.126064</td>\n",
       "      <td>-0.098366</td>\n",
       "      <td>-0.024631</td>\n",
       "      <td>-0.056310</td>\n",
       "      <td>-0.006601</td>\n",
       "      <td>-0.172655</td>\n",
       "      <td>0.110591</td>\n",
       "      <td>0.034571</td>\n",
       "      <td>0.123579</td>\n",
       "      <td>0.124331</td>\n",
       "      <td>-0.071324</td>\n",
       "      <td>0.071324</td>\n",
       "      <td>-0.013765</td>\n",
       "      <td>0.013765</td>\n",
       "    </tr>\n",
       "    <tr>\n",
       "      <th>Floor Space</th>\n",
       "      <td>0.076039</td>\n",
       "      <td>1.000000</td>\n",
       "      <td>0.999208</td>\n",
       "      <td>0.038187</td>\n",
       "      <td>0.011581</td>\n",
       "      <td>0.051918</td>\n",
       "      <td>-0.032199</td>\n",
       "      <td>-0.046161</td>\n",
       "      <td>-0.096698</td>\n",
       "      <td>-0.049285</td>\n",
       "      <td>0.627324</td>\n",
       "      <td>0.073559</td>\n",
       "      <td>0.091447</td>\n",
       "      <td>0.267429</td>\n",
       "      <td>-0.100542</td>\n",
       "      <td>0.100542</td>\n",
       "      <td>-0.070044</td>\n",
       "      <td>0.070044</td>\n",
       "    </tr>\n",
       "    <tr>\n",
       "      <th>Window</th>\n",
       "      <td>0.077630</td>\n",
       "      <td>0.999208</td>\n",
       "      <td>1.000000</td>\n",
       "      <td>0.038633</td>\n",
       "      <td>0.012063</td>\n",
       "      <td>0.053228</td>\n",
       "      <td>-0.028688</td>\n",
       "      <td>-0.042441</td>\n",
       "      <td>-0.091651</td>\n",
       "      <td>-0.048992</td>\n",
       "      <td>0.628509</td>\n",
       "      <td>0.074034</td>\n",
       "      <td>0.104551</td>\n",
       "      <td>0.274381</td>\n",
       "      <td>-0.099573</td>\n",
       "      <td>0.099573</td>\n",
       "      <td>-0.072035</td>\n",
       "      <td>0.072035</td>\n",
       "    </tr>\n",
       "    <tr>\n",
       "      <th>Demographic score</th>\n",
       "      <td>-0.057831</td>\n",
       "      <td>0.038187</td>\n",
       "      <td>0.038633</td>\n",
       "      <td>1.000000</td>\n",
       "      <td>-0.136952</td>\n",
       "      <td>0.036694</td>\n",
       "      <td>-0.007616</td>\n",
       "      <td>0.053498</td>\n",
       "      <td>0.099587</td>\n",
       "      <td>-0.014967</td>\n",
       "      <td>0.041849</td>\n",
       "      <td>-0.100716</td>\n",
       "      <td>-0.072325</td>\n",
       "      <td>-0.117908</td>\n",
       "      <td>0.036597</td>\n",
       "      <td>-0.036597</td>\n",
       "      <td>0.044220</td>\n",
       "      <td>-0.044220</td>\n",
       "    </tr>\n",
       "    <tr>\n",
       "      <th>Location</th>\n",
       "      <td>0.126064</td>\n",
       "      <td>0.011581</td>\n",
       "      <td>0.012063</td>\n",
       "      <td>-0.136952</td>\n",
       "      <td>1.000000</td>\n",
       "      <td>0.127160</td>\n",
       "      <td>0.122606</td>\n",
       "      <td>0.056947</td>\n",
       "      <td>0.044362</td>\n",
       "      <td>-0.017015</td>\n",
       "      <td>0.102161</td>\n",
       "      <td>0.007687</td>\n",
       "      <td>0.073904</td>\n",
       "      <td>0.350950</td>\n",
       "      <td>-0.057223</td>\n",
       "      <td>0.057223</td>\n",
       "      <td>-0.088340</td>\n",
       "      <td>0.088340</td>\n",
       "    </tr>\n",
       "    <tr>\n",
       "      <th>40min population</th>\n",
       "      <td>-0.098366</td>\n",
       "      <td>0.051918</td>\n",
       "      <td>0.053228</td>\n",
       "      <td>0.036694</td>\n",
       "      <td>0.127160</td>\n",
       "      <td>1.000000</td>\n",
       "      <td>0.624732</td>\n",
       "      <td>0.516682</td>\n",
       "      <td>0.432857</td>\n",
       "      <td>-0.191329</td>\n",
       "      <td>-0.018234</td>\n",
       "      <td>-0.004326</td>\n",
       "      <td>0.040554</td>\n",
       "      <td>-0.099861</td>\n",
       "      <td>0.094837</td>\n",
       "      <td>-0.094837</td>\n",
       "      <td>0.032546</td>\n",
       "      <td>-0.032546</td>\n",
       "    </tr>\n",
       "    <tr>\n",
       "      <th>30 min population</th>\n",
       "      <td>-0.024631</td>\n",
       "      <td>-0.032199</td>\n",
       "      <td>-0.028688</td>\n",
       "      <td>-0.007616</td>\n",
       "      <td>0.122606</td>\n",
       "      <td>0.624732</td>\n",
       "      <td>1.000000</td>\n",
       "      <td>0.766158</td>\n",
       "      <td>0.667031</td>\n",
       "      <td>-0.098829</td>\n",
       "      <td>-0.093048</td>\n",
       "      <td>-0.054191</td>\n",
       "      <td>0.046811</td>\n",
       "      <td>-0.072470</td>\n",
       "      <td>0.122039</td>\n",
       "      <td>-0.122039</td>\n",
       "      <td>0.095203</td>\n",
       "      <td>-0.095203</td>\n",
       "    </tr>\n",
       "    <tr>\n",
       "      <th>20 min population</th>\n",
       "      <td>-0.056310</td>\n",
       "      <td>-0.046161</td>\n",
       "      <td>-0.042441</td>\n",
       "      <td>0.053498</td>\n",
       "      <td>0.056947</td>\n",
       "      <td>0.516682</td>\n",
       "      <td>0.766158</td>\n",
       "      <td>1.000000</td>\n",
       "      <td>0.807882</td>\n",
       "      <td>-0.046910</td>\n",
       "      <td>-0.085887</td>\n",
       "      <td>-0.081947</td>\n",
       "      <td>0.008492</td>\n",
       "      <td>-0.005909</td>\n",
       "      <td>0.016966</td>\n",
       "      <td>-0.016966</td>\n",
       "      <td>-0.027442</td>\n",
       "      <td>0.027442</td>\n",
       "    </tr>\n",
       "    <tr>\n",
       "      <th>10 min population</th>\n",
       "      <td>-0.006601</td>\n",
       "      <td>-0.096698</td>\n",
       "      <td>-0.091651</td>\n",
       "      <td>0.099587</td>\n",
       "      <td>0.044362</td>\n",
       "      <td>0.432857</td>\n",
       "      <td>0.667031</td>\n",
       "      <td>0.807882</td>\n",
       "      <td>1.000000</td>\n",
       "      <td>-0.103815</td>\n",
       "      <td>-0.053129</td>\n",
       "      <td>-0.039108</td>\n",
       "      <td>0.068781</td>\n",
       "      <td>0.001953</td>\n",
       "      <td>0.037949</td>\n",
       "      <td>-0.037949</td>\n",
       "      <td>-0.051530</td>\n",
       "      <td>0.051530</td>\n",
       "    </tr>\n",
       "    <tr>\n",
       "      <th>Store age</th>\n",
       "      <td>-0.172655</td>\n",
       "      <td>-0.049285</td>\n",
       "      <td>-0.048992</td>\n",
       "      <td>-0.014967</td>\n",
       "      <td>-0.017015</td>\n",
       "      <td>-0.191329</td>\n",
       "      <td>-0.098829</td>\n",
       "      <td>-0.046910</td>\n",
       "      <td>-0.103815</td>\n",
       "      <td>1.000000</td>\n",
       "      <td>-0.037935</td>\n",
       "      <td>-0.063024</td>\n",
       "      <td>-0.109725</td>\n",
       "      <td>-0.034238</td>\n",
       "      <td>0.104477</td>\n",
       "      <td>-0.104477</td>\n",
       "      <td>-0.044839</td>\n",
       "      <td>0.044839</td>\n",
       "    </tr>\n",
       "    <tr>\n",
       "      <th>Clearance space</th>\n",
       "      <td>0.110591</td>\n",
       "      <td>0.627324</td>\n",
       "      <td>0.628509</td>\n",
       "      <td>0.041849</td>\n",
       "      <td>0.102161</td>\n",
       "      <td>-0.018234</td>\n",
       "      <td>-0.093048</td>\n",
       "      <td>-0.085887</td>\n",
       "      <td>-0.053129</td>\n",
       "      <td>-0.037935</td>\n",
       "      <td>1.000000</td>\n",
       "      <td>0.047191</td>\n",
       "      <td>0.156431</td>\n",
       "      <td>0.257304</td>\n",
       "      <td>-0.210570</td>\n",
       "      <td>0.210570</td>\n",
       "      <td>-0.014050</td>\n",
       "      <td>0.014050</td>\n",
       "    </tr>\n",
       "    <tr>\n",
       "      <th>Competition number</th>\n",
       "      <td>0.034571</td>\n",
       "      <td>0.073559</td>\n",
       "      <td>0.074034</td>\n",
       "      <td>-0.100716</td>\n",
       "      <td>0.007687</td>\n",
       "      <td>-0.004326</td>\n",
       "      <td>-0.054191</td>\n",
       "      <td>-0.081947</td>\n",
       "      <td>-0.039108</td>\n",
       "      <td>-0.063024</td>\n",
       "      <td>0.047191</td>\n",
       "      <td>1.000000</td>\n",
       "      <td>-0.011215</td>\n",
       "      <td>0.209215</td>\n",
       "      <td>-0.014786</td>\n",
       "      <td>0.014786</td>\n",
       "      <td>0.001557</td>\n",
       "      <td>-0.001557</td>\n",
       "    </tr>\n",
       "    <tr>\n",
       "      <th>Competition score</th>\n",
       "      <td>0.123579</td>\n",
       "      <td>0.091447</td>\n",
       "      <td>0.104551</td>\n",
       "      <td>-0.072325</td>\n",
       "      <td>0.073904</td>\n",
       "      <td>0.040554</td>\n",
       "      <td>0.046811</td>\n",
       "      <td>0.008492</td>\n",
       "      <td>0.068781</td>\n",
       "      <td>-0.109725</td>\n",
       "      <td>0.156431</td>\n",
       "      <td>-0.011215</td>\n",
       "      <td>1.000000</td>\n",
       "      <td>0.345618</td>\n",
       "      <td>-0.048616</td>\n",
       "      <td>0.048616</td>\n",
       "      <td>-0.012814</td>\n",
       "      <td>0.012814</td>\n",
       "    </tr>\n",
       "    <tr>\n",
       "      <th>Performance</th>\n",
       "      <td>0.124331</td>\n",
       "      <td>0.267429</td>\n",
       "      <td>0.274381</td>\n",
       "      <td>-0.117908</td>\n",
       "      <td>0.350950</td>\n",
       "      <td>-0.099861</td>\n",
       "      <td>-0.072470</td>\n",
       "      <td>-0.005909</td>\n",
       "      <td>0.001953</td>\n",
       "      <td>-0.034238</td>\n",
       "      <td>0.257304</td>\n",
       "      <td>0.209215</td>\n",
       "      <td>0.345618</td>\n",
       "      <td>1.000000</td>\n",
       "      <td>-0.173044</td>\n",
       "      <td>0.173044</td>\n",
       "      <td>-0.123979</td>\n",
       "      <td>0.123979</td>\n",
       "    </tr>\n",
       "    <tr>\n",
       "      <th>No</th>\n",
       "      <td>-0.071324</td>\n",
       "      <td>-0.100542</td>\n",
       "      <td>-0.099573</td>\n",
       "      <td>0.036597</td>\n",
       "      <td>-0.057223</td>\n",
       "      <td>0.094837</td>\n",
       "      <td>0.122039</td>\n",
       "      <td>0.016966</td>\n",
       "      <td>0.037949</td>\n",
       "      <td>0.104477</td>\n",
       "      <td>-0.210570</td>\n",
       "      <td>-0.014786</td>\n",
       "      <td>-0.048616</td>\n",
       "      <td>-0.173044</td>\n",
       "      <td>1.000000</td>\n",
       "      <td>-1.000000</td>\n",
       "      <td>0.060059</td>\n",
       "      <td>-0.060059</td>\n",
       "    </tr>\n",
       "    <tr>\n",
       "      <th>Yes</th>\n",
       "      <td>0.071324</td>\n",
       "      <td>0.100542</td>\n",
       "      <td>0.099573</td>\n",
       "      <td>-0.036597</td>\n",
       "      <td>0.057223</td>\n",
       "      <td>-0.094837</td>\n",
       "      <td>-0.122039</td>\n",
       "      <td>-0.016966</td>\n",
       "      <td>-0.037949</td>\n",
       "      <td>-0.104477</td>\n",
       "      <td>0.210570</td>\n",
       "      <td>0.014786</td>\n",
       "      <td>0.048616</td>\n",
       "      <td>0.173044</td>\n",
       "      <td>-1.000000</td>\n",
       "      <td>1.000000</td>\n",
       "      <td>-0.060059</td>\n",
       "      <td>0.060059</td>\n",
       "    </tr>\n",
       "    <tr>\n",
       "      <th>France</th>\n",
       "      <td>-0.013765</td>\n",
       "      <td>-0.070044</td>\n",
       "      <td>-0.072035</td>\n",
       "      <td>0.044220</td>\n",
       "      <td>-0.088340</td>\n",
       "      <td>0.032546</td>\n",
       "      <td>0.095203</td>\n",
       "      <td>-0.027442</td>\n",
       "      <td>-0.051530</td>\n",
       "      <td>-0.044839</td>\n",
       "      <td>-0.014050</td>\n",
       "      <td>0.001557</td>\n",
       "      <td>-0.012814</td>\n",
       "      <td>-0.123979</td>\n",
       "      <td>0.060059</td>\n",
       "      <td>-0.060059</td>\n",
       "      <td>1.000000</td>\n",
       "      <td>-1.000000</td>\n",
       "    </tr>\n",
       "    <tr>\n",
       "      <th>UK</th>\n",
       "      <td>0.013765</td>\n",
       "      <td>0.070044</td>\n",
       "      <td>0.072035</td>\n",
       "      <td>-0.044220</td>\n",
       "      <td>0.088340</td>\n",
       "      <td>-0.032546</td>\n",
       "      <td>-0.095203</td>\n",
       "      <td>0.027442</td>\n",
       "      <td>0.051530</td>\n",
       "      <td>0.044839</td>\n",
       "      <td>0.014050</td>\n",
       "      <td>-0.001557</td>\n",
       "      <td>0.012814</td>\n",
       "      <td>0.123979</td>\n",
       "      <td>-0.060059</td>\n",
       "      <td>0.060059</td>\n",
       "      <td>-1.000000</td>\n",
       "      <td>1.000000</td>\n",
       "    </tr>\n",
       "  </tbody>\n",
       "</table>\n",
       "</div>"
      ],
      "text/plain": [
       "                       Staff  Floor Space    Window  Demographic score  \\\n",
       "Staff               1.000000     0.076039  0.077630          -0.057831   \n",
       "Floor Space         0.076039     1.000000  0.999208           0.038187   \n",
       "Window              0.077630     0.999208  1.000000           0.038633   \n",
       "Demographic score  -0.057831     0.038187  0.038633           1.000000   \n",
       "Location            0.126064     0.011581  0.012063          -0.136952   \n",
       "40min population   -0.098366     0.051918  0.053228           0.036694   \n",
       "30 min population  -0.024631    -0.032199 -0.028688          -0.007616   \n",
       "20 min population  -0.056310    -0.046161 -0.042441           0.053498   \n",
       "10 min population  -0.006601    -0.096698 -0.091651           0.099587   \n",
       "Store age          -0.172655    -0.049285 -0.048992          -0.014967   \n",
       "Clearance space     0.110591     0.627324  0.628509           0.041849   \n",
       "Competition number  0.034571     0.073559  0.074034          -0.100716   \n",
       "Competition score   0.123579     0.091447  0.104551          -0.072325   \n",
       "Performance         0.124331     0.267429  0.274381          -0.117908   \n",
       "No                 -0.071324    -0.100542 -0.099573           0.036597   \n",
       "Yes                 0.071324     0.100542  0.099573          -0.036597   \n",
       "France             -0.013765    -0.070044 -0.072035           0.044220   \n",
       "UK                  0.013765     0.070044  0.072035          -0.044220   \n",
       "\n",
       "                    Location  40min population  30 min population  \\\n",
       "Staff               0.126064         -0.098366          -0.024631   \n",
       "Floor Space         0.011581          0.051918          -0.032199   \n",
       "Window              0.012063          0.053228          -0.028688   \n",
       "Demographic score  -0.136952          0.036694          -0.007616   \n",
       "Location            1.000000          0.127160           0.122606   \n",
       "40min population    0.127160          1.000000           0.624732   \n",
       "30 min population   0.122606          0.624732           1.000000   \n",
       "20 min population   0.056947          0.516682           0.766158   \n",
       "10 min population   0.044362          0.432857           0.667031   \n",
       "Store age          -0.017015         -0.191329          -0.098829   \n",
       "Clearance space     0.102161         -0.018234          -0.093048   \n",
       "Competition number  0.007687         -0.004326          -0.054191   \n",
       "Competition score   0.073904          0.040554           0.046811   \n",
       "Performance         0.350950         -0.099861          -0.072470   \n",
       "No                 -0.057223          0.094837           0.122039   \n",
       "Yes                 0.057223         -0.094837          -0.122039   \n",
       "France             -0.088340          0.032546           0.095203   \n",
       "UK                  0.088340         -0.032546          -0.095203   \n",
       "\n",
       "                    20 min population  10 min population  Store age  \\\n",
       "Staff                       -0.056310          -0.006601  -0.172655   \n",
       "Floor Space                 -0.046161          -0.096698  -0.049285   \n",
       "Window                      -0.042441          -0.091651  -0.048992   \n",
       "Demographic score            0.053498           0.099587  -0.014967   \n",
       "Location                     0.056947           0.044362  -0.017015   \n",
       "40min population             0.516682           0.432857  -0.191329   \n",
       "30 min population            0.766158           0.667031  -0.098829   \n",
       "20 min population            1.000000           0.807882  -0.046910   \n",
       "10 min population            0.807882           1.000000  -0.103815   \n",
       "Store age                   -0.046910          -0.103815   1.000000   \n",
       "Clearance space             -0.085887          -0.053129  -0.037935   \n",
       "Competition number          -0.081947          -0.039108  -0.063024   \n",
       "Competition score            0.008492           0.068781  -0.109725   \n",
       "Performance                 -0.005909           0.001953  -0.034238   \n",
       "No                           0.016966           0.037949   0.104477   \n",
       "Yes                         -0.016966          -0.037949  -0.104477   \n",
       "France                      -0.027442          -0.051530  -0.044839   \n",
       "UK                           0.027442           0.051530   0.044839   \n",
       "\n",
       "                    Clearance space  Competition number  Competition score  \\\n",
       "Staff                      0.110591            0.034571           0.123579   \n",
       "Floor Space                0.627324            0.073559           0.091447   \n",
       "Window                     0.628509            0.074034           0.104551   \n",
       "Demographic score          0.041849           -0.100716          -0.072325   \n",
       "Location                   0.102161            0.007687           0.073904   \n",
       "40min population          -0.018234           -0.004326           0.040554   \n",
       "30 min population         -0.093048           -0.054191           0.046811   \n",
       "20 min population         -0.085887           -0.081947           0.008492   \n",
       "10 min population         -0.053129           -0.039108           0.068781   \n",
       "Store age                 -0.037935           -0.063024          -0.109725   \n",
       "Clearance space            1.000000            0.047191           0.156431   \n",
       "Competition number         0.047191            1.000000          -0.011215   \n",
       "Competition score          0.156431           -0.011215           1.000000   \n",
       "Performance                0.257304            0.209215           0.345618   \n",
       "No                        -0.210570           -0.014786          -0.048616   \n",
       "Yes                        0.210570            0.014786           0.048616   \n",
       "France                    -0.014050            0.001557          -0.012814   \n",
       "UK                         0.014050           -0.001557           0.012814   \n",
       "\n",
       "                    Performance        No       Yes    France        UK  \n",
       "Staff                  0.124331 -0.071324  0.071324 -0.013765  0.013765  \n",
       "Floor Space            0.267429 -0.100542  0.100542 -0.070044  0.070044  \n",
       "Window                 0.274381 -0.099573  0.099573 -0.072035  0.072035  \n",
       "Demographic score     -0.117908  0.036597 -0.036597  0.044220 -0.044220  \n",
       "Location               0.350950 -0.057223  0.057223 -0.088340  0.088340  \n",
       "40min population      -0.099861  0.094837 -0.094837  0.032546 -0.032546  \n",
       "30 min population     -0.072470  0.122039 -0.122039  0.095203 -0.095203  \n",
       "20 min population     -0.005909  0.016966 -0.016966 -0.027442  0.027442  \n",
       "10 min population      0.001953  0.037949 -0.037949 -0.051530  0.051530  \n",
       "Store age             -0.034238  0.104477 -0.104477 -0.044839  0.044839  \n",
       "Clearance space        0.257304 -0.210570  0.210570 -0.014050  0.014050  \n",
       "Competition number     0.209215 -0.014786  0.014786  0.001557 -0.001557  \n",
       "Competition score      0.345618 -0.048616  0.048616 -0.012814  0.012814  \n",
       "Performance            1.000000 -0.173044  0.173044 -0.123979  0.123979  \n",
       "No                    -0.173044  1.000000 -1.000000  0.060059 -0.060059  \n",
       "Yes                    0.173044 -1.000000  1.000000 -0.060059  0.060059  \n",
       "France                -0.123979  0.060059 -0.060059  1.000000 -1.000000  \n",
       "UK                     0.123979 -0.060059  0.060059 -1.000000  1.000000  "
      ]
     },
     "execution_count": 84,
     "metadata": {},
     "output_type": "execute_result"
    }
   ],
   "source": [
    "#using correlation to do feature selection\n",
    "df.corr()"
   ]
  },
  {
   "cell_type": "code",
   "execution_count": 85,
   "id": "f26e0845-6761-47bf-a4ac-fc39279fc704",
   "metadata": {},
   "outputs": [
    {
     "data": {
      "text/plain": [
       "<Axes: >"
      ]
     },
     "execution_count": 85,
     "metadata": {},
     "output_type": "execute_result"
    },
    {
     "data": {
      "image/png": "[encoded data removed]",
      "text/plain": [
       "<Figure size 640x480 with 2 Axes>"
      ]
     },
     "metadata": {},
     "output_type": "display_data"
    }
   ],
   "source": [
    "sns.heatmap(df.corr())"
   ]
  },
  {
   "cell_type": "code",
   "execution_count": 86,
   "id": "6341cd8c-8f31-4832-9f1f-261bdf57030a",
   "metadata": {},
   "outputs": [
    {
     "data": {
      "text/plain": [
       "pandas.core.frame.DataFrame"
      ]
     },
     "execution_count": 86,
     "metadata": {},
     "output_type": "execute_result"
    }
   ],
   "source": [
    "type(pd.DataFrame(selected_data))"
   ]
  },
  {
   "cell_type": "code",
   "execution_count": 87,
   "id": "c21c992a-3231-4234-ada1-2b3df716fd50",
   "metadata": {},
   "outputs": [
    {
     "data": {
      "text/plain": [
       "Index(['Staff', 'Floor Space', 'Window', 'Demographic score', 'Location',\n",
       "       'Clearance space', 'Competition number', 'Competition score',\n",
       "       'Performance', 'No', 'Yes', 'France', 'UK'],\n",
       "      dtype='object')"
      ]
     },
     "execution_count": 87,
     "metadata": {},
     "output_type": "execute_result"
    }
   ],
   "source": [
    "pd.DataFrame(selected_data).index"
   ]
  },
  {
   "cell_type": "code",
   "execution_count": 88,
   "id": "306cceef-4736-4b8e-afb7-7666ddd1c778",
   "metadata": {},
   "outputs": [],
   "source": [
    "selected = ['Staff', 'Floor Space', 'Window', 'Demographic score', 'Location',\n",
    "       'Clearance space', 'Competition number', 'Competition score',\n",
    "       'Performance', 'No', 'Yes', 'France', 'UK']"
   ]
  },
  {
   "cell_type": "code",
   "execution_count": 89,
   "id": "d7a2da0f-b28d-4f86-b210-62f13c7c9bdb",
   "metadata": {},
   "outputs": [
    {
     "data": {
      "text/html": [
       "<div>\n",
       "<style scoped>\n",
       "    .dataframe tbody tr th:only-of-type {\n",
       "        vertical-align: middle;\n",
       "    }\n",
       "\n",
       "    .dataframe tbody tr th {\n",
       "        vertical-align: top;\n",
       "    }\n",
       "\n",
       "    .dataframe thead th {\n",
       "        text-align: right;\n",
       "    }\n",
       "</style>\n",
       "<table border=\"1\" class=\"dataframe\">\n",
       "  <thead>\n",
       "    <tr style=\"text-align: right;\">\n",
       "      <th></th>\n",
       "      <th>Staff</th>\n",
       "      <th>Floor Space</th>\n",
       "      <th>Window</th>\n",
       "      <th>Demographic score</th>\n",
       "      <th>Location</th>\n",
       "      <th>Clearance space</th>\n",
       "      <th>Competition number</th>\n",
       "      <th>Competition score</th>\n",
       "      <th>Performance</th>\n",
       "      <th>No</th>\n",
       "      <th>Yes</th>\n",
       "      <th>France</th>\n",
       "      <th>UK</th>\n",
       "    </tr>\n",
       "  </thead>\n",
       "  <tbody>\n",
       "    <tr>\n",
       "      <th>0</th>\n",
       "      <td>9</td>\n",
       "      <td>18526</td>\n",
       "      <td>121</td>\n",
       "      <td>10</td>\n",
       "      <td>1</td>\n",
       "      <td>238</td>\n",
       "      <td>16</td>\n",
       "      <td>16</td>\n",
       "      <td>1</td>\n",
       "      <td>0</td>\n",
       "      <td>1</td>\n",
       "      <td>0</td>\n",
       "      <td>1</td>\n",
       "    </tr>\n",
       "    <tr>\n",
       "      <th>1</th>\n",
       "      <td>8</td>\n",
       "      <td>18569</td>\n",
       "      <td>121</td>\n",
       "      <td>11</td>\n",
       "      <td>2</td>\n",
       "      <td>384</td>\n",
       "      <td>15</td>\n",
       "      <td>19</td>\n",
       "      <td>1</td>\n",
       "      <td>0</td>\n",
       "      <td>1</td>\n",
       "      <td>0</td>\n",
       "      <td>1</td>\n",
       "    </tr>\n",
       "    <tr>\n",
       "      <th>2</th>\n",
       "      <td>-2</td>\n",
       "      <td>12288</td>\n",
       "      <td>105</td>\n",
       "      <td>12</td>\n",
       "      <td>1</td>\n",
       "      <td>219</td>\n",
       "      <td>13</td>\n",
       "      <td>18</td>\n",
       "      <td>0</td>\n",
       "      <td>1</td>\n",
       "      <td>0</td>\n",
       "      <td>0</td>\n",
       "      <td>1</td>\n",
       "    </tr>\n",
       "    <tr>\n",
       "      <th>3</th>\n",
       "      <td>7</td>\n",
       "      <td>17092</td>\n",
       "      <td>117</td>\n",
       "      <td>14</td>\n",
       "      <td>0</td>\n",
       "      <td>261</td>\n",
       "      <td>15</td>\n",
       "      <td>12</td>\n",
       "      <td>0</td>\n",
       "      <td>1</td>\n",
       "      <td>0</td>\n",
       "      <td>0</td>\n",
       "      <td>1</td>\n",
       "    </tr>\n",
       "    <tr>\n",
       "      <th>4</th>\n",
       "      <td>7</td>\n",
       "      <td>11307</td>\n",
       "      <td>103</td>\n",
       "      <td>18</td>\n",
       "      <td>1</td>\n",
       "      <td>200</td>\n",
       "      <td>19</td>\n",
       "      <td>13</td>\n",
       "      <td>0</td>\n",
       "      <td>1</td>\n",
       "      <td>0</td>\n",
       "      <td>0</td>\n",
       "      <td>1</td>\n",
       "    </tr>\n",
       "    <tr>\n",
       "      <th>...</th>\n",
       "      <td>...</td>\n",
       "      <td>...</td>\n",
       "      <td>...</td>\n",
       "      <td>...</td>\n",
       "      <td>...</td>\n",
       "      <td>...</td>\n",
       "      <td>...</td>\n",
       "      <td>...</td>\n",
       "      <td>...</td>\n",
       "      <td>...</td>\n",
       "      <td>...</td>\n",
       "      <td>...</td>\n",
       "      <td>...</td>\n",
       "    </tr>\n",
       "    <tr>\n",
       "      <th>131</th>\n",
       "      <td>7</td>\n",
       "      <td>14120</td>\n",
       "      <td>110</td>\n",
       "      <td>13</td>\n",
       "      <td>1</td>\n",
       "      <td>202</td>\n",
       "      <td>18</td>\n",
       "      <td>14</td>\n",
       "      <td>0</td>\n",
       "      <td>0</td>\n",
       "      <td>1</td>\n",
       "      <td>0</td>\n",
       "      <td>1</td>\n",
       "    </tr>\n",
       "    <tr>\n",
       "      <th>132</th>\n",
       "      <td>6</td>\n",
       "      <td>11205</td>\n",
       "      <td>103</td>\n",
       "      <td>15</td>\n",
       "      <td>2</td>\n",
       "      <td>203</td>\n",
       "      <td>13</td>\n",
       "      <td>18</td>\n",
       "      <td>0</td>\n",
       "      <td>1</td>\n",
       "      <td>0</td>\n",
       "      <td>0</td>\n",
       "      <td>1</td>\n",
       "    </tr>\n",
       "    <tr>\n",
       "      <th>133</th>\n",
       "      <td>7</td>\n",
       "      <td>16190</td>\n",
       "      <td>115</td>\n",
       "      <td>19</td>\n",
       "      <td>2</td>\n",
       "      <td>341</td>\n",
       "      <td>18</td>\n",
       "      <td>18</td>\n",
       "      <td>0</td>\n",
       "      <td>1</td>\n",
       "      <td>0</td>\n",
       "      <td>0</td>\n",
       "      <td>1</td>\n",
       "    </tr>\n",
       "    <tr>\n",
       "      <th>134</th>\n",
       "      <td>6</td>\n",
       "      <td>15516</td>\n",
       "      <td>113</td>\n",
       "      <td>17</td>\n",
       "      <td>0</td>\n",
       "      <td>261</td>\n",
       "      <td>14</td>\n",
       "      <td>10</td>\n",
       "      <td>0</td>\n",
       "      <td>1</td>\n",
       "      <td>0</td>\n",
       "      <td>0</td>\n",
       "      <td>1</td>\n",
       "    </tr>\n",
       "    <tr>\n",
       "      <th>135</th>\n",
       "      <td>9</td>\n",
       "      <td>14468</td>\n",
       "      <td>111</td>\n",
       "      <td>18</td>\n",
       "      <td>0</td>\n",
       "      <td>276</td>\n",
       "      <td>18</td>\n",
       "      <td>13</td>\n",
       "      <td>1</td>\n",
       "      <td>0</td>\n",
       "      <td>1</td>\n",
       "      <td>0</td>\n",
       "      <td>1</td>\n",
       "    </tr>\n",
       "  </tbody>\n",
       "</table>\n",
       "<p>136 rows × 13 columns</p>\n",
       "</div>"
      ],
      "text/plain": [
       "     Staff  Floor Space  Window  Demographic score  Location  Clearance space  \\\n",
       "0        9        18526     121                 10         1              238   \n",
       "1        8        18569     121                 11         2              384   \n",
       "2       -2        12288     105                 12         1              219   \n",
       "3        7        17092     117                 14         0              261   \n",
       "4        7        11307     103                 18         1              200   \n",
       "..     ...          ...     ...                ...       ...              ...   \n",
       "131      7        14120     110                 13         1              202   \n",
       "132      6        11205     103                 15         2              203   \n",
       "133      7        16190     115                 19         2              341   \n",
       "134      6        15516     113                 17         0              261   \n",
       "135      9        14468     111                 18         0              276   \n",
       "\n",
       "     Competition number  Competition score  Performance  No  Yes  France  UK  \n",
       "0                    16                 16            1   0    1       0   1  \n",
       "1                    15                 19            1   0    1       0   1  \n",
       "2                    13                 18            0   1    0       0   1  \n",
       "3                    15                 12            0   1    0       0   1  \n",
       "4                    19                 13            0   1    0       0   1  \n",
       "..                  ...                ...          ...  ..  ...     ...  ..  \n",
       "131                  18                 14            0   0    1       0   1  \n",
       "132                  13                 18            0   1    0       0   1  \n",
       "133                  18                 18            0   1    0       0   1  \n",
       "134                  14                 10            0   1    0       0   1  \n",
       "135                  18                 13            1   0    1       0   1  \n",
       "\n",
       "[136 rows x 13 columns]"
      ]
     },
     "execution_count": 89,
     "metadata": {},
     "output_type": "execute_result"
    }
   ],
   "source": [
    "df1 = df[selected]\n",
    "df1"
   ]
  },
  {
   "cell_type": "code",
   "execution_count": 90,
   "id": "cb20e0e2-7989-4293-856f-e055c2c5b5f5",
   "metadata": {},
   "outputs": [],
   "source": [
    "x = df1.drop('Performance', axis = 1)\n",
    "y = df1.Performance"
   ]
  },
  {
   "cell_type": "code",
   "execution_count": 91,
   "id": "0774d547-1f35-4839-8efc-fc2efb01ca14",
   "metadata": {},
   "outputs": [
    {
     "data": {
      "text/html": [
       "<div>\n",
       "<style scoped>\n",
       "    .dataframe tbody tr th:only-of-type {\n",
       "        vertical-align: middle;\n",
       "    }\n",
       "\n",
       "    .dataframe tbody tr th {\n",
       "        vertical-align: top;\n",
       "    }\n",
       "\n",
       "    .dataframe thead th {\n",
       "        text-align: right;\n",
       "    }\n",
       "</style>\n",
       "<table border=\"1\" class=\"dataframe\">\n",
       "  <thead>\n",
       "    <tr style=\"text-align: right;\">\n",
       "      <th></th>\n",
       "      <th>Staff</th>\n",
       "      <th>Floor Space</th>\n",
       "      <th>Window</th>\n",
       "      <th>Demographic score</th>\n",
       "      <th>Location</th>\n",
       "      <th>Clearance space</th>\n",
       "      <th>Competition number</th>\n",
       "      <th>Competition score</th>\n",
       "      <th>No</th>\n",
       "      <th>Yes</th>\n",
       "      <th>France</th>\n",
       "      <th>UK</th>\n",
       "    </tr>\n",
       "  </thead>\n",
       "  <tbody>\n",
       "    <tr>\n",
       "      <th>0</th>\n",
       "      <td>9</td>\n",
       "      <td>18526</td>\n",
       "      <td>121</td>\n",
       "      <td>10</td>\n",
       "      <td>1</td>\n",
       "      <td>238</td>\n",
       "      <td>16</td>\n",
       "      <td>16</td>\n",
       "      <td>0</td>\n",
       "      <td>1</td>\n",
       "      <td>0</td>\n",
       "      <td>1</td>\n",
       "    </tr>\n",
       "    <tr>\n",
       "      <th>1</th>\n",
       "      <td>8</td>\n",
       "      <td>18569</td>\n",
       "      <td>121</td>\n",
       "      <td>11</td>\n",
       "      <td>2</td>\n",
       "      <td>384</td>\n",
       "      <td>15</td>\n",
       "      <td>19</td>\n",
       "      <td>0</td>\n",
       "      <td>1</td>\n",
       "      <td>0</td>\n",
       "      <td>1</td>\n",
       "    </tr>\n",
       "    <tr>\n",
       "      <th>2</th>\n",
       "      <td>-2</td>\n",
       "      <td>12288</td>\n",
       "      <td>105</td>\n",
       "      <td>12</td>\n",
       "      <td>1</td>\n",
       "      <td>219</td>\n",
       "      <td>13</td>\n",
       "      <td>18</td>\n",
       "      <td>1</td>\n",
       "      <td>0</td>\n",
       "      <td>0</td>\n",
       "      <td>1</td>\n",
       "    </tr>\n",
       "    <tr>\n",
       "      <th>3</th>\n",
       "      <td>7</td>\n",
       "      <td>17092</td>\n",
       "      <td>117</td>\n",
       "      <td>14</td>\n",
       "      <td>0</td>\n",
       "      <td>261</td>\n",
       "      <td>15</td>\n",
       "      <td>12</td>\n",
       "      <td>1</td>\n",
       "      <td>0</td>\n",
       "      <td>0</td>\n",
       "      <td>1</td>\n",
       "    </tr>\n",
       "    <tr>\n",
       "      <th>4</th>\n",
       "      <td>7</td>\n",
       "      <td>11307</td>\n",
       "      <td>103</td>\n",
       "      <td>18</td>\n",
       "      <td>1</td>\n",
       "      <td>200</td>\n",
       "      <td>19</td>\n",
       "      <td>13</td>\n",
       "      <td>1</td>\n",
       "      <td>0</td>\n",
       "      <td>0</td>\n",
       "      <td>1</td>\n",
       "    </tr>\n",
       "  </tbody>\n",
       "</table>\n",
       "</div>"
      ],
      "text/plain": [
       "   Staff  Floor Space  Window  Demographic score  Location  Clearance space  \\\n",
       "0      9        18526     121                 10         1              238   \n",
       "1      8        18569     121                 11         2              384   \n",
       "2     -2        12288     105                 12         1              219   \n",
       "3      7        17092     117                 14         0              261   \n",
       "4      7        11307     103                 18         1              200   \n",
       "\n",
       "   Competition number  Competition score  No  Yes  France  UK  \n",
       "0                  16                 16   0    1       0   1  \n",
       "1                  15                 19   0    1       0   1  \n",
       "2                  13                 18   1    0       0   1  \n",
       "3                  15                 12   1    0       0   1  \n",
       "4                  19                 13   1    0       0   1  "
      ]
     },
     "execution_count": 91,
     "metadata": {},
     "output_type": "execute_result"
    }
   ],
   "source": [
    "x.head()"
   ]
  },
  {
   "cell_type": "code",
   "execution_count": 92,
   "id": "4a106eb4-41fc-4804-b34e-8d6066bd252e",
   "metadata": {},
   "outputs": [
    {
     "data": {
      "text/plain": [
       "0    1\n",
       "1    1\n",
       "2    0\n",
       "3    0\n",
       "4    0\n",
       "Name: Performance, dtype: int32"
      ]
     },
     "execution_count": 92,
     "metadata": {},
     "output_type": "execute_result"
    }
   ],
   "source": [
    "y.head()"
   ]
  },
  {
   "cell_type": "code",
   "execution_count": 93,
   "id": "1ac2b345-0de1-41c0-b9d6-e65b6ed94c41",
   "metadata": {},
   "outputs": [
    {
     "name": "stdout",
     "output_type": "stream",
     "text": [
      "The shape of x_train is :(95, 12)\n",
      "The shape of y_train is :(95,)\n",
      "The shape of x_test is :(41, 12)\n",
      "The shape of y_test is :(41,)\n"
     ]
    }
   ],
   "source": [
    "from sklearn.model_selection import train_test_split\n",
    "x_train,x_test, y_train,y_test = train_test_split(x, y, train_size = 0.7, shuffle = True, random_state =41)\n",
    "print(f\"The shape of x_train is :{x_train.shape}\")\n",
    "print(f\"The shape of y_train is :{y_train.shape}\")\n",
    "print(f\"The shape of x_test is :{x_test.shape}\")\n",
    "print(f\"The shape of y_test is :{y_test.shape}\")"
   ]
  },
  {
   "cell_type": "code",
   "execution_count": 94,
   "id": "5ba07592-743c-4840-b71a-50c164659d8e",
   "metadata": {},
   "outputs": [],
   "source": [
    "from sklearn.naive_bayes import GaussianNB\n",
    "from sklearn.neighbors import KNeighborsClassifier\n",
    "from sklearn.svm import SVC\n",
    "from sklearn.tree import DecisionTreeClassifier\n",
    "from sklearn.ensemble import RandomForestClassifier"
   ]
  },
  {
   "cell_type": "code",
   "execution_count": 95,
   "id": "9001250a-d475-416d-a191-989d264347e9",
   "metadata": {},
   "outputs": [],
   "source": [
    "nb = GaussianNB()\n",
    "knn = KNeighborsClassifier()\n",
    "scm = SVC()\n",
    "dt = DecisionTreeClassifier()\n",
    "rf = RandomForestClassifier()"
   ]
  },
  {
   "cell_type": "code",
   "execution_count": 96,
   "id": "62a233ce-2fbb-44c5-941a-ce7a7145c6f0",
   "metadata": {},
   "outputs": [
    {
     "data": {
      "text/plain": [
       "71.0"
      ]
     },
     "execution_count": 96,
     "metadata": {},
     "output_type": "execute_result"
    }
   ],
   "source": [
    "nb.fit(x_train, y_train)\n",
    "round(nb.score(x_train, y_train),2)*100"
   ]
  },
  {
   "cell_type": "code",
   "execution_count": 97,
   "id": "7c1a1f30-14d6-4043-933d-6881f0452c20",
   "metadata": {},
   "outputs": [
    {
     "data": {
      "text/plain": [
       "74.0"
      ]
     },
     "execution_count": 97,
     "metadata": {},
     "output_type": "execute_result"
    }
   ],
   "source": [
    "knn.fit(x_train, y_train)\n",
    "round(knn.score(x_train, y_train),2)*100"
   ]
  },
  {
   "cell_type": "code",
   "execution_count": 98,
   "id": "ea865e8b-1170-4fb0-afcc-97f5366abf62",
   "metadata": {},
   "outputs": [
    {
     "data": {
      "text/plain": [
       "65.0"
      ]
     },
     "execution_count": 98,
     "metadata": {},
     "output_type": "execute_result"
    }
   ],
   "source": [
    "scm.fit(x_train, y_train)\n",
    "round(scm.score(x_train, y_train),2)*100"
   ]
  },
  {
   "cell_type": "code",
   "execution_count": 99,
   "id": "3db8386d-ad41-4332-a743-d107be1c5c73",
   "metadata": {},
   "outputs": [
    {
     "data": {
      "text/plain": [
       "100.0"
      ]
     },
     "execution_count": 99,
     "metadata": {},
     "output_type": "execute_result"
    }
   ],
   "source": [
    "dt.fit(x_train, y_train)\n",
    "round(dt.score(x_train, y_train),2)*100"
   ]
  },
  {
   "cell_type": "code",
   "execution_count": 100,
   "id": "87eefc72-e9ca-4680-91f5-a01af846d9fb",
   "metadata": {},
   "outputs": [
    {
     "data": {
      "text/plain": [
       "100.0"
      ]
     },
     "execution_count": 100,
     "metadata": {},
     "output_type": "execute_result"
    }
   ],
   "source": [
    "rf.fit(x_train, y_train)\n",
    "round(rf.score(x_train, y_train),2)*100"
   ]
  },
  {
   "cell_type": "markdown",
   "id": "97c6d036-36d4-479e-86c5-9cdc52a2f041",
   "metadata": {},
   "source": [
    " ## TESTING\n",
    "\n"
   ]
  },
  {
   "cell_type": "code",
   "execution_count": 101,
   "id": "7af8fbe5-b10b-47ae-9947-7fa624abe82a",
   "metadata": {},
   "outputs": [
    {
     "data": {
      "text/plain": [
       "<sklearn.metrics._plot.confusion_matrix.ConfusionMatrixDisplay at 0x25f28a7f710>"
      ]
     },
     "execution_count": 101,
     "metadata": {},
     "output_type": "execute_result"
    },
    {
     "data": {
      "image/png": "[encoded data removed]",
      "text/plain": [
       "<Figure size 640x480 with 2 Axes>"
      ]
     },
     "metadata": {},
     "output_type": "display_data"
    }
   ],
   "source": [
    "from sklearn.metrics import accuracy_score, ConfusionMatrixDisplay, confusion_matrix\n",
    "nb.predict(x_test)\n",
    "round(accuracy_score(y_test, nb.predict(x_test)),2)*100\n",
    "cm =confusion_matrix(y_test, nb.predict(x_test))\n",
    "label = ['Good', 'Bad']\n",
    "ConfusionMatrixDisplay(cm, display_labels = label).plot()"
   ]
  },
  {
   "cell_type": "code",
   "execution_count": 102,
   "id": "06866b80-7e6e-48a7-bec5-e74886c7114d",
   "metadata": {},
   "outputs": [
    {
     "data": {
      "text/plain": [
       "70.73"
      ]
     },
     "execution_count": 102,
     "metadata": {},
     "output_type": "execute_result"
    }
   ],
   "source": [
    "#accuracy score math\n",
    "round(((19+10)/(19+3+9+10))*100,2)"
   ]
  },
  {
   "cell_type": "code",
   "execution_count": 103,
   "id": "ce61b84d-628d-4d1f-a8e9-a14600df6216",
   "metadata": {},
   "outputs": [
    {
     "name": "stdout",
     "output_type": "stream",
     "text": [
      "[[ 9 13]\n",
      " [ 7 12]]\n"
     ]
    },
    {
     "data": {
      "text/plain": [
       "<sklearn.metrics._plot.confusion_matrix.ConfusionMatrixDisplay at 0x25f28d15e90>"
      ]
     },
     "execution_count": 103,
     "metadata": {},
     "output_type": "execute_result"
    },
    {
     "data": {
      "image/png": "[encoded data removed]",
      "text/plain": [
       "<Figure size 640x480 with 2 Axes>"
      ]
     },
     "metadata": {},
     "output_type": "display_data"
    }
   ],
   "source": [
    "knn.predict(x_test)\n",
    "round(accuracy_score(y_test, knn.predict(x_test)),2)*100\n",
    "print(confusion_matrix(y_test, knn.predict(x_test)))\n",
    "ConfusionMatrixDisplay(confusion_matrix(y_test, knn.predict(x_test)),display_labels = label).plot()"
   ]
  },
  {
   "cell_type": "code",
   "execution_count": 104,
   "id": "a49c9785-a581-499a-b72f-791ffcb27734",
   "metadata": {},
   "outputs": [
    {
     "name": "stdout",
     "output_type": "stream",
     "text": [
      "[[12 10]\n",
      " [ 5 14]]\n"
     ]
    },
    {
     "data": {
      "text/plain": [
       "<sklearn.metrics._plot.confusion_matrix.ConfusionMatrixDisplay at 0x25f2a3fb550>"
      ]
     },
     "execution_count": 104,
     "metadata": {},
     "output_type": "execute_result"
    },
    {
     "data": {
      "image/png": "[encoded data removed]",
      "text/plain": [
       "<Figure size 640x480 with 2 Axes>"
      ]
     },
     "metadata": {},
     "output_type": "display_data"
    }
   ],
   "source": [
    "scm.predict(x_test)\n",
    "round(accuracy_score(y_test, scm.predict(x_test)),2)*100\n",
    "print(confusion_matrix(y_test, scm.predict(x_test)))\n",
    "ConfusionMatrixDisplay(confusion_matrix(y_test, scm.predict(x_test)),display_labels = label).plot()"
   ]
  },
  {
   "cell_type": "code",
   "execution_count": 105,
   "id": "34601f3e-1188-4140-804b-ee18a229cb0d",
   "metadata": {},
   "outputs": [
    {
     "name": "stdout",
     "output_type": "stream",
     "text": [
      "[[16  6]\n",
      " [12  7]]\n"
     ]
    },
    {
     "data": {
      "text/plain": [
       "<sklearn.metrics._plot.confusion_matrix.ConfusionMatrixDisplay at 0x25f29e82010>"
      ]
     },
     "execution_count": 105,
     "metadata": {},
     "output_type": "execute_result"
    },
    {
     "data": {
      "image/png": "[encoded data removed]",
      "text/plain": [
       "<Figure size 640x480 with 2 Axes>"
      ]
     },
     "metadata": {},
     "output_type": "display_data"
    }
   ],
   "source": [
    "dt.predict(x_test)\n",
    "round(accuracy_score(y_test, dt.predict(x_test)),2)*100\n",
    "print(confusion_matrix(y_test, dt.predict(x_test)))\n",
    "ConfusionMatrixDisplay(confusion_matrix(y_test, dt.predict(x_test)),display_labels = label).plot()"
   ]
  },
  {
   "cell_type": "code",
   "execution_count": 106,
   "id": "47f49d26-13ee-4a96-b159-3c95b1fe8451",
   "metadata": {},
   "outputs": [
    {
     "name": "stdout",
     "output_type": "stream",
     "text": [
      "[[14  8]\n",
      " [ 5 14]]\n"
     ]
    },
    {
     "data": {
      "text/plain": [
       "<sklearn.metrics._plot.confusion_matrix.ConfusionMatrixDisplay at 0x25f2a5c1dd0>"
      ]
     },
     "execution_count": 106,
     "metadata": {},
     "output_type": "execute_result"
    },
    {
     "data": {
      "image/png": "[encoded data removed]",
      "text/plain": [
       "<Figure size 640x480 with 2 Axes>"
      ]
     },
     "metadata": {},
     "output_type": "display_data"
    }
   ],
   "source": [
    "rf.predict(x_test)\n",
    "round(accuracy_score(y_test, rf.predict(x_test)),2)*100\n",
    "print(confusion_matrix(y_test, rf.predict(x_test)))\n",
    "ConfusionMatrixDisplay(confusion_matrix(y_test, rf.predict(x_test)),display_labels = label).plot()"
   ]
  },
  {
   "cell_type": "code",
   "execution_count": 107,
   "id": "5ab3fcfe-819d-4a09-a7a0-f9e9bc75390a",
   "metadata": {
    "scrolled": true
   },
   "outputs": [
    {
     "name": "stdout",
     "output_type": "stream",
     "text": [
      "Note: you may need to restart the kernel to use updated packages.\n"
     ]
    },
    {
     "name": "stderr",
     "output_type": "stream",
     "text": [
      "ERROR: Could not find a version that satisfies the requirement pickle (from versions: none)\n",
      "ERROR: No matching distribution found for pickle\n"
     ]
    }
   ],
   "source": [
    "pip install pickle"
   ]
  },
  {
   "cell_type": "code",
   "execution_count": 108,
   "id": "491604f8-bf7c-45ff-8b25-ac5ad9f4ce1d",
   "metadata": {},
   "outputs": [],
   "source": [
    "import pickle as pk"
   ]
  },
  {
   "cell_type": "code",
   "execution_count": 109,
   "id": "070cc108-22c9-4653-b01b-53fd1bf9d334",
   "metadata": {},
   "outputs": [],
   "source": [
    "filename = 'churn_model.pkl'\n",
    "with open(filename, 'wb') as file:\n",
    "        pk.dump(scm, file)"
   ]
  },
  {
   "cell_type": "code",
   "execution_count": 110,
   "id": "aa7fe9e5-372f-4ca8-a388-c0175a033284",
   "metadata": {},
   "outputs": [],
   "source": [
    "# Load the model from the pickle file\n",
    "#with open('churn_model.pkl', 'rb') as file:\n",
    "   # scm_model = pk.load(file)"
   ]
  },
  {
   "cell_type": "code",
   "execution_count": 111,
   "id": "95c2970b-3884-4927-9e21-930e889270e6",
   "metadata": {},
   "outputs": [],
   "source": [
    "scm_model =pk.load(open('churn_model.pkl','rb'))"
   ]
  },
  {
   "cell_type": "code",
   "execution_count": 112,
   "id": "dbc01028-9cfa-4491-9b0d-6b3b40516f7c",
   "metadata": {},
   "outputs": [
    {
     "data": {
      "text/html": [
       "<style>#sk-container-id-1 {color: black;background-color: white;}#sk-container-id-1 pre{padding: 0;}#sk-container-id-1 div.sk-toggleable {background-color: white;}#sk-container-id-1 label.sk-toggleable__label {cursor: pointer;display: block;width: 100%;margin-bottom: 0;padding: 0.3em;box-sizing: border-box;text-align: center;}#sk-container-id-1 label.sk-toggleable__label-arrow:before {content: \"▸\";float: left;margin-right: 0.25em;color: #696969;}#sk-container-id-1 label.sk-toggleable__label-arrow:hover:before {color: black;}#sk-container-id-1 div.sk-estimator:hover label.sk-toggleable__label-arrow:before {color: black;}#sk-container-id-1 div.sk-toggleable__content {max-height: 0;max-width: 0;overflow: hidden;text-align: left;background-color: #f0f8ff;}#sk-container-id-1 div.sk-toggleable__content pre {margin: 0.2em;color: black;border-radius: 0.25em;background-color: #f0f8ff;}#sk-container-id-1 input.sk-toggleable__control:checked~div.sk-toggleable__content {max-height: 200px;max-width: 100%;overflow: auto;}#sk-container-id-1 input.sk-toggleable__control:checked~label.sk-toggleable__label-arrow:before {content: \"▾\";}#sk-container-id-1 div.sk-estimator input.sk-toggleable__control:checked~label.sk-toggleable__label {background-color: #d4ebff;}#sk-container-id-1 div.sk-label input.sk-toggleable__control:checked~label.sk-toggleable__label {background-color: #d4ebff;}#sk-container-id-1 input.sk-hidden--visually {border: 0;clip: rect(1px 1px 1px 1px);clip: rect(1px, 1px, 1px, 1px);height: 1px;margin: -1px;overflow: hidden;padding: 0;position: absolute;width: 1px;}#sk-container-id-1 div.sk-estimator {font-family: monospace;background-color: #f0f8ff;border: 1px dotted black;border-radius: 0.25em;box-sizing: border-box;margin-bottom: 0.5em;}#sk-container-id-1 div.sk-estimator:hover {background-color: #d4ebff;}#sk-container-id-1 div.sk-parallel-item::after {content: \"\";width: 100%;border-bottom: 1px solid gray;flex-grow: 1;}#sk-container-id-1 div.sk-label:hover label.sk-toggleable__label {background-color: #d4ebff;}#sk-container-id-1 div.sk-serial::before {content: \"\";position: absolute;border-left: 1px solid gray;box-sizing: border-box;top: 0;bottom: 0;left: 50%;z-index: 0;}#sk-container-id-1 div.sk-serial {display: flex;flex-direction: column;align-items: center;background-color: white;padding-right: 0.2em;padding-left: 0.2em;position: relative;}#sk-container-id-1 div.sk-item {position: relative;z-index: 1;}#sk-container-id-1 div.sk-parallel {display: flex;align-items: stretch;justify-content: center;background-color: white;position: relative;}#sk-container-id-1 div.sk-item::before, #sk-container-id-1 div.sk-parallel-item::before {content: \"\";position: absolute;border-left: 1px solid gray;box-sizing: border-box;top: 0;bottom: 0;left: 50%;z-index: -1;}#sk-container-id-1 div.sk-parallel-item {display: flex;flex-direction: column;z-index: 1;position: relative;background-color: white;}#sk-container-id-1 div.sk-parallel-item:first-child::after {align-self: flex-end;width: 50%;}#sk-container-id-1 div.sk-parallel-item:last-child::after {align-self: flex-start;width: 50%;}#sk-container-id-1 div.sk-parallel-item:only-child::after {width: 0;}#sk-container-id-1 div.sk-dashed-wrapped {border: 1px dashed gray;margin: 0 0.4em 0.5em 0.4em;box-sizing: border-box;padding-bottom: 0.4em;background-color: white;}#sk-container-id-1 div.sk-label label {font-family: monospace;font-weight: bold;display: inline-block;line-height: 1.2em;}#sk-container-id-1 div.sk-label-container {text-align: center;}#sk-container-id-1 div.sk-container {/* jupyter's `normalize.less` sets `[hidden] { display: none; }` but bootstrap.min.css set `[hidden] { display: none !important; }` so we also need the `!important` here to be able to override the default hidden behavior on the sphinx rendered scikit-learn.org. See: https://github.com/scikit-learn/scikit-learn/issues/21755 */display: inline-block !important;position: relative;}#sk-container-id-1 div.sk-text-repr-fallback {display: none;}</style><div id=\"sk-container-id-1\" class=\"sk-top-container\"><div class=\"sk-text-repr-fallback\"><pre>SVC()</pre><b>In a Jupyter environment, please rerun this cell to show the HTML representation or trust the notebook. <br />On GitHub, the HTML representation is unable to render, please try loading this page with nbviewer.org.</b></div><div class=\"sk-container\" hidden><div class=\"sk-item\"><div class=\"sk-estimator sk-toggleable\"><input class=\"sk-toggleable__control sk-hidden--visually\" id=\"sk-estimator-id-1\" type=\"checkbox\" checked><label for=\"sk-estimator-id-1\" class=\"sk-toggleable__label sk-toggleable__label-arrow\">SVC</label><div class=\"sk-toggleable__content\"><pre>SVC()</pre></div></div></div></div></div>"
      ],
      "text/plain": [
       "SVC()"
      ]
     },
     "execution_count": 112,
     "metadata": {},
     "output_type": "execute_result"
    }
   ],
   "source": [
    "scm_model"
   ]
  },
  {
   "cell_type": "code",
   "execution_count": 113,
   "id": "fe5bafa0-b964-445b-8592-7bfbfa46f04d",
   "metadata": {},
   "outputs": [
    {
     "data": {
      "text/html": [
       "<div>\n",
       "<style scoped>\n",
       "    .dataframe tbody tr th:only-of-type {\n",
       "        vertical-align: middle;\n",
       "    }\n",
       "\n",
       "    .dataframe tbody tr th {\n",
       "        vertical-align: top;\n",
       "    }\n",
       "\n",
       "    .dataframe thead th {\n",
       "        text-align: right;\n",
       "    }\n",
       "</style>\n",
       "<table border=\"1\" class=\"dataframe\">\n",
       "  <thead>\n",
       "    <tr style=\"text-align: right;\">\n",
       "      <th></th>\n",
       "      <th>Staff</th>\n",
       "      <th>Floor Space</th>\n",
       "      <th>Window</th>\n",
       "      <th>Demographic score</th>\n",
       "      <th>Location</th>\n",
       "      <th>Clearance space</th>\n",
       "      <th>Competition number</th>\n",
       "      <th>Competition score</th>\n",
       "      <th>No</th>\n",
       "      <th>Yes</th>\n",
       "      <th>France</th>\n",
       "      <th>UK</th>\n",
       "    </tr>\n",
       "  </thead>\n",
       "  <tbody>\n",
       "    <tr>\n",
       "      <th>0</th>\n",
       "      <td>9</td>\n",
       "      <td>18526</td>\n",
       "      <td>121</td>\n",
       "      <td>10</td>\n",
       "      <td>1</td>\n",
       "      <td>238</td>\n",
       "      <td>16</td>\n",
       "      <td>16</td>\n",
       "      <td>0</td>\n",
       "      <td>1</td>\n",
       "      <td>0</td>\n",
       "      <td>1</td>\n",
       "    </tr>\n",
       "    <tr>\n",
       "      <th>1</th>\n",
       "      <td>8</td>\n",
       "      <td>18569</td>\n",
       "      <td>121</td>\n",
       "      <td>11</td>\n",
       "      <td>2</td>\n",
       "      <td>384</td>\n",
       "      <td>15</td>\n",
       "      <td>19</td>\n",
       "      <td>0</td>\n",
       "      <td>1</td>\n",
       "      <td>0</td>\n",
       "      <td>1</td>\n",
       "    </tr>\n",
       "    <tr>\n",
       "      <th>2</th>\n",
       "      <td>-2</td>\n",
       "      <td>12288</td>\n",
       "      <td>105</td>\n",
       "      <td>12</td>\n",
       "      <td>1</td>\n",
       "      <td>219</td>\n",
       "      <td>13</td>\n",
       "      <td>18</td>\n",
       "      <td>1</td>\n",
       "      <td>0</td>\n",
       "      <td>0</td>\n",
       "      <td>1</td>\n",
       "    </tr>\n",
       "    <tr>\n",
       "      <th>3</th>\n",
       "      <td>7</td>\n",
       "      <td>17092</td>\n",
       "      <td>117</td>\n",
       "      <td>14</td>\n",
       "      <td>0</td>\n",
       "      <td>261</td>\n",
       "      <td>15</td>\n",
       "      <td>12</td>\n",
       "      <td>1</td>\n",
       "      <td>0</td>\n",
       "      <td>0</td>\n",
       "      <td>1</td>\n",
       "    </tr>\n",
       "    <tr>\n",
       "      <th>4</th>\n",
       "      <td>7</td>\n",
       "      <td>11307</td>\n",
       "      <td>103</td>\n",
       "      <td>18</td>\n",
       "      <td>1</td>\n",
       "      <td>200</td>\n",
       "      <td>19</td>\n",
       "      <td>13</td>\n",
       "      <td>1</td>\n",
       "      <td>0</td>\n",
       "      <td>0</td>\n",
       "      <td>1</td>\n",
       "    </tr>\n",
       "    <tr>\n",
       "      <th>...</th>\n",
       "      <td>...</td>\n",
       "      <td>...</td>\n",
       "      <td>...</td>\n",
       "      <td>...</td>\n",
       "      <td>...</td>\n",
       "      <td>...</td>\n",
       "      <td>...</td>\n",
       "      <td>...</td>\n",
       "      <td>...</td>\n",
       "      <td>...</td>\n",
       "      <td>...</td>\n",
       "      <td>...</td>\n",
       "    </tr>\n",
       "    <tr>\n",
       "      <th>131</th>\n",
       "      <td>7</td>\n",
       "      <td>14120</td>\n",
       "      <td>110</td>\n",
       "      <td>13</td>\n",
       "      <td>1</td>\n",
       "      <td>202</td>\n",
       "      <td>18</td>\n",
       "      <td>14</td>\n",
       "      <td>0</td>\n",
       "      <td>1</td>\n",
       "      <td>0</td>\n",
       "      <td>1</td>\n",
       "    </tr>\n",
       "    <tr>\n",
       "      <th>132</th>\n",
       "      <td>6</td>\n",
       "      <td>11205</td>\n",
       "      <td>103</td>\n",
       "      <td>15</td>\n",
       "      <td>2</td>\n",
       "      <td>203</td>\n",
       "      <td>13</td>\n",
       "      <td>18</td>\n",
       "      <td>1</td>\n",
       "      <td>0</td>\n",
       "      <td>0</td>\n",
       "      <td>1</td>\n",
       "    </tr>\n",
       "    <tr>\n",
       "      <th>133</th>\n",
       "      <td>7</td>\n",
       "      <td>16190</td>\n",
       "      <td>115</td>\n",
       "      <td>19</td>\n",
       "      <td>2</td>\n",
       "      <td>341</td>\n",
       "      <td>18</td>\n",
       "      <td>18</td>\n",
       "      <td>1</td>\n",
       "      <td>0</td>\n",
       "      <td>0</td>\n",
       "      <td>1</td>\n",
       "    </tr>\n",
       "    <tr>\n",
       "      <th>134</th>\n",
       "      <td>6</td>\n",
       "      <td>15516</td>\n",
       "      <td>113</td>\n",
       "      <td>17</td>\n",
       "      <td>0</td>\n",
       "      <td>261</td>\n",
       "      <td>14</td>\n",
       "      <td>10</td>\n",
       "      <td>1</td>\n",
       "      <td>0</td>\n",
       "      <td>0</td>\n",
       "      <td>1</td>\n",
       "    </tr>\n",
       "    <tr>\n",
       "      <th>135</th>\n",
       "      <td>9</td>\n",
       "      <td>14468</td>\n",
       "      <td>111</td>\n",
       "      <td>18</td>\n",
       "      <td>0</td>\n",
       "      <td>276</td>\n",
       "      <td>18</td>\n",
       "      <td>13</td>\n",
       "      <td>0</td>\n",
       "      <td>1</td>\n",
       "      <td>0</td>\n",
       "      <td>1</td>\n",
       "    </tr>\n",
       "  </tbody>\n",
       "</table>\n",
       "<p>136 rows × 12 columns</p>\n",
       "</div>"
      ],
      "text/plain": [
       "     Staff  Floor Space  Window  Demographic score  Location  Clearance space  \\\n",
       "0        9        18526     121                 10         1              238   \n",
       "1        8        18569     121                 11         2              384   \n",
       "2       -2        12288     105                 12         1              219   \n",
       "3        7        17092     117                 14         0              261   \n",
       "4        7        11307     103                 18         1              200   \n",
       "..     ...          ...     ...                ...       ...              ...   \n",
       "131      7        14120     110                 13         1              202   \n",
       "132      6        11205     103                 15         2              203   \n",
       "133      7        16190     115                 19         2              341   \n",
       "134      6        15516     113                 17         0              261   \n",
       "135      9        14468     111                 18         0              276   \n",
       "\n",
       "     Competition number  Competition score  No  Yes  France  UK  \n",
       "0                    16                 16   0    1       0   1  \n",
       "1                    15                 19   0    1       0   1  \n",
       "2                    13                 18   1    0       0   1  \n",
       "3                    15                 12   1    0       0   1  \n",
       "4                    19                 13   1    0       0   1  \n",
       "..                  ...                ...  ..  ...     ...  ..  \n",
       "131                  18                 14   0    1       0   1  \n",
       "132                  13                 18   1    0       0   1  \n",
       "133                  18                 18   1    0       0   1  \n",
       "134                  14                 10   1    0       0   1  \n",
       "135                  18                 13   0    1       0   1  \n",
       "\n",
       "[136 rows x 12 columns]"
      ]
     },
     "execution_count": 113,
     "metadata": {},
     "output_type": "execute_result"
    }
   ],
   "source": [
    "x"
   ]
  },
  {
   "cell_type": "code",
   "execution_count": 114,
   "id": "7bce0ccc-f342-458c-bbf9-7b1542ed4169",
   "metadata": {},
   "outputs": [
    {
     "data": {
      "text/plain": [
       "array([[-0.07720172,  1.27266567,  1.30576403, ...,  0.62269985,\n",
       "        -0.12216944,  0.12216944],\n",
       "       [-0.09493725,  1.28829278,  1.30576403, ...,  0.62269985,\n",
       "        -0.12216944,  0.12216944],\n",
       "       [-0.27229254, -0.99435465, -1.02702951, ..., -1.60591014,\n",
       "        -0.12216944,  0.12216944],\n",
       "       ...,\n",
       "       [-0.11267278,  0.42371417,  0.43096645, ..., -1.60591014,\n",
       "        -0.12216944,  0.12216944],\n",
       "       [-0.13040831,  0.1787684 ,  0.13936726, ..., -1.60591014,\n",
       "        -0.12216944,  0.12216944],\n",
       "       [-0.07720172, -0.20209683, -0.15223193, ...,  0.62269985,\n",
       "        -0.12216944,  0.12216944]])"
      ]
     },
     "execution_count": 114,
     "metadata": {},
     "output_type": "execute_result"
    }
   ],
   "source": [
    "from sklearn.preprocessing import StandardScaler\n",
    "sc = StandardScaler()\n",
    "x_scale = sc.fit_transform(x)\n",
    "x_scale"
   ]
  },
  {
   "cell_type": "code",
   "execution_count": 115,
   "id": "f20aec10-bd55-458e-a2d5-c41d34c33235",
   "metadata": {},
   "outputs": [
    {
     "data": {
      "text/plain": [
       "numpy.ndarray"
      ]
     },
     "execution_count": 115,
     "metadata": {},
     "output_type": "execute_result"
    }
   ],
   "source": [
    "type(x_scale)"
   ]
  },
  {
   "cell_type": "code",
   "execution_count": 116,
   "id": "eb1c5a15-7852-480a-b0d3-4e3c88fe8360",
   "metadata": {},
   "outputs": [
    {
     "data": {
      "text/html": [
       "<div>\n",
       "<style scoped>\n",
       "    .dataframe tbody tr th:only-of-type {\n",
       "        vertical-align: middle;\n",
       "    }\n",
       "\n",
       "    .dataframe tbody tr th {\n",
       "        vertical-align: top;\n",
       "    }\n",
       "\n",
       "    .dataframe thead tr th {\n",
       "        text-align: left;\n",
       "    }\n",
       "</style>\n",
       "<table border=\"1\" class=\"dataframe\">\n",
       "  <thead>\n",
       "    <tr>\n",
       "      <th></th>\n",
       "      <th>Staff</th>\n",
       "      <th>Floor Space</th>\n",
       "      <th>Window</th>\n",
       "      <th>Demographic score</th>\n",
       "      <th>Location</th>\n",
       "      <th>Clearance space</th>\n",
       "      <th>Competition number</th>\n",
       "      <th>Competition score</th>\n",
       "      <th>No</th>\n",
       "      <th>Yes</th>\n",
       "      <th>France</th>\n",
       "      <th>UK</th>\n",
       "    </tr>\n",
       "  </thead>\n",
       "  <tbody>\n",
       "    <tr>\n",
       "      <th>0</th>\n",
       "      <td>-0.077202</td>\n",
       "      <td>1.272666</td>\n",
       "      <td>1.305764</td>\n",
       "      <td>-1.558199</td>\n",
       "      <td>-0.123455</td>\n",
       "      <td>-0.473990</td>\n",
       "      <td>0.532708</td>\n",
       "      <td>0.404560</td>\n",
       "      <td>-0.62270</td>\n",
       "      <td>0.62270</td>\n",
       "      <td>-0.122169</td>\n",
       "      <td>0.122169</td>\n",
       "    </tr>\n",
       "    <tr>\n",
       "      <th>1</th>\n",
       "      <td>-0.094937</td>\n",
       "      <td>1.288293</td>\n",
       "      <td>1.305764</td>\n",
       "      <td>-1.209080</td>\n",
       "      <td>1.075819</td>\n",
       "      <td>2.359104</td>\n",
       "      <td>0.186065</td>\n",
       "      <td>1.423453</td>\n",
       "      <td>-0.62270</td>\n",
       "      <td>0.62270</td>\n",
       "      <td>-0.122169</td>\n",
       "      <td>0.122169</td>\n",
       "    </tr>\n",
       "    <tr>\n",
       "      <th>2</th>\n",
       "      <td>-0.272293</td>\n",
       "      <td>-0.994355</td>\n",
       "      <td>-1.027030</td>\n",
       "      <td>-0.859962</td>\n",
       "      <td>-0.123455</td>\n",
       "      <td>-0.842680</td>\n",
       "      <td>-0.507219</td>\n",
       "      <td>1.083822</td>\n",
       "      <td>1.60591</td>\n",
       "      <td>-1.60591</td>\n",
       "      <td>-0.122169</td>\n",
       "      <td>0.122169</td>\n",
       "    </tr>\n",
       "    <tr>\n",
       "      <th>3</th>\n",
       "      <td>-0.112673</td>\n",
       "      <td>0.751520</td>\n",
       "      <td>0.722566</td>\n",
       "      <td>-0.161724</td>\n",
       "      <td>-1.322729</td>\n",
       "      <td>-0.027680</td>\n",
       "      <td>0.186065</td>\n",
       "      <td>-0.953963</td>\n",
       "      <td>1.60591</td>\n",
       "      <td>-1.60591</td>\n",
       "      <td>-0.122169</td>\n",
       "      <td>0.122169</td>\n",
       "    </tr>\n",
       "    <tr>\n",
       "      <th>4</th>\n",
       "      <td>-0.112673</td>\n",
       "      <td>-1.350871</td>\n",
       "      <td>-1.318629</td>\n",
       "      <td>1.234751</td>\n",
       "      <td>-0.123455</td>\n",
       "      <td>-1.211370</td>\n",
       "      <td>1.572634</td>\n",
       "      <td>-0.614332</td>\n",
       "      <td>1.60591</td>\n",
       "      <td>-1.60591</td>\n",
       "      <td>-0.122169</td>\n",
       "      <td>0.122169</td>\n",
       "    </tr>\n",
       "    <tr>\n",
       "      <th>...</th>\n",
       "      <td>...</td>\n",
       "      <td>...</td>\n",
       "      <td>...</td>\n",
       "      <td>...</td>\n",
       "      <td>...</td>\n",
       "      <td>...</td>\n",
       "      <td>...</td>\n",
       "      <td>...</td>\n",
       "      <td>...</td>\n",
       "      <td>...</td>\n",
       "      <td>...</td>\n",
       "      <td>...</td>\n",
       "    </tr>\n",
       "    <tr>\n",
       "      <th>131</th>\n",
       "      <td>-0.112673</td>\n",
       "      <td>-0.328567</td>\n",
       "      <td>-0.298032</td>\n",
       "      <td>-0.510843</td>\n",
       "      <td>-0.123455</td>\n",
       "      <td>-1.172561</td>\n",
       "      <td>1.225992</td>\n",
       "      <td>-0.274701</td>\n",
       "      <td>-0.62270</td>\n",
       "      <td>0.62270</td>\n",
       "      <td>-0.122169</td>\n",
       "      <td>0.122169</td>\n",
       "    </tr>\n",
       "    <tr>\n",
       "      <th>132</th>\n",
       "      <td>-0.130408</td>\n",
       "      <td>-1.387940</td>\n",
       "      <td>-1.318629</td>\n",
       "      <td>0.187395</td>\n",
       "      <td>1.075819</td>\n",
       "      <td>-1.153156</td>\n",
       "      <td>-0.507219</td>\n",
       "      <td>1.083822</td>\n",
       "      <td>1.60591</td>\n",
       "      <td>-1.60591</td>\n",
       "      <td>-0.122169</td>\n",
       "      <td>0.122169</td>\n",
       "    </tr>\n",
       "    <tr>\n",
       "      <th>133</th>\n",
       "      <td>-0.112673</td>\n",
       "      <td>0.423714</td>\n",
       "      <td>0.430966</td>\n",
       "      <td>1.583869</td>\n",
       "      <td>1.075819</td>\n",
       "      <td>1.524700</td>\n",
       "      <td>1.225992</td>\n",
       "      <td>1.083822</td>\n",
       "      <td>1.60591</td>\n",
       "      <td>-1.60591</td>\n",
       "      <td>-0.122169</td>\n",
       "      <td>0.122169</td>\n",
       "    </tr>\n",
       "    <tr>\n",
       "      <th>134</th>\n",
       "      <td>-0.130408</td>\n",
       "      <td>0.178768</td>\n",
       "      <td>0.139367</td>\n",
       "      <td>0.885632</td>\n",
       "      <td>-1.322729</td>\n",
       "      <td>-0.027680</td>\n",
       "      <td>-0.160577</td>\n",
       "      <td>-1.633225</td>\n",
       "      <td>1.60591</td>\n",
       "      <td>-1.60591</td>\n",
       "      <td>-0.122169</td>\n",
       "      <td>0.122169</td>\n",
       "    </tr>\n",
       "    <tr>\n",
       "      <th>135</th>\n",
       "      <td>-0.077202</td>\n",
       "      <td>-0.202097</td>\n",
       "      <td>-0.152232</td>\n",
       "      <td>1.234751</td>\n",
       "      <td>-1.322729</td>\n",
       "      <td>0.263391</td>\n",
       "      <td>1.225992</td>\n",
       "      <td>-0.614332</td>\n",
       "      <td>-0.62270</td>\n",
       "      <td>0.62270</td>\n",
       "      <td>-0.122169</td>\n",
       "      <td>0.122169</td>\n",
       "    </tr>\n",
       "  </tbody>\n",
       "</table>\n",
       "<p>136 rows × 12 columns</p>\n",
       "</div>"
      ],
      "text/plain": [
       "        Staff Floor Space    Window Demographic score  Location  \\\n",
       "0   -0.077202    1.272666  1.305764         -1.558199 -0.123455   \n",
       "1   -0.094937    1.288293  1.305764         -1.209080  1.075819   \n",
       "2   -0.272293   -0.994355 -1.027030         -0.859962 -0.123455   \n",
       "3   -0.112673    0.751520  0.722566         -0.161724 -1.322729   \n",
       "4   -0.112673   -1.350871 -1.318629          1.234751 -0.123455   \n",
       "..        ...         ...       ...               ...       ...   \n",
       "131 -0.112673   -0.328567 -0.298032         -0.510843 -0.123455   \n",
       "132 -0.130408   -1.387940 -1.318629          0.187395  1.075819   \n",
       "133 -0.112673    0.423714  0.430966          1.583869  1.075819   \n",
       "134 -0.130408    0.178768  0.139367          0.885632 -1.322729   \n",
       "135 -0.077202   -0.202097 -0.152232          1.234751 -1.322729   \n",
       "\n",
       "    Clearance space Competition number Competition score       No      Yes  \\\n",
       "0         -0.473990           0.532708          0.404560 -0.62270  0.62270   \n",
       "1          2.359104           0.186065          1.423453 -0.62270  0.62270   \n",
       "2         -0.842680          -0.507219          1.083822  1.60591 -1.60591   \n",
       "3         -0.027680           0.186065         -0.953963  1.60591 -1.60591   \n",
       "4         -1.211370           1.572634         -0.614332  1.60591 -1.60591   \n",
       "..              ...                ...               ...      ...      ...   \n",
       "131       -1.172561           1.225992         -0.274701 -0.62270  0.62270   \n",
       "132       -1.153156          -0.507219          1.083822  1.60591 -1.60591   \n",
       "133        1.524700           1.225992          1.083822  1.60591 -1.60591   \n",
       "134       -0.027680          -0.160577         -1.633225  1.60591 -1.60591   \n",
       "135        0.263391           1.225992         -0.614332 -0.62270  0.62270   \n",
       "\n",
       "       France        UK  \n",
       "0   -0.122169  0.122169  \n",
       "1   -0.122169  0.122169  \n",
       "2   -0.122169  0.122169  \n",
       "3   -0.122169  0.122169  \n",
       "4   -0.122169  0.122169  \n",
       "..        ...       ...  \n",
       "131 -0.122169  0.122169  \n",
       "132 -0.122169  0.122169  \n",
       "133 -0.122169  0.122169  \n",
       "134 -0.122169  0.122169  \n",
       "135 -0.122169  0.122169  \n",
       "\n",
       "[136 rows x 12 columns]"
      ]
     },
     "execution_count": 116,
     "metadata": {},
     "output_type": "execute_result"
    }
   ],
   "source": [
    "#convert to dataframe\n",
    "x_scale =pd.DataFrame(x_scale,columns = [x.columns])\n",
    "x_scale"
   ]
  },
  {
   "cell_type": "code",
   "execution_count": 117,
   "id": "8e7000ed-eaaf-4784-8345-47422d84e36b",
   "metadata": {},
   "outputs": [],
   "source": [
    "from sklearn.model_selection import train_test_split\n",
    "x_train_scale, x_test_scale, y_train_scale,y_test_scale = train_test_split(x_scale,y, train_size = 0.7, shuffle = True, random_state = 41)"
   ]
  },
  {
   "cell_type": "code",
   "execution_count": 118,
   "id": "883bbeb5-d532-4490-ab23-5cd743328c2d",
   "metadata": {},
   "outputs": [
    {
     "data": {
      "text/plain": [
       "78.95"
      ]
     },
     "execution_count": 118,
     "metadata": {},
     "output_type": "execute_result"
    }
   ],
   "source": [
    "from sklearn.neighbors import KNeighborsClassifier\n",
    "knn = KNeighborsClassifier(n_neighbors=2)\n",
    "knn.fit(x_train_scale, y_train_scale)\n",
    "round(knn.score(x_train_scale,y_train_scale)*100,2)"
   ]
  },
  {
   "cell_type": "code",
   "execution_count": 119,
   "id": "28e57ba9-8a75-400f-8336-6779c9fdae67",
   "metadata": {},
   "outputs": [
    {
     "data": {
      "text/plain": [
       "array([1, 1, 1, 1, 1, 1, 0, 0, 1, 0, 1, 0, 0, 0, 1, 1, 1, 0, 1, 0, 0, 1,\n",
       "       0, 0, 0, 0, 1, 1, 0, 0, 0, 0, 0, 0, 0, 0, 0, 1, 0, 0, 0])"
      ]
     },
     "execution_count": 119,
     "metadata": {},
     "output_type": "execute_result"
    }
   ],
   "source": [
    "knn.predict(x_test_scale)"
   ]
  },
  {
   "cell_type": "code",
   "execution_count": 120,
   "id": "3eafbae9-5785-4ab4-bf9c-f8f7b0635f27",
   "metadata": {},
   "outputs": [
    {
     "data": {
      "text/plain": [
       "68.29"
      ]
     },
     "execution_count": 120,
     "metadata": {},
     "output_type": "execute_result"
    }
   ],
   "source": [
    "round(accuracy_score(y_test_scale,knn.predict(x_test_scale))*100,2)"
   ]
  },
  {
   "cell_type": "code",
   "execution_count": 121,
   "id": "d595f372-0298-42c0-b185-db520dd2b8c9",
   "metadata": {},
   "outputs": [
    {
     "data": {
      "text/plain": [
       "array([[17,  5],\n",
       "       [ 8, 11]], dtype=int64)"
      ]
     },
     "execution_count": 121,
     "metadata": {},
     "output_type": "execute_result"
    }
   ],
   "source": [
    "confusion_matrix(y_test_scale,knn.predict(x_test_scale))"
   ]
  },
  {
   "cell_type": "code",
   "execution_count": 122,
   "id": "d334f2ba-ac34-4f6f-b8ce-bd4aa6a6bff0",
   "metadata": {},
   "outputs": [],
   "source": [
    "from sklearn.naive_bayes import GaussianNB\n",
    "from sklearn.tree import DecisionTreeClassifier\n",
    "from sklearn.svm import SVC\n",
    "from sklearn.ensemble import RandomForestClassifier\n",
    "\n",
    "\n",
    "nb = GaussianNB()\n",
    "#scm = SVC(C=0.6)\n",
    "#dt = DecisionTreeClassifier(min_samples_leaf=10)\n",
    "rf = RandomForestClassifier()"
   ]
  },
  {
   "cell_type": "code",
   "execution_count": 123,
   "id": "ae89b7c7-6be9-428b-9ebb-0b8397997f30",
   "metadata": {},
   "outputs": [
    {
     "data": {
      "text/plain": [
       "54.74"
      ]
     },
     "execution_count": 123,
     "metadata": {},
     "output_type": "execute_result"
    }
   ],
   "source": [
    "#nb = GaussianNB(var_smoothing= 1e-09)\n",
    "nb.fit(x_train_scale, y_train_scale)\n",
    "round(nb.score(x_train_scale,y_train_scale)*100,2)"
   ]
  },
  {
   "cell_type": "code",
   "execution_count": 124,
   "id": "2a5bdbb3-9df5-4338-933f-5db69b1d503d",
   "metadata": {},
   "outputs": [
    {
     "data": {
      "text/plain": [
       "array([1, 1, 1, 1, 1, 1, 1, 1, 1, 1, 1, 1, 1, 1, 1, 1, 1, 1, 1, 1, 1, 1,\n",
       "       1, 1, 1, 1, 1, 1, 1, 1, 1, 1, 1, 1, 1, 1, 1, 1, 1, 1, 1])"
      ]
     },
     "execution_count": 124,
     "metadata": {},
     "output_type": "execute_result"
    }
   ],
   "source": [
    "nb.predict(x_test_scale)"
   ]
  },
  {
   "cell_type": "code",
   "execution_count": null,
   "id": "ccb5a22c-e176-4aba-a56b-22204010317b",
   "metadata": {},
   "outputs": [],
   "source": [
    "\n",
    "accuracy_score(y_test_scale,nb.predict(x_test_scale))"
   ]
  },
  {
   "cell_type": "code",
   "execution_count": null,
   "id": "4947aaf4-7fea-45df-ae0c-f09af85c3a68",
   "metadata": {},
   "outputs": [],
   "source": [
    "confusion_matrix(y_test_scale,nb.predict(x_test_scale))"
   ]
  },
  {
   "cell_type": "code",
   "execution_count": null,
   "id": "414c6e6f-4cc7-485b-809c-cabad152e9ff",
   "metadata": {},
   "outputs": [],
   "source": [
    "scm = SVC()\n",
    "scm.fit(x_train_scale, y_train_scale)\n",
    "round(scm.score(x_train_scale,y_train_scale)*100,2)"
   ]
  },
  {
   "cell_type": "code",
   "execution_count": null,
   "id": "29db547e-95b8-44e2-bc5f-1d8190126853",
   "metadata": {},
   "outputs": [],
   "source": [
    "scm.predict(x_test_scale)"
   ]
  },
  {
   "cell_type": "code",
   "execution_count": null,
   "id": "dd21f386-1dfe-44fa-bda1-da7e506f9cd4",
   "metadata": {},
   "outputs": [],
   "source": [
    "accuracy_score(y_test_scale,scm.predict(x_test_scale))"
   ]
  },
  {
   "cell_type": "code",
   "execution_count": null,
   "id": "37f7f540-728c-4c1a-b518-51d496b4ab10",
   "metadata": {},
   "outputs": [],
   "source": [
    "confusion_matrix(y_test_scale,scm.predict(x_test_scale))"
   ]
  },
  {
   "cell_type": "code",
   "execution_count": null,
   "id": "fb2f1b80-db3d-4767-96a4-4f92117b6351",
   "metadata": {},
   "outputs": [],
   "source": [
    "dt =DecisionTreeClassifier()\n",
    "dt.fit(x_train_scale, y_train_scale)\n",
    "round(dt.score(x_train_scale,y_train_scale)*100,2)"
   ]
  },
  {
   "cell_type": "code",
   "execution_count": null,
   "id": "d4e8cb73-1191-4701-8281-8a18aa63419a",
   "metadata": {},
   "outputs": [],
   "source": [
    "dt.predict(x_test_scale)"
   ]
  },
  {
   "cell_type": "code",
   "execution_count": null,
   "id": "0efa25f3-8140-4f0b-a6ff-fcccdb6e0394",
   "metadata": {},
   "outputs": [],
   "source": [
    "accuracy_score(y_test_scale,dt.predict(x_test_scale))"
   ]
  },
  {
   "cell_type": "code",
   "execution_count": null,
   "id": "fd95a063-a2d1-4e9f-8377-048165a9d8a1",
   "metadata": {},
   "outputs": [],
   "source": [
    "confusion_matrix(y_test_scale,dt.predict(x_test_scale))"
   ]
  },
  {
   "cell_type": "code",
   "execution_count": null,
   "id": "507a99a0-5930-40c1-a92c-2041f8042ee3",
   "metadata": {},
   "outputs": [],
   "source": [
    "rf = RandomForestClassifier()\n",
    "rf.fit(x_train_scale, y_train_scale)\n",
    "round(rf.score(x_train_scale,y_train_scale)*100,2)"
   ]
  },
  {
   "cell_type": "code",
   "execution_count": null,
   "id": "517d3ee5-0eb2-4038-943b-cc085e324616",
   "metadata": {},
   "outputs": [],
   "source": [
    "rf.predict(x_test_scale)"
   ]
  },
  {
   "cell_type": "code",
   "execution_count": null,
   "id": "1256a30e-7254-4ae0-8c8c-778b320ce316",
   "metadata": {},
   "outputs": [],
   "source": [
    "accuracy_score(y_test_scale,rf.predict(x_test_scale))"
   ]
  },
  {
   "cell_type": "code",
   "execution_count": null,
   "id": "10bf4a91-c6c7-4512-a642-3054d2ad57c8",
   "metadata": {},
   "outputs": [],
   "source": [
    "confusion_matrix(y_test_scale,rf.predict(x_test_scale))"
   ]
  },
  {
   "cell_type": "code",
   "execution_count": null,
   "id": "8d48f735-6466-4266-9e57-5d26d9302015",
   "metadata": {},
   "outputs": [],
   "source": [
    "from sklearn.decomposition import PCA# shrink from 12 cols to 6 cols\n",
    "pc = PCA(n_components = 6)\n",
    "pc.fit_transform(x_scale)"
   ]
  },
  {
   "cell_type": "code",
   "execution_count": null,
   "id": "def9257a-e321-4472-81a8-09249ca8f693",
   "metadata": {},
   "outputs": [],
   "source": [
    "x_scale_pca =pd.DataFrame(pc.fit_transform(x_scale))\n",
    "x_scale_pca"
   ]
  },
  {
   "cell_type": "code",
   "execution_count": null,
   "id": "bafc517e-021f-4d80-824f-f78f93f885dc",
   "metadata": {},
   "outputs": [],
   "source": [
    "from sklearn.model_selection import train_test_split\n",
    "x_train_scale_pca, x_test_scale_pca, y_train_scale_pca,y_test_scale_pca = train_test_split(x_scale_pca,y, train_size = 0.7, shuffle = True, random_state = 41)"
   ]
  },
  {
   "cell_type": "code",
   "execution_count": null,
   "id": "ae5926c7-2c1b-44f0-a713-ec0001241808",
   "metadata": {},
   "outputs": [],
   "source": [
    "#from sklearn.model_selection import train_test_split\n",
    "#x_train_scal_pca,x_test_scale_pca,y_train_scale_pca,y_test_scale_pca = train_tet_split(x_scale_pca,y,train_size = 0.7,shuffle = True, random_state = 42))"
   ]
  },
  {
   "cell_type": "code",
   "execution_count": null,
   "id": "df8fa870-ffb0-49e9-ab3f-0a0de11a57ec",
   "metadata": {},
   "outputs": [],
   "source": [
    "nb.fit(x_train_scale_pca,y_train_scale_pca)\n",
    "nb.score(x_train_scale_pca,y_train_scale_pca)"
   ]
  },
  {
   "cell_type": "code",
   "execution_count": null,
   "id": "761537ea-bc7a-455e-927f-8c6f29d6c3ec",
   "metadata": {},
   "outputs": [],
   "source": [
    "nb.predict(x_test_scale_pca)"
   ]
  },
  {
   "cell_type": "code",
   "execution_count": null,
   "id": "0bf7d0e1-c7b3-4902-8bd1-5e3083215ee9",
   "metadata": {},
   "outputs": [],
   "source": [
    "round(accuracy_score(y_test_scale_pca, nb.predict(x_test_scale_pca)),2)*100"
   ]
  },
  {
   "cell_type": "code",
   "execution_count": null,
   "id": "48c70acf-663c-4fd9-9e85-a00ed1198a4c",
   "metadata": {},
   "outputs": [],
   "source": [
    "knn.fit(x_train_scale_pca, y_train_scale_pca)\n",
    "knn.score(x_train_scale_pca, y_train_scale_pca)"
   ]
  },
  {
   "cell_type": "code",
   "execution_count": null,
   "id": "59aa0939-fe03-49aa-839c-32c73ce2594f",
   "metadata": {},
   "outputs": [],
   "source": [
    "knn.predict(x_test_scale_pca)"
   ]
  },
  {
   "cell_type": "code",
   "execution_count": null,
   "id": "7fc878ab-e300-4782-9cc9-ef32c8463480",
   "metadata": {},
   "outputs": [],
   "source": [
    "round(accuracy_score(y_test_scale_pca, knn.predict(x_test_scale_pca)),2)*100"
   ]
  },
  {
   "cell_type": "code",
   "execution_count": null,
   "id": "e935f601-6cd0-479b-985f-6db6516bc708",
   "metadata": {},
   "outputs": [],
   "source": [
    "scm.fit(x_train_scale_pca, y_train_scale_pca)\n",
    "scm.score(x_train_scale_pca, y_train_scale_pca)"
   ]
  },
  {
   "cell_type": "code",
   "execution_count": null,
   "id": "1c5d2a7f-e805-4ff2-8963-73463b7bc7e1",
   "metadata": {},
   "outputs": [],
   "source": [
    "scm.predict(x_test_scale_pca)"
   ]
  },
  {
   "cell_type": "code",
   "execution_count": null,
   "id": "d327d712-fc86-4676-ba77-a92eb5339ca7",
   "metadata": {},
   "outputs": [],
   "source": [
    "round(accuracy_score(y_test_scale_pca, scm.predict(x_test_scale_pca)),2)*100"
   ]
  },
  {
   "cell_type": "code",
   "execution_count": null,
   "id": "90749483-3095-4c58-9c35-6d03afec3499",
   "metadata": {},
   "outputs": [],
   "source": [
    "from sklearn.preprocessing import MinMaxScaler, RobustScaler,scale"
   ]
  },
  {
   "cell_type": "code",
   "execution_count": null,
   "id": "76435516-515a-49f1-9445-7f4ebd468db5",
   "metadata": {},
   "outputs": [],
   "source": [
    "data = pd.read_csv(\"train.csv\")\n",
    "data.head()"
   ]
  },
  {
   "cell_type": "code",
   "execution_count": null,
   "id": "71217e4c-197e-4fb3-b12d-464035a3a807",
   "metadata": {},
   "outputs": [],
   "source": [
    "data.sample(n=5)\n"
   ]
  },
  {
   "cell_type": "code",
   "execution_count": null,
   "id": "0911a5fd-15db-4bcf-b191-fe9ded27d42c",
   "metadata": {},
   "outputs": [],
   "source": [
    "data.columns"
   ]
  },
  {
   "cell_type": "code",
   "execution_count": null,
   "id": "f0065567-5451-4030-b54a-6a6a8091460a",
   "metadata": {},
   "outputs": [],
   "source": [
    "data.describe()"
   ]
  },
  {
   "cell_type": "code",
   "execution_count": null,
   "id": "a546d8a0-dd89-4899-ab98-2752368cdf1a",
   "metadata": {},
   "outputs": [],
   "source": [
    "data.isna().sum()"
   ]
  },
  {
   "cell_type": "code",
   "execution_count": null,
   "id": "5128c772-4c3d-40c8-87f4-2bbcabf9cc78",
   "metadata": {},
   "outputs": [],
   "source": [
    "data.isna().sum()[data.isna().sum()!= 0]"
   ]
  },
  {
   "cell_type": "code",
   "execution_count": null,
   "id": "bb823aba-d631-4740-9e3b-f7ac12f610e0",
   "metadata": {},
   "outputs": [],
   "source": [
    "data.isna().sum()!= 0"
   ]
  },
  {
   "cell_type": "code",
   "execution_count": null,
   "id": "d5652d9f-b275-4316-a7d5-ec2230392269",
   "metadata": {},
   "outputs": [],
   "source": [
    "data.Sex.value_counts()"
   ]
  },
  {
   "cell_type": "code",
   "execution_count": null,
   "id": "eadacf63-f393-4052-84b1-731e27c91a0e",
   "metadata": {},
   "outputs": [],
   "source": [
    "data.Embarked.value_counts()"
   ]
  },
  {
   "cell_type": "code",
   "execution_count": null,
   "id": "cdc1382a-e772-44eb-aa53-946256dee0df",
   "metadata": {},
   "outputs": [],
   "source": [
    "data.Survived.value_counts()"
   ]
  },
  {
   "cell_type": "code",
   "execution_count": null,
   "id": "1c676cd4-3b54-4dc3-944e-d336abd9a3dd",
   "metadata": {},
   "outputs": [],
   "source": [
    "data.Pclass.value_counts()"
   ]
  },
  {
   "cell_type": "code",
   "execution_count": null,
   "id": "b22b6b91-e350-4911-9d4d-894164e13fa9",
   "metadata": {},
   "outputs": [],
   "source": [
    "male =data[data['Sex']== 'male']\n",
    "male"
   ]
  },
  {
   "cell_type": "code",
   "execution_count": null,
   "id": "229608cc-4584-4a3d-b62e-347e28c5fed6",
   "metadata": {},
   "outputs": [],
   "source": [
    "male.Sex.value_counts()"
   ]
  },
  {
   "cell_type": "code",
   "execution_count": null,
   "id": "7f27abb6-fb86-4c0d-a133-b78c708e9476",
   "metadata": {},
   "outputs": [],
   "source": [
    "female =data[data['Sex']== 'female']\n",
    "female"
   ]
  },
  {
   "cell_type": "code",
   "execution_count": null,
   "id": "b6351096-6104-4192-ad2e-f0939dac0f4c",
   "metadata": {},
   "outputs": [],
   "source": [
    "female.Sex.value_counts()"
   ]
  },
  {
   "cell_type": "code",
   "execution_count": null,
   "id": "41da2570-fcc0-4740-95b8-4052f34d8b01",
   "metadata": {},
   "outputs": [],
   "source": [
    "female_class3 = data[(data['Sex']== 'female')&(data['Pclass'] == 3) & (data['Embarked'] == 'C')]\n",
    "female_class3.head()"
   ]
  },
  {
   "cell_type": "code",
   "execution_count": null,
   "id": "6857b3ad-cd53-474f-a665-36911ad427ab",
   "metadata": {
    "scrolled": true
   },
   "outputs": [],
   "source": [
    "#female_class3S = female[data['Pclass'] == 3] and data['Embarked'] == 'S']\n",
    "#female_class3S\n",
    "female_class3S = female[(female['Pclass'] == 3) & (female['Embarked'] == 'S')]\n",
    "female_class3S"
   ]
  },
  {
   "cell_type": "code",
   "execution_count": null,
   "id": "1d3edc70-698b-4d3e-bac1-ba9ac228bf87",
   "metadata": {},
   "outputs": [],
   "source": [
    "male['Age'].mean()"
   ]
  },
  {
   "cell_type": "code",
   "execution_count": null,
   "id": "33ddeb24-3573-4429-8898-93a2e465f2d7",
   "metadata": {},
   "outputs": [],
   "source": [
    "female['Age'].mean()"
   ]
  },
  {
   "cell_type": "code",
   "execution_count": null,
   "id": "64bcd431-ca98-49f5-bf77-5cf26a024686",
   "metadata": {},
   "outputs": [],
   "source": [
    "data.Age.mean()"
   ]
  },
  {
   "cell_type": "code",
   "execution_count": null,
   "id": "fcfaa0d6-1e49-4bce-9808-e8d805bb42ec",
   "metadata": {},
   "outputs": [],
   "source": [
    "#to ignore warnings\n",
    "#import warnings\n",
    "#warnings.filterwarnings('ignore')"
   ]
  },
  {
   "cell_type": "code",
   "execution_count": null,
   "id": "388317b2-c57b-48c3-bfc4-09a786c325c7",
   "metadata": {},
   "outputs": [],
   "source": [
    "avg_sex_age = data.groupby('Sex')['Age'].mean()\n",
    "avg_sex_age"
   ]
  },
  {
   "cell_type": "code",
   "execution_count": null,
   "id": "490deee7-6118-44ec-bab8-9a750cede77a",
   "metadata": {},
   "outputs": [],
   "source": [
    "avg_sex_age.reset_index()"
   ]
  },
  {
   "cell_type": "code",
   "execution_count": null,
   "id": "fc8f9a43-fac3-4a54-af43-ac1caf9e06da",
   "metadata": {},
   "outputs": [],
   "source": [
    "avg_age_embarked = data.groupby(['Sex','Embarked'])['Age'].mean().round().reset_index()\n",
    "avg_age_embarked"
   ]
  },
  {
   "cell_type": "code",
   "execution_count": null,
   "id": "5821d327-da49-4d6b-bbf8-0b3815faeffd",
   "metadata": {},
   "outputs": [],
   "source": [
    "avg_age_embarked = data.groupby(['Sex','Embarked'])['Age'].size().reset_index()\n",
    "avg_age_embarked"
   ]
  },
  {
   "cell_type": "code",
   "execution_count": null,
   "id": "9aafde50-b517-45fc-bc0c-57665b50b40e",
   "metadata": {},
   "outputs": [],
   "source": [
    "avg_age_embarked = data.groupby('Sex')['Age'].max().reset_index()\n",
    "avg_age_embarked"
   ]
  },
  {
   "cell_type": "code",
   "execution_count": null,
   "id": "1fb10775-d1ce-415b-b354-cf4f5f64ee17",
   "metadata": {},
   "outputs": [],
   "source": [
    "avg_age_embarked = data.groupby('Sex')['Age'].min().reset_index()\n",
    "avg_age_embarked"
   ]
  },
  {
   "cell_type": "code",
   "execution_count": null,
   "id": "083c9623-5fb0-4062-bd14-40e336dedbd1",
   "metadata": {},
   "outputs": [],
   "source": [
    "data[data.Age == data.Age.max()]"
   ]
  },
  {
   "cell_type": "code",
   "execution_count": null,
   "id": "8b05de60-4ee8-410c-a1c7-e900769d6c3e",
   "metadata": {},
   "outputs": [],
   "source": [
    "data.Age.argmin()"
   ]
  },
  {
   "cell_type": "code",
   "execution_count": null,
   "id": "d5e76de0-2d10-4a03-b286-73f348906c95",
   "metadata": {},
   "outputs": [],
   "source": [
    "data.Name[803]"
   ]
  },
  {
   "cell_type": "code",
   "execution_count": null,
   "id": "8283678d-e9fa-4c48-affd-7214c295b68e",
   "metadata": {},
   "outputs": [],
   "source": [
    "data.Cabin.unique()"
   ]
  },
  {
   "cell_type": "code",
   "execution_count": null,
   "id": "b018d444-ad0f-42d3-a79c-01e39806da61",
   "metadata": {},
   "outputs": [],
   "source": [
    "data.Cabin.dtypes"
   ]
  },
  {
   "cell_type": "code",
   "execution_count": null,
   "id": "04ffc46d-5a2c-4360-8444-704bf69186d5",
   "metadata": {},
   "outputs": [],
   "source": [
    "data['cabin'] = data['Cabin'].astype(str).str[0]\n",
    "data.head()"
   ]
  },
  {
   "cell_type": "code",
   "execution_count": null,
   "id": "6dbc4b78-15a8-42b1-b454-a888d3ff499a",
   "metadata": {},
   "outputs": [],
   "source": [
    "#data['Name'] = data.Name.str.extract(' ([A-Za-z]+\\.)',expand = False)didnt remove the full stop\n",
    "data['Name'] = data.Name.str.extract(' ([A-Za-z]+)\\.',expand = False)\n",
    "data.head()"
   ]
  },
  {
   "cell_type": "code",
   "execution_count": null,
   "id": "9f7cbc3a-f7a5-4297-babf-68f3a8b956ce",
   "metadata": {},
   "outputs": [],
   "source": [
    "data.Name.value_counts()"
   ]
  },
  {
   "cell_type": "code",
   "execution_count": null,
   "id": "a64af0db-9a81-48ac-8dd7-b31e006dbeb3",
   "metadata": {},
   "outputs": [],
   "source": [
    "mapping = {\n",
    "    'Mr' : 0,\n",
    "    'Miss': 1,\n",
    "    'Mrs': 2,\n",
    "    'Master': 4,\n",
    "    'Dr': 3,\n",
    "    'Rev': 3,\n",
    "    'Mlle' : 3,   \n",
    "    'Major':3,       \n",
    "    'Col': 3 ,          \n",
    "    'Countess': 2,      \n",
    "    'Capt': 3          \n",
    "     'Ms' : 1           \n",
    "     'Sir': 0           \n",
    "    'Lady': 2          \n",
    "    'Mme' : 3           \n",
    "    'Don' : 3          \n",
    "    'Jonkheer': 3      \n",
    "}"
   ]
  },
  {
   "cell_type": "code",
   "execution_count": null,
   "id": "c67a0220-0207-491f-8d0d-e892e217df59",
   "metadata": {},
   "outputs": [],
   "source": []
  }
 ],
 "metadata": {
  "kernelspec": {
   "display_name": "Python 3 (ipykernel)",
   "language": "python",
   "name": "python3"
  },
  "language_info": {
   "codemirror_mode": {
    "name": "ipython",
    "version": 3
   },
   "file_extension": ".py",
   "mimetype": "text/x-python",
   "name": "python",
   "nbconvert_exporter": "python",
   "pygments_lexer": "ipython3",
   "version": "3.11.7"
  }
 },
 "nbformat": 4,
 "nbformat_minor": 5
}
